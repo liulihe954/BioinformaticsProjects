{
 "cells": [
  {
   "cell_type": "code",
   "execution_count": 1,
   "metadata": {},
   "outputs": [],
   "source": []
  },
  {
   "cell_type": "code",
   "execution_count": 9,
   "metadata": {},
   "outputs": [],
   "source": [
    "import os\n",
    "import math\n",
    "\n",
    "class MEMEoops:\n",
    "    \"\"\"Abstract base class for learning motif using MEME oops model.\n",
    "\n",
    "    A functional class defines some basic methods: raw input data processing, generalization of E step and M step,\n",
    "    selecting the best candidate motif/starting point and several other helper functions.\n",
    "    \"\"\"\n",
    "    def __init__(self,input_path,W,model=\"OOPS\"):\n",
    "        \"\"\"Constructor that takes in model parameters\"\"\"\n",
    "        self.input_path = input_path\n",
    "        self.W = W\n",
    "        self.model = model\n",
    "        self.best_candidate = None\n",
    "        self.best_candidate_loglikeli = None\n",
    "        self.init_pwm = None\n",
    "        self.init_z = None\n",
    "        self.starting_pwm = None\n",
    "        \n",
    "    def enum_candidate(self):\n",
    "        \"\"\"Given a list of sequences, enumerate all possible motif candidates by exhaustively going\n",
    "        over each possible position in all sequences.\n",
    "        \"\"\"\n",
    "        assert self.model.upper() == \"OOPS\",\"Please provide valid model name. Note OOPS is the only model available at this time point.\"\n",
    "        ##\n",
    "        seq_list = []\n",
    "        candidate_list = []\n",
    "        with open(os.path.join(self.input_path)) as f:\n",
    "            lines = f.readlines()\n",
    "            for line in lines:\n",
    "                tmp_seq = line.strip()\n",
    "                seq_list.append(tmp_seq)\n",
    "                for i in range(len(tmp_seq)- self.W + 1):\n",
    "                    candidate_list.append(tmp_seq[i:i + self.W])\n",
    "        # save seq_list and candidate_list and char count\n",
    "        self.seq_list = seq_list\n",
    "        self.candidate_list = list(set(candidate_list))\n",
    "        #\n",
    "        char_count = {\"A\":0,\"C\":0,\"G\":0,\"T\":0}\n",
    "        for i in self.seq_list:\n",
    "            for g in i:\n",
    "                if g in \"ACGT\":\n",
    "                    char_count[g]+=1\n",
    "                else:\n",
    "                    print(\"Invalid sequence detected.\")\n",
    "                    break\n",
    "                    return None\n",
    "                \n",
    "        self.char_count = char_count\n",
    "        #return (seq_list,list(set(candidate)))\n",
    "        \n",
    "    def init_pnz(self,candidate_motif,row_name = \"ACGT\",pi=0.7):\n",
    "        \"\"\"Initialize a pwm for a given motif candidate.\n",
    "        \n",
    "        Args:\n",
    "            candidate_motif: the pwm for a given motif candidate\n",
    "            row_names: all possible characters in order, default \"ACGT\"\n",
    "            pi: the initial probablity for the dominate character, default: 0.7\n",
    "        Returns:\n",
    "            save the initial pwm and initial z matrix as instance attributes\n",
    "        \"\"\"\n",
    "        for c in candidate_motif:\n",
    "            assert c in \"ACGT\"\n",
    "        # pwm init\n",
    "        pwm = {row_name[0]:[0] * (len(candidate_motif)+1),\n",
    "               row_name[1]:[0] * (len(candidate_motif)+1),\n",
    "               row_name[2]:[0] * (len(candidate_motif)+1),\n",
    "               row_name[3]:[0] * (len(candidate_motif)+1)}\n",
    "        pwm[row_name[0]][0] = pwm[row_name[1]][0] = pwm[row_name[2]][0] = pwm[row_name[3]][0] = 0.25\n",
    "        for i in range(0,len(candidate_motif)):\n",
    "            for j in row_name:\n",
    "                if j == candidate_motif[i]:\n",
    "                    pwm[j][i+1] = pi\n",
    "                else:\n",
    "                    pwm[j][i+1] = round((1-pi)/(len(row_name)-1),5)\n",
    "        # z init\n",
    "        z = []\n",
    "        for k in range(len(self.seq_list)):\n",
    "            z.append([0.25] * self.W)\n",
    "            \n",
    "        # save init_z and init_pwm\n",
    "        self.init_pwm = pwm\n",
    "        self.init_z = z\n",
    "    \n",
    "    ##############################\n",
    "    ### E: reestimate z with p ###\n",
    "    ##############################\n",
    "    def E(self,pwm):\n",
    "        \"\"\" The E step - reestimate z matrix (t) using a input pwm (t-1)\n",
    "        \n",
    "        Args:\n",
    "            pwm: the pwm at time (t-1)\n",
    "            \n",
    "        Returns:\n",
    "            save the reestimated z matrix (t) in the instance field\n",
    "        \"\"\"\n",
    "        if self.init_pwm is None:\n",
    "            print(\"Please run picking_starting_point() to pick a starting postion first.\")\n",
    "            pass\n",
    "        else:\n",
    "            z_new = []\n",
    "            for i in range(len(self.seq_list)):\n",
    "                tmp_seq = self.seq_list[i]\n",
    "                tmp_z_row = [0] * (len(tmp_seq)- self.W + 1)\n",
    "                for j in range(len(tmp_z_row)):\n",
    "                    tmp_z_row[j] = self.seq_prob_helper(tmp_seq, pwm,j)\n",
    "                z_new.append(self.z_normalize_helper(tmp_z_row))\n",
    "            #\n",
    "            self.cur_z = z_new\n",
    "\n",
    "        \n",
    "    def z_normalize_helper(self,tmp_z_row):\n",
    "        \"\"\"A helper function to normalize a raw newly updated Z matrix by row (let the row sum up to 1).\n",
    "        Args:\n",
    "            tmp_z_row: the z matrix to normlaize  \n",
    "        Returns:\n",
    "            a normalized z matrix\n",
    "        \"\"\"\n",
    "        total = 0\n",
    "        for v in tmp_z_row:\n",
    "            total+=v\n",
    "        return [z/total for z in tmp_z_row]\n",
    "\n",
    "    def seq_prob_helper(self, individual_seq,pwm,j):\n",
    "        \"\"\" A helper function to calcualte the probablity of observing a given sequence with the motif (of length W)\n",
    "            starting at position j.\n",
    "        Args:\n",
    "            individual_seq: the input sequence \n",
    "            pwm: the current pwm \n",
    "            j: the target starting position of the motif (of length W)\n",
    "        Returns:\n",
    "            a probablity\n",
    "        \"\"\"\n",
    "        multiply = 1\n",
    "        t = 0\n",
    "        for p in range(len(individual_seq)):\n",
    "            if p >= j and p <= j + self.W - 1:\n",
    "                t+=1\n",
    "                multiply = multiply * pwm[individual_seq[p]][t]\n",
    "            else:   \n",
    "                multiply = multiply * pwm[individual_seq[p]][0]\n",
    "        return multiply\n",
    "    \n",
    "    ##############################\n",
    "    ### M: reestimate p with z ###\n",
    "    ##############################\n",
    "    def M(self,z,sudo_count = 1, row_name = \"ACGT\"):\n",
    "        \"\"\" The M step: using the current Z matrix to reestimate the pwm\n",
    "        Args:\n",
    "            z: the current z matrix\n",
    "            sudo_count: sudo count to add\n",
    "            row_name: all possible characters in order, default \"ACGT\"\n",
    "        Returns:\n",
    "            save the reestimated pwm to instance field\n",
    "        \"\"\"\n",
    "        #\n",
    "        assert len(self.seq_list) == len(z)\n",
    "        #\n",
    "        new_pwm = {row_name[0]:[0] * (self.W + 1),\n",
    "                   row_name[1]:[0] * (self.W + 1),\n",
    "                   row_name[2]:[0] * (self.W + 1),\n",
    "                   row_name[3]:[0] * (self.W + 1)}\n",
    "        \n",
    "        # accumulate observed z (allocate to each position)\n",
    "        for seq_tmp_idx in range(len(self.seq_list)):\n",
    "            seq_tmp = self.seq_list[seq_tmp_idx]\n",
    "            for j in range(len(seq_tmp)- self.W + 1):\n",
    "                motif_tmp = seq_tmp[j:(j + self.W)]\n",
    "                for k in range(len(motif_tmp)):\n",
    "                    tmp_char = motif_tmp[k]\n",
    "                    #print(\"now fou : \" + tmp_char)\n",
    "                    new_pwm[tmp_char][k+1] += z[seq_tmp_idx][j]\n",
    "\n",
    "        # calculate background\n",
    "        for c in row_name:\n",
    "            tmp = new_pwm[c]\n",
    "            new_pwm[c][0] = self.char_count[c] - sum(new_pwm[c][1:])\n",
    "            \n",
    "        # normalize\n",
    "        new_pwm_norm = self.normlize_pwd(new_pwm)\n",
    "        \n",
    "        #\n",
    "        self.cur_pwm = new_pwm_norm\n",
    "        \n",
    "    #\n",
    "    def normlize_pwd(self,pwm,row_name = \"ACGT\"):\n",
    "        \"\"\" A helper method to normalize a pwm by column\n",
    "        Args:\n",
    "            pwm: the input pwm to normalize\n",
    "        Returns:\n",
    "            A normllized pwm\n",
    "        \"\"\"\n",
    "        assert len(pwm) == 4\n",
    "        for i in range(self.W + 1):\n",
    "            tmp_sum = 4 + pwm[row_name[0]][i] + pwm[row_name[1]][i] + pwm[row_name[2]][i] + pwm[row_name[3]][i]\n",
    "            for c in row_name:\n",
    "                pwm[c][i]  = round((1+pwm[c][i])/tmp_sum,5)\n",
    "        return pwm\n",
    "    \n",
    "    ########################################################\n",
    "    ### likelihold: calculate likelihold using updated P ###\n",
    "    ########################################################\n",
    "    def obtain_likelihood(self):\n",
    "        \"\"\" Calculate the current log_e(probablity) of observing all the sequence using current pwm\n",
    "        \"\"\"\n",
    "        #\n",
    "        log_prob_accum = 0\n",
    "        for i in range(len(self.seq_list)): # each seq\n",
    "            tmp_seq = self.seq_list[i]\n",
    "            tmp_prob = 0\n",
    "            for j in range(len(tmp_seq)- self.W + 1):\n",
    "                tmp_prob += self.seq_prob_helper(tmp_seq,self.cur_pwm,j)\n",
    "            #\n",
    "            log_prob_accum += math.log(tmp_prob/len(self.seq_list))\n",
    "        #\n",
    "        return log_prob_accum\n",
    "    \n",
    "    ##############################\n",
    "    ### picking starting point: ###\n",
    "    ##############################\n",
    "    def picking_starting_point(self):\n",
    "        \"\"\" A helper function to iterate over all possible motif candidates and select the one \n",
    "            with minimal log_e likelihood\n",
    "        \"\"\"\n",
    "        if not self.best_candidate == None:\n",
    "            print(\"Starting point already exists: thus passing\")\n",
    "            pass\n",
    "        else:\n",
    "            print(\"Total number of candidate: \", len(self.candidate_list))\n",
    "            for candidate in self.candidate_list:\n",
    "                self.init_pnz(candidate)\n",
    "                self.E(self.init_pwm)\n",
    "                self.M(self.cur_z)\n",
    "                tmp_likelihood = self.obtain_likelihood()\n",
    "                if self.best_candidate_loglikeli is None or tmp_likelihood > self.best_candidate_loglikeli:\n",
    "                    self.best_candidate = candidate\n",
    "                    self.best_candidate_loglikeli = tmp_likelihood  \n",
    "                    self.starting_pwm = self.init_pwm \n",
    "            #\n",
    "            print(\"The best candidate is : \", self.best_candidate)\n",
    "            print(\"The corresponding likelihood is : \", self.best_candidate_loglikeli)\n"
   ]
  },
  {
   "cell_type": "code",
   "execution_count": 4,
   "metadata": {},
   "outputs": [
    {
     "name": "stdout",
     "output_type": "stream",
     "text": [
      "Total number of candidate:  239\n",
      "The best candidate is :  ATCC\n",
      "The corresponding likelihood is :  -1367.374319162761\n"
     ]
    }
   ],
   "source": [
    "test1 = MEMEoops(\"example1.txt\",W = 4)\n",
    "test1.enum_candidate()\n",
    "test1.picking_starting_point()"
   ]
  },
  {
   "cell_type": "code",
   "execution_count": null,
   "metadata": {},
   "outputs": [],
   "source": [
    "test6 = MEMEoops(\"example2.txt\",W = 10)\n",
    "test6.enum_candidate()\n",
    "test6.picking_starting_point()"
   ]
  },
  {
   "cell_type": "code",
   "execution_count": null,
   "metadata": {},
   "outputs": [],
   "source": [
    "# select candidate\n",
    "W = 5\n",
    "\n",
    "def select_candidate(input_path,W):\n",
    "    seq = []\n",
    "    candidate = []\n",
    "    with open(os.path.join(input_path)) as f:\n",
    "        lines = f.readlines()\n",
    "        for line in lines:\n",
    "            #print(line)\n",
    "            tmp_seq = line.strip()\n",
    "            \n",
    "            # save all training seqs for ref\n",
    "            seq.append(tmp_seq)\n",
    "            \n",
    "            # take one line each time and enumerate motif candidates \n",
    "            for i in range(len(tmp_seq)- W + 1):\n",
    "                #print(tmp_seq[i:i+W])\n",
    "                candidate.append(tmp_seq[i:i+W])\n",
    "                \n",
    "    return (seq,list(set(candidate)))\n",
    "\n",
    "test_seq, test_candidate = select_candidate(\"example1.txt\",W)"
   ]
  },
  {
   "cell_type": "code",
   "execution_count": null,
   "metadata": {},
   "outputs": [],
   "source": [
    "select_candidate(\"example1.txt\",5)\n",
    "print(len(test_seq))\n",
    "print(len(test_candidate))\n",
    "#print(len(test_candidate))\n",
    "#test_candidate\n",
    "\"CACAT\" in test_candidate"
   ]
  },
  {
   "cell_type": "code",
   "execution_count": null,
   "metadata": {},
   "outputs": [],
   "source": [
    "# init_pwm\n",
    "def init_pnz(W,pi,candidate_motif,num_seq,row_name = \"ACGT\"):\n",
    "    for c in candidate_motif:\n",
    "        assert c in \"ACGT\"\n",
    "    # pwm init\n",
    "    pwm = {row_name[0]:[0] * (len(candidate_motif)+1),\n",
    "           row_name[1]:[0] * (len(candidate_motif)+1),\n",
    "           row_name[2]:[0] * (len(candidate_motif)+1),\n",
    "           row_name[3]:[0] * (len(candidate_motif)+1)}\n",
    "    pwm[row_name[0]][0] = pwm[row_name[1]][0] = pwm[row_name[2]][0] = pwm[row_name[3]][0] = 0.25\n",
    "    for i in range(0,len(candidate_motif)):\n",
    "        for j in row_name:\n",
    "            if j == candidate_motif[i]:\n",
    "                pwm[j][i+1] = pi\n",
    "            else:\n",
    "                pwm[j][i+1] = round((1-pi)/(len(row_name)-1),5)\n",
    "    # z init\n",
    "    z = []\n",
    "    for k in range(num_seq):\n",
    "        z.append([0.25] * W)\n",
    "    return (pwm,z)"
   ]
  },
  {
   "cell_type": "code",
   "execution_count": null,
   "metadata": {},
   "outputs": [],
   "source": [
    "test_pwm, test_z = init_pnz(W,0.7,\"CACAT\",len(test_seq))\n",
    "\n",
    "test_pwm"
   ]
  },
  {
   "cell_type": "code",
   "execution_count": null,
   "metadata": {},
   "outputs": [],
   "source": [
    "### E: reestimate z with p\n",
    "# \n",
    "def z_normalize_helper(tmp_z_row):\n",
    "    total = 0\n",
    "    for v in tmp_z_row:\n",
    "        total+=v\n",
    "    return [z/total for z in tmp_z_row]\n",
    "#\n",
    "def seq_prob_helper(seq,pwm,W,j):\n",
    "    multiply = 1\n",
    "    t = 0\n",
    "    for p in range(len(seq)):\n",
    "        #print(p,j+W-1)\n",
    "        if p >= j and p <= j+W-1:\n",
    "            t+=1\n",
    "            multiply = multiply * pwm[seq[p]][t]\n",
    "        else:   \n",
    "            multiply = multiply * pwm[seq[p]][0]\n",
    "    return multiply\n",
    "\n",
    "def seq_prob_helper_c(seq,pwm,W,j):\n",
    "    multiply = 1\n",
    "    t = 0\n",
    "    for p in range(len(seq)):\n",
    "        if p >= j and p <= j+W-1:\n",
    "            t+=1\n",
    "            print(pwm[seq[p]][t])\n",
    "            multiply = multiply * pwm[seq[p]][t]\n",
    "        else:   \n",
    "            print(pwm[seq[p]][0])\n",
    "            multiply = multiply * pwm[seq[p]][0]\n",
    "    print()\n",
    "    return multiply\n",
    "\n",
    "## \n",
    "def E(seq, pwm, W):\n",
    "    z_new = []\n",
    "    for i in range(len(seq)):\n",
    "        tmp_seq = seq[i]\n",
    "        tmp_z_row = [0] * (len(tmp_seq)-W+1)\n",
    "        for j in range(len(tmp_z_row)):\n",
    "            tmp_z_row[j] = seq_prob_helper(tmp_seq,pwm,W,j)\n",
    "#             if i == 49:\n",
    "#                 tmp_z_row[j] = seq_prob_helper_c(tmp_seq,pwm,W,j)\n",
    "#             else:    \n",
    "#                 tmp_z_row[j] = seq_prob_helper(tmp_seq,pwm,W,j)\n",
    "            \n",
    "        z_new.append(z_normalize_helper(tmp_z_row))\n",
    "        #z_new.append(tmp_z_row)\n",
    "        \n",
    "    return z_new"
   ]
  },
  {
   "cell_type": "code",
   "execution_count": null,
   "metadata": {},
   "outputs": [],
   "source": [
    "# CACAT\n",
    "test_seq[-1]"
   ]
  },
  {
   "cell_type": "code",
   "execution_count": null,
   "metadata": {},
   "outputs": [],
   "source": [
    "test_pwm"
   ]
  },
  {
   "cell_type": "code",
   "execution_count": null,
   "metadata": {},
   "outputs": [],
   "source": [
    "# For motif: CACAT\n",
    "# GGGGTTTAGCCCTTC     C     G     C     G     T\n",
    "0.25**15 *           0.1 * 0.1 * 0.1 * 0.1 * 0.7"
   ]
  },
  {
   "cell_type": "code",
   "execution_count": null,
   "metadata": {},
   "outputs": [],
   "source": [
    "#test_output_z = E(test_seq,test_pwm,5)"
   ]
  },
  {
   "cell_type": "code",
   "execution_count": null,
   "metadata": {},
   "outputs": [],
   "source": [
    "### M: reestimate p with z\n",
    "def count_char_helper(seq):\n",
    "    char_count = {\"A\":0,\"C\":0,\"G\":0,\"T\":0}\n",
    "    for i in seq:\n",
    "        for g in i:\n",
    "            if g in \"ACGT\":\n",
    "                char_count[g]+=1\n",
    "            else:\n",
    "                print(\"Invalid sequence detected.\")\n",
    "                break\n",
    "                return None\n",
    "    return char_count\n",
    "char_count = count_char_helper(test_seq)\n",
    "\n",
    "#\n",
    "def normlize_pwd(pwm,W,row_name = \"ACGT\"):\n",
    "    assert len(pwm) == 4\n",
    "    for i in range(W+1):\n",
    "        tmp_sum = pwm[row_name[0]][i] + pwm[row_name[1]][i] + pwm[row_name[2]][i] + pwm[row_name[3]][i]\n",
    "        for c in row_name:\n",
    "            pwm[c][i]  = round(pwm[c][i]/tmp_sum,5)\n",
    "    return pwm\n",
    "\n",
    "#\n",
    "def M(seq, z, W, sudo_count = 1, row_name = \"ACGT\"):\n",
    "    assert len(seq) == len(z)\n",
    "    #\n",
    "    new_pwm = {row_name[0]:[0] * (W+1),\n",
    "               row_name[1]:[0] * (W+1),\n",
    "               row_name[2]:[0] * (W+1),\n",
    "               row_name[3]:[0] * (W+1)}\n",
    "    # sum z\n",
    "\n",
    "    #\n",
    "    # accumulate observed z (allocate to each position)\n",
    "    for seq_tmp_idx in range(len(seq)):\n",
    "        seq_tmp = seq[seq_tmp_idx]\n",
    "        for j in range(len(seq_tmp)-W+1):\n",
    "            motif_tmp = seq_tmp[j:(j+W)]\n",
    "            for k in range(len(motif_tmp)):\n",
    "                tmp_char = motif_tmp[k]\n",
    "                #print(\"now fou : \" + tmp_char)\n",
    "                new_pwm[tmp_char][k+1] += z[seq_tmp_idx][j]\n",
    "    \n",
    "    # get backgound count\n",
    "    char_count = count_char_helper(seq)\n",
    "    \n",
    "    # calculate background\n",
    "    for c in row_name:\n",
    "        tmp = new_pwm[c]\n",
    "        new_pwm[c][0] = char_count[c] - sum(new_pwm[c][1:])\n",
    "    \n",
    "    # normalize\n",
    "    new_pwm_norm = normlize_pwd(new_pwm,W)\n",
    "    \n",
    "    return new_pwm_norm  \n",
    "    \n",
    "\n",
    "M(test_seq,test_output_z,5)\n",
    "#test_output_z[:1]\n"
   ]
  },
  {
   "cell_type": "code",
   "execution_count": null,
   "metadata": {},
   "outputs": [],
   "source": [
    "# calculate likelihold using updated P\n",
    "def seq_prob_helper(seq,pwm,W,j):\n",
    "    multiply = 1\n",
    "    t = 0\n",
    "    for p in range(len(seq)):\n",
    "        #print(p,j+W-1)\n",
    "        if p >= j and p <= j+W-1:\n",
    "            t+=1\n",
    "            multiply = multiply * pwm[seq[p]][t]\n",
    "        else:   \n",
    "            multiply = multiply * pwm[seq[p]][0]\n",
    "    return multiply\n",
    "\n",
    "def obtain_likelihood(seq,pwm,W):\n",
    "    #\n",
    "    log_prob_accum = 0\n",
    "    for i in range(len(seq)): # each seq\n",
    "        tmp_seq = seq[i]\n",
    "        tmp_prob = 0\n",
    "        for j in range(len(tmp_seq)-W+1):\n",
    "            tmp_prob += seq_prob_helper(tmp_seq,pwm,W,j)\n",
    "        #\n",
    "        log_prob_accum += math.log(tmp_prob/len(seq))\n",
    "    #\n",
    "    return log_prob_accum"
   ]
  },
  {
   "cell_type": "code",
   "execution_count": null,
   "metadata": {},
   "outputs": [],
   "source": [
    "obtain_likelihood(test_seq,test_pwm,5)"
   ]
  },
  {
   "cell_type": "code",
   "execution_count": null,
   "metadata": {},
   "outputs": [],
   "source": [
    "def get_EM_starting_point(seq_list,candidate_list,W,pi):\n",
    "    highest_log = None\n",
    "    highest_candide= \"\"\n",
    "    pwm_choosen = None\n",
    "    #\n",
    "    for candidate in candidate_list:\n",
    "        tmp_pwm,tmp_z = init_pnz(W,pi,candidate,len(seq_list))\n",
    "        \n",
    "        tmp_log = obtain_likelihood(seq_list,tmp_pwm,W)\n",
    "        #\n",
    "        if highest_log is None or tmp_log > highest_log:\n",
    "            highest_log = tmp_log\n",
    "            highest_candide = candidate\n",
    "            pwm_choosen =tmp_pwm\n",
    "    return pwm_choosen,highest_candide,highest_log\n"
   ]
  },
  {
   "cell_type": "code",
   "execution_count": null,
   "metadata": {},
   "outputs": [],
   "source": [
    "get_EM_starting_point(test_seq,test_candidate,5,0.7)"
   ]
  },
  {
   "cell_type": "code",
   "execution_count": 1,
   "metadata": {},
   "outputs": [
    {
     "data": {
      "text/plain": [
       "0.3"
      ]
     },
     "execution_count": 1,
     "metadata": {},
     "output_type": "execute_result"
    }
   ],
   "source": [
    "(11 + 1) / (9*4 +4)"
   ]
  },
  {
   "cell_type": "code",
   "execution_count": 3,
   "metadata": {},
   "outputs": [
    {
     "name": "stdout",
     "output_type": "stream",
     "text": [
      "0.225\n",
      "0.325\n",
      "0.15\n"
     ]
    }
   ],
   "source": [
    "print((8 + 1) / (9*4 +4))\n",
    "print((12 + 1) / (9*4 +4))\n",
    "print((5 + 1) / (9*4 +4))"
   ]
  },
  {
   "cell_type": "code",
   "execution_count": 7,
   "metadata": {},
   "outputs": [
    {
     "name": "stdout",
     "output_type": "stream",
     "text": [
      "0.15384615384615385\n",
      "0.3076923076923077\n",
      "0.3076923076923077\n",
      "0.23076923076923078\n"
     ]
    }
   ],
   "source": [
    "print((1+1) / (9+4))\n",
    "print((3+1) / (9+4))\n",
    "print((3+1) / (9+4))\n",
    "print((2+1) / (9+4))"
   ]
  },
  {
   "cell_type": "code",
   "execution_count": 8,
   "metadata": {},
   "outputs": [
    {
     "data": {
      "text/plain": [
       "2.5135137815873874"
      ]
     },
     "execution_count": 8,
     "metadata": {},
     "output_type": "execute_result"
    }
   ],
   "source": [
    "(0.4615* 0.1538* 0.6154* 0.3077) / (0.225* 0.325* 0.325* 0.225)"
   ]
  },
  {
   "cell_type": "code",
   "execution_count": 9,
   "metadata": {},
   "outputs": [
    {
     "data": {
      "text/plain": [
       "0.15707758581662"
      ]
     },
     "execution_count": 9,
     "metadata": {},
     "output_type": "execute_result"
    }
   ],
   "source": [
    "(0.2308 * 0.0769* 0.1538 * 0.3077 )/(0.325* 0.225* 0.225* 0.325)"
   ]
  },
  {
   "cell_type": "code",
   "execution_count": 10,
   "metadata": {
    "scrolled": true
   },
   "outputs": [
    {
     "data": {
      "text/plain": [
       "0.17673142739588513"
      ]
     },
     "execution_count": 10,
     "metadata": {},
     "output_type": "execute_result"
    }
   ],
   "source": [
    "(0.2308* 0.2308 * 0.1538 * 0.1538 )/(0.325* 0.325 * 0.225* 0.3 )"
   ]
  },
  {
   "cell_type": "code",
   "execution_count": 11,
   "metadata": {},
   "outputs": [
    {
     "data": {
      "text/plain": [
       "0.058904094681232505"
      ]
     },
     "execution_count": 11,
     "metadata": {},
     "output_type": "execute_result"
    }
   ],
   "source": [
    "(0.2308 * 0.0769 * 0.0769 * 0.3077  )/(0.325 * 0.225 * 0.3 * 0.325 )"
   ]
  },
  {
   "cell_type": "code",
   "execution_count": 12,
   "metadata": {},
   "outputs": [
    {
     "data": {
      "text/plain": [
       "9.189039201718517"
      ]
     },
     "execution_count": 12,
     "metadata": {},
     "output_type": "execute_result"
    }
   ],
   "source": [
    "(0.4615 *  0.4615* 0.6154 * 0.2307)/(0.225 * 0.3 *  0.325 * 0.15  )"
   ]
  },
  {
   "cell_type": "code",
   "execution_count": 13,
   "metadata": {},
   "outputs": [
    {
     "data": {
      "text/plain": [
       "0.2078114277682698"
      ]
     },
     "execution_count": 13,
     "metadata": {},
     "output_type": "execute_result"
    }
   ],
   "source": [
    "a = 0.1570\n",
    "b = 0.1767\n",
    "c = 0.0589\n",
    "d = 9.1890\n",
    "e = 2.5135\n",
    "e/(a+b+c+d+e)"
   ]
  },
  {
   "cell_type": "code",
   "execution_count": 14,
   "metadata": {},
   "outputs": [
    {
     "data": {
      "text/plain": [
       "0.19230769230769232"
      ]
     },
     "execution_count": 14,
     "metadata": {},
     "output_type": "execute_result"
    }
   ],
   "source": [
    "(1 + 2 + 1 +1) / ((9+4) +(9+4)) "
   ]
  },
  {
   "cell_type": "code",
   "execution_count": 15,
   "metadata": {},
   "outputs": [
    {
     "data": {
      "text/plain": [
       "0.38461538461538464"
      ]
     },
     "execution_count": 15,
     "metadata": {},
     "output_type": "execute_result"
    }
   ],
   "source": [
    "(5 +3 + 1+1) / ((9+4) +(9+4))"
   ]
  },
  {
   "cell_type": "code",
   "execution_count": 16,
   "metadata": {},
   "outputs": [
    {
     "data": {
      "text/plain": [
       "0.2692307692307692"
      ]
     },
     "execution_count": 16,
     "metadata": {},
     "output_type": "execute_result"
    }
   ],
   "source": [
    "(2+ 3 + 1 + 1) / ((9+4) +(9+4))"
   ]
  },
  {
   "cell_type": "code",
   "execution_count": 17,
   "metadata": {},
   "outputs": [
    {
     "data": {
      "text/plain": [
       "0.15384615384615385"
      ]
     },
     "execution_count": 17,
     "metadata": {},
     "output_type": "execute_result"
    }
   ],
   "source": [
    "(1 + 1 + 1 +1) / ((9+4) +(9+4))"
   ]
  },
  {
   "cell_type": "code",
   "execution_count": 18,
   "metadata": {},
   "outputs": [
    {
     "data": {
      "text/plain": [
       "0.3076923076923077"
      ]
     },
     "execution_count": 18,
     "metadata": {},
     "output_type": "execute_result"
    }
   ],
   "source": [
    "(5 + 1 + 1 +1) / ((9+4) +(9+4))"
   ]
  },
  {
   "cell_type": "code",
   "execution_count": 19,
   "metadata": {},
   "outputs": [
    {
     "data": {
      "text/plain": [
       "0.34615384615384615"
      ]
     },
     "execution_count": 19,
     "metadata": {},
     "output_type": "execute_result"
    }
   ],
   "source": [
    "(0 + 7 + 1 +1) / ((9+4) +(9+4))"
   ]
  },
  {
   "cell_type": "code",
   "execution_count": 20,
   "metadata": {},
   "outputs": [
    {
     "data": {
      "text/plain": [
       "0.15384615384615385"
      ]
     },
     "execution_count": 20,
     "metadata": {},
     "output_type": "execute_result"
    }
   ],
   "source": [
    "(1 + 1 + 1 +1) / ((9+4) +(9+4))"
   ]
  },
  {
   "cell_type": "code",
   "execution_count": 21,
   "metadata": {},
   "outputs": [
    {
     "data": {
      "text/plain": [
       "0.19230769230769232"
      ]
     },
     "execution_count": 21,
     "metadata": {},
     "output_type": "execute_result"
    }
   ],
   "source": [
    "(3 + 0 + 1 +1) / ((9+4) +(9+4))"
   ]
  },
  {
   "cell_type": "code",
   "execution_count": 24,
   "metadata": {},
   "outputs": [
    {
     "name": "stdout",
     "output_type": "stream",
     "text": [
      "CTTCTAGAAATG\n",
      "TTTCCGGGAAAT\n",
      "GTTCCGGGAATT\n",
      "TGTCTGGAAATC\n",
      "CTTCTTGGAGAC\n",
      "TTTATTGGAAGA\n",
      "ATTCCGGAAAGA\n",
      "ATGCTGGGAAAT\n",
      "CAGCGGGAAATC\n",
      "ATTATGGATAGA\n",
      "TTGCCGACAACA\n",
      "ATACTGGGAAAC\n",
      "TTTCTGACAATT\n",
      "AGACTGGATAAA\n",
      "CTTCCGGGAAAA\n",
      "TATCCGGGAAAG\n",
      "GTACTGGAAAAC\n",
      "ATTCTGGGAAGT\n",
      "AATCCGGGAGAC\n",
      "GTCCTGACAGAC\n",
      "GTGATAGAAAGT\n",
      "ATACCGGGAAAT\n",
      "CTTCTGACAAGA\n",
      "ATTCCGGAAATG\n",
      "ATGACGACAGAC\n",
      "TTTCTGGGAAAA\n",
      "CTGCTTGGAATT\n",
      "CTTCCGACAACC\n",
      "ATTCTTGGAAAA\n",
      "ATTCTTGATAGA\n",
      "CTTCTTGGAATC\n",
      "TTGCTGGGAATC\n",
      "ATGCTTGGAAAC\n",
      "ATATTGGGAAAC\n",
      "CTACATGGAAGA\n",
      "TTTCCGGAAAAT\n",
      "ATCCTGACAAAC\n",
      "CTTCTTGGAAGC\n",
      "GTTCTTGGAAAT\n",
      "TTTATGGGAAGT\n",
      "CTGCTGACAAAC\n",
      "CATTTGATAAAA\n",
      "TATCTGACAATT\n",
      "CTTCTTGGAAAT\n",
      "ATACTTGATAAA\n",
      "TTTCTTGGAAAC\n",
      "CTGCTGGGAAGT\n",
      "GTTCCGGGAAGC\n",
      "GTTCCGACAATA\n",
      "CTTCAGAGAAAT\n",
      "CTTTCGGGAATC\n",
      "GTGGATAGAAAA\n",
      "CTGCTGGGAAAC\n",
      "CTGCCGGAAAAA\n",
      "CTGCTTGAAAAA\n",
      "CTTCATGGAAAT\n",
      "CTTCCGACAATG\n",
      "TATCTTGGAATC\n",
      "TTGCTGGGAAGA\n",
      "CTTCTGAGAAAG\n",
      "TTGCTGGGAAAA\n",
      "TATCTTGGAAAT\n",
      "CTTCTGACAAAA\n",
      "CTTGATAGAAGA\n",
      "CTGCCAGAAAAG\n",
      "TTTCTTGAAAAT\n",
      "TTTACGGAGATA\n",
      "ATACTGGAAATA\n",
      "CGTATTGAAATG\n",
      "CTTTCGACAAAT\n",
      "CTTCTTGAAAAA\n",
      "CTTATTAGACTT\n",
      "CTTCTTGGAAAC\n",
      "CTGCTGACAAGA\n",
      "GTTCCGACAAGC\n",
      "TTTCCGGGAGAC\n",
      "TATCTTGAAAAA\n",
      "GTGCTGGGAAAC\n",
      "CTTCTTGAAAGA\n",
      "GATATGGGAAGA\n",
      "TATCTGGAAAAC\n",
      "CTTCTGGAAAAG\n",
      "CTTGATAGAAGC\n",
      "GTGCCAAGAAAA\n",
      "CTTCTTGGAACG\n",
      "CTGCCGACAAAA\n",
      "CTTCTGACAAGT\n",
      "CTGCTGGGAAAG\n",
      "TTGTCGGGAATC\n",
      "CTTCTGGGAATC\n",
      "TTGCTGGGAGAC\n",
      "CTATTTGATAAA\n",
      "TTTCTTGGAAAA\n",
      "ATGATAGAAAAA\n",
      "TAGCTGGATAAA\n",
      "CTTCCAAGAAGA\n",
      "CTTCTTAGAAGA\n",
      "ATACCGGGAAAC\n",
      "ATTCCGGGAAAA\n",
      "TTGCTTGGAAAA\n"
     ]
    }
   ],
   "source": [
    "# import os\n",
    "# with open(os.path.join(\"example2_subseqs.txt\")) as f:\n",
    "#     lines = f.readlines()\n",
    "#     for line in lines:\n",
    "#         tmp = line.strip()\n",
    "A = [0.20683, 0.11878, 0.10153, 0.10733, 0.06868, 0.07549, 0.26911, 0.26915, 0.9026, 0.9055,  0.5344,  0.36969]\n",
    "C = [0.40942, 0.0113,  0.02767, 0.78335, 0.29476, 0.01104, 0.0111,  0.17589, 0.01218,0.01571, 0.03985, 0.29997]\n",
    "G = [0.11839, 0.04278, 0.28387, 0.04077, 0.02012, 0.59377, 0.70771, 0.53331, 0.0199, 0.06647, 0.22403, 0.10967]\n",
    "T = [0.26536, 0.82714, 0.58692, 0.06855, 0.61644, 0.3197,  0.01208, 0.02165, 0.06533,0.01232, 0.20171, 0.22067]\n"
   ]
  },
  {
   "cell_type": "code",
   "execution_count": null,
   "metadata": {},
   "outputs": [],
   "source": []
  }
 ],
 "metadata": {
  "kernelspec": {
   "display_name": "Python 3",
   "language": "python",
   "name": "python3"
  },
  "language_info": {
   "codemirror_mode": {
    "name": "ipython",
    "version": 3
   },
   "file_extension": ".py",
   "mimetype": "text/x-python",
   "name": "python",
   "nbconvert_exporter": "python",
   "pygments_lexer": "ipython3",
   "version": "3.8.5"
  }
 },
 "nbformat": 4,
 "nbformat_minor": 4
}
