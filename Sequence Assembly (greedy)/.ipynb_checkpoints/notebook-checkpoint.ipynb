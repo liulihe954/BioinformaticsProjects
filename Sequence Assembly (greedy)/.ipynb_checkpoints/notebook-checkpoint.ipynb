{
 "cells": [
  {
   "cell_type": "markdown",
   "metadata": {
    "nbgrader": {
     "grade": false,
     "grade_id": "cell-b7e70bd885b91622",
     "locked": true,
     "schema_version": 1,
     "solution": false
    }
   },
   "source": [
    "## The greedy algorithm for fragment assembly\n",
    "`greedy_assemble` takes as input a list of read strings and uses the greedy fragment assembly algorithm to output a *single* superstring that contains all reads as substrings. This inplementation use the graph-based (Hamiltonian path) version of the greedy algorithm. We assume that:\n",
    "1. we are assembling a single-stranded sequence and\n",
    "2. that no read is a substring of any other read.\n",
    "\n",
    "To keep things simple, overlaps of any length (including zero) are allowed. \n",
    "\n",
    "In practice, for sequence assembly we would typically require some minimum overlap length.\n",
    "\n",
    "### Tie-breaking criteria\n",
    "\n",
    "For the purpose of making this algorithm deterministic, we must establish tiebreaking criteria for edges in the overlap graph that have the same weight. For two edges with the same weight, we will first choose the edge whose source vertex read is first in lexicographical order. If the source vertices are identical, then we choose the edge whose target vertex read is first in lexicographical order. For example, if e1 = ATCGGA → GGAT and e2 = ATCGGA → GGAA, we will attempt to use edge e2 first because GGAA < GGAT according to lexicographical order."
   ]
  },
  {
   "cell_type": "code",
   "execution_count": 1,
   "metadata": {
    "collapsed": true,
    "nbgrader": {
     "grade": false,
     "grade_id": "cell-11ef4347de632758",
     "locked": false,
     "schema_version": 1,
     "solution": true
    }
   },
   "outputs": [],
   "source": [
    "def greedy_assemble(reads):\n",
    "    \"\"\"Assembles a set of reads using the graph-based greedy algorithm.\n",
    "    \n",
    "    Args:\n",
    "        reads: a list of strings\n",
    "    Returns:\n",
    "        A string that is a superstring of the input reads\n",
    "    \"\"\"\n",
    "    import assemble\n",
    "    return assemble.greedy_assemble(reads)"
   ]
  }
 ],
 "metadata": {
  "celltoolbar": "Create Assignment",
  "kernelspec": {
   "display_name": "Python 3",
   "language": "python",
   "name": "python3"
  },
  "language_info": {
   "codemirror_mode": {
    "name": "ipython",
    "version": 3
   },
   "file_extension": ".py",
   "mimetype": "text/x-python",
   "name": "python",
   "nbconvert_exporter": "python",
   "pygments_lexer": "ipython3",
   "version": "3.8.5"
  }
 },
 "nbformat": 4,
 "nbformat_minor": 2
}
