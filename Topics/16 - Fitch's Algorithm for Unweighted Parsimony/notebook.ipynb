{
 "cells": [
  {
   "cell_type": "markdown",
   "metadata": {
    "nbgrader": {
     "grade": false,
     "grade_id": "cell-9899927f0d8d4b7f",
     "locked": true,
     "schema_version": 1,
     "solution": false
    }
   },
   "source": [
    "# Day 16 notebook\n",
    "\n",
    "The objectives of this notebook are to practice\n",
    "\n",
    "* Fitch's algorithm\n",
    "* Estimating a tree based on parsimony\n",
    "* Reconstructing ancestral sequences based on parsimony"
   ]
  },
  {
   "cell_type": "markdown",
   "metadata": {
    "nbgrader": {
     "grade": false,
     "grade_id": "cell-5e9de512320e1d99",
     "locked": true,
     "schema_version": 1,
     "solution": false
    }
   },
   "source": [
    "## Modules used for this assignment"
   ]
  },
  {
   "cell_type": "code",
   "execution_count": 1,
   "metadata": {
    "collapsed": true,
    "nbgrader": {
     "grade": false,
     "grade_id": "cell-d21b84256c8103fc",
     "locked": true,
     "schema_version": 1,
     "solution": false
    }
   },
   "outputs": [],
   "source": [
    "import toytree # for working with trees\n",
    "import fasta   # for reading alignments stored in FASTA files"
   ]
  },
  {
   "cell_type": "markdown",
   "metadata": {
    "nbgrader": {
     "grade": false,
     "grade_id": "cell-f45aee01a5f4611d",
     "locked": true,
     "schema_version": 1,
     "solution": false
    }
   },
   "source": [
    "## Important Python data structures used in this assignment\n",
    "You should become familiar with how to use two data structures that will be important for implementing the algorithms in this activity.\n",
    "\n",
    "### Sets\n",
    "You have used the Python [set](https://docs.python.org/3/library/stdtypes.html#set-types-set-frozenset) class before, but have perhaps not used the common set operators.  Here are some important ones for this assignment:"
   ]
  },
  {
   "cell_type": "code",
   "execution_count": 2,
   "metadata": {
    "nbgrader": {
     "grade": false,
     "grade_id": "cell-f3a6232cd3692c79",
     "locked": true,
     "schema_version": 1,
     "solution": false
    }
   },
   "outputs": [
    {
     "name": "stdout",
     "output_type": "stream",
     "text": [
      "The intersection of A and B is: {'C'}\n",
      "       The union of A and B is: {'C', 'G', 'A', 'T'}\n"
     ]
    }
   ],
   "source": [
    "A = {'C', 'G', 'T'}\n",
    "B = {'A', 'C'}\n",
    "print(\"The intersection of A and B is:\", A & B)\n",
    "print(\"       The union of A and B is:\", A | B)"
   ]
  },
  {
   "cell_type": "markdown",
   "metadata": {
    "nbgrader": {
     "grade": false,
     "grade_id": "cell-f547db4004cd7092",
     "locked": true,
     "schema_version": 1,
     "solution": false
    }
   },
   "source": [
    "### Toytree trees\n",
    "We have used the [toytree](https://toytree.readthedocs.io/) module for drawing trees, but there is also significant functionality provided by this module for traversing trees and accessing attributes of nodes within trees.  This functionality is contained within the `treenode` attribute of a toytree object.  A reference for all functionality of this object can be found in the [documentation for the ETE Toolkit Master Tree class](http://etetoolkit.org/docs/latest/reference/reference_tree.html).  Below I will highlight the methods and attributes that you will need in this activity.\n",
    "\n",
    "First, here is a tree that we will use in a few examples of this functionality and a function for drawing rooted trees in a convenient way for this activity:"
   ]
  },
  {
   "cell_type": "code",
   "execution_count": 3,
   "metadata": {
    "collapsed": true,
    "nbgrader": {
     "grade": false,
     "grade_id": "cell-7296876b3a07439a",
     "locked": true,
     "schema_version": 1,
     "solution": false
    }
   },
   "outputs": [],
   "source": [
    "def draw_tree_with_internal_labels(t):\n",
    "    \"\"\"Draws the given toytree tree with all nodes labeled to show their names\"\"\"\n",
    "    t.draw(node_labels=t.get_node_values(feature=\"name\", show_root=True, show_tips=True),\n",
    "           tip_labels=False,\n",
    "           use_edge_lengths=False,\n",
    "           orient=\"down\")"
   ]
  },
  {
   "cell_type": "code",
   "execution_count": 4,
   "metadata": {
    "nbgrader": {
     "grade": false,
     "grade_id": "cell-e4658078fa13067b",
     "locked": true,
     "schema_version": 1,
     "solution": false
    },
    "scrolled": true
   },
   "outputs": [
    {
     "data": {
      "text/html": [
       "<div class=\"toyplot\" id=\"t3458dc9f2ee24efeb09c9aaec3d9f4e1\" style=\"text-align:center\"><svg class=\"toyplot-canvas-Canvas\" height=\"250.0px\" id=\"t18204c13a5804add94af44869168b678\" preserveAspectRatio=\"xMidYMid meet\" style=\"background-color:transparent;border-color:#292724;border-style:none;border-width:1.0;fill:rgb(16.1%,15.3%,14.1%);fill-opacity:1.0;font-family:Helvetica;font-size:12px;opacity:1.0;stroke:rgb(16.1%,15.3%,14.1%);stroke-opacity:1.0;stroke-width:1.0\" viewBox=\"0 0 350.0 250.0\" width=\"350.0px\" xmlns=\"http://www.w3.org/2000/svg\" xmlns:toyplot=\"http://www.sandia.gov/toyplot\" xmlns:xlink=\"http://www.w3.org/1999/xlink\"><g class=\"toyplot-coordinates-Cartesian\" id=\"t702396f407a54d198f966ad9775d9ff9\"><clipPath id=\"t231749b7c0544e8891f6bae80a579b84\"><rect height=\"190.0\" width=\"290.0\" x=\"30.0\" y=\"30.0\"></rect></clipPath><g clip-path=\"url(#t231749b7c0544e8891f6bae80a579b84)\"><g class=\"toyplot-mark-Text\" id=\"ted92e06217934471afffab4d19525c62\"><g class=\"toyplot-Series\"></g></g><g class=\"toyplot-mark-Graph\" id=\"t7423f46167114581a13b724ca5355b7e\"><g class=\"toyplot-Edges\"><path d=\"M 268.75 50.0 L 268.75 150.0\" style=\"fill:none;opacity:1;stroke:rgb(14.9%,14.9%,14.9%);stroke-linecap:round;stroke-opacity:1.0;stroke-width:2.0\"></path><path d=\"M 128.125 50.0 L 128.125 100.0\" style=\"fill:none;opacity:1;stroke:rgb(14.9%,14.9%,14.9%);stroke-linecap:round;stroke-opacity:1.0;stroke-width:2.0\"></path><path d=\"M 300.0 150.0 L 300.0 200.0\" style=\"fill:none;opacity:1;stroke:rgb(14.9%,14.9%,14.9%);stroke-linecap:round;stroke-opacity:1.0;stroke-width:2.0\"></path><path d=\"M 237.5 150.0 L 237.5 200.0\" style=\"fill:none;opacity:1;stroke:rgb(14.9%,14.9%,14.9%);stroke-linecap:round;stroke-opacity:1.0;stroke-width:2.0\"></path><path d=\"M 175.0 100.0 L 175.0 200.0\" style=\"fill:none;opacity:1;stroke:rgb(14.9%,14.9%,14.9%);stroke-linecap:round;stroke-opacity:1.0;stroke-width:2.0\"></path><path d=\"M 81.25 100.0 L 81.25 150.0\" style=\"fill:none;opacity:1;stroke:rgb(14.9%,14.9%,14.9%);stroke-linecap:round;stroke-opacity:1.0;stroke-width:2.0\"></path><path d=\"M 112.5 150.0 L 112.5 200.0\" style=\"fill:none;opacity:1;stroke:rgb(14.9%,14.9%,14.9%);stroke-linecap:round;stroke-opacity:1.0;stroke-width:2.0\"></path><path d=\"M 50.0 150.0 L 50.0 200.0\" style=\"fill:none;opacity:1;stroke:rgb(14.9%,14.9%,14.9%);stroke-linecap:round;stroke-opacity:1.0;stroke-width:2.0\"></path><path d=\"M 198.4375 50.0 L 268.75 50.0\" style=\"fill:none;opacity:1;stroke:rgb(14.9%,14.9%,14.9%);stroke-linecap:round;stroke-opacity:1.0;stroke-width:2.0\"></path><path d=\"M 198.4375 50.0 L 128.125 50.0\" style=\"fill:none;opacity:1;stroke:rgb(14.9%,14.9%,14.9%);stroke-linecap:round;stroke-opacity:1.0;stroke-width:2.0\"></path><path d=\"M 268.75 150.0 L 300.0 150.0\" style=\"fill:none;opacity:1;stroke:rgb(14.9%,14.9%,14.9%);stroke-linecap:round;stroke-opacity:1.0;stroke-width:2.0\"></path><path d=\"M 268.75 150.0 L 237.5 150.0\" style=\"fill:none;opacity:1;stroke:rgb(14.9%,14.9%,14.9%);stroke-linecap:round;stroke-opacity:1.0;stroke-width:2.0\"></path><path d=\"M 128.125 100.0 L 175.0 100.0\" style=\"fill:none;opacity:1;stroke:rgb(14.9%,14.9%,14.9%);stroke-linecap:round;stroke-opacity:1.0;stroke-width:2.0\"></path><path d=\"M 128.125 100.0 L 81.25 100.0\" style=\"fill:none;opacity:1;stroke:rgb(14.9%,14.9%,14.9%);stroke-linecap:round;stroke-opacity:1.0;stroke-width:2.0\"></path><path d=\"M 81.25 150.0 L 112.5 150.0\" style=\"fill:none;opacity:1;stroke:rgb(14.9%,14.9%,14.9%);stroke-linecap:round;stroke-opacity:1.0;stroke-width:2.0\"></path><path d=\"M 81.25 150.0 L 50.0 150.0\" style=\"fill:none;opacity:1;stroke:rgb(14.9%,14.9%,14.9%);stroke-linecap:round;stroke-opacity:1.0;stroke-width:2.0\"></path><g class=\"toyplot-HeadMarkers\"></g><g class=\"toyplot-MiddleMarkers\"></g><g class=\"toyplot-TailMarkers\"></g></g><g class=\"toyplot-Vertices\"><g class=\"toyplot-Datum\" style=\"fill:rgb(40%,76.1%,64.7%);fill-opacity:1.0;opacity:1.0;stroke:rgb(40%,76.1%,64.7%);stroke-opacity:1.0\" transform=\"translate(50.0, 200.0)\"><circle r=\"0.0\"></circle></g><g class=\"toyplot-Datum\" style=\"fill:rgb(40%,76.1%,64.7%);fill-opacity:1.0;opacity:1.0;stroke:rgb(40%,76.1%,64.7%);stroke-opacity:1.0\" transform=\"translate(112.5, 200.0)\"><circle r=\"0.0\"></circle></g><g class=\"toyplot-Datum\" style=\"fill:rgb(40%,76.1%,64.7%);fill-opacity:1.0;opacity:1.0;stroke:rgb(40%,76.1%,64.7%);stroke-opacity:1.0\" transform=\"translate(175.0, 200.0)\"><circle r=\"0.0\"></circle></g><g class=\"toyplot-Datum\" style=\"fill:rgb(40%,76.1%,64.7%);fill-opacity:1.0;opacity:1.0;stroke:rgb(40%,76.1%,64.7%);stroke-opacity:1.0\" transform=\"translate(237.5, 200.0)\"><circle r=\"0.0\"></circle></g><g class=\"toyplot-Datum\" style=\"fill:rgb(40%,76.1%,64.7%);fill-opacity:1.0;opacity:1.0;stroke:rgb(40%,76.1%,64.7%);stroke-opacity:1.0\" transform=\"translate(300.0, 200.0)\"><circle r=\"0.0\"></circle></g><g class=\"toyplot-Datum\" style=\"fill:rgb(40%,76.1%,64.7%);fill-opacity:1.0;opacity:1.0;stroke:rgb(40%,76.1%,64.7%);stroke-opacity:1.0\" transform=\"translate(81.25, 150.0)\"><circle r=\"0.0\"></circle></g><g class=\"toyplot-Datum\" style=\"fill:rgb(40%,76.1%,64.7%);fill-opacity:1.0;opacity:1.0;stroke:rgb(40%,76.1%,64.7%);stroke-opacity:1.0\" transform=\"translate(128.125, 100.0)\"><circle r=\"0.0\"></circle></g><g class=\"toyplot-Datum\" style=\"fill:rgb(40%,76.1%,64.7%);fill-opacity:1.0;opacity:1.0;stroke:rgb(40%,76.1%,64.7%);stroke-opacity:1.0\" transform=\"translate(268.75, 150.0)\"><circle r=\"0.0\"></circle></g><g class=\"toyplot-Datum\" style=\"fill:rgb(40%,76.1%,64.7%);fill-opacity:1.0;opacity:1.0;stroke:rgb(40%,76.1%,64.7%);stroke-opacity:1.0\" transform=\"translate(198.4375, 50.0)\"><circle r=\"0.0\"></circle></g><g class=\"toyplot-Datum\" style=\"fill:rgb(40%,76.1%,64.7%);fill-opacity:1.0;opacity:1.0;stroke:rgb(40%,76.1%,64.7%);stroke-opacity:1.0\" transform=\"translate(268.75, 50.0)\"><circle r=\"0.0\"></circle></g><g class=\"toyplot-Datum\" style=\"fill:rgb(40%,76.1%,64.7%);fill-opacity:1.0;opacity:1.0;stroke:rgb(40%,76.1%,64.7%);stroke-opacity:1.0\" transform=\"translate(128.125, 50.0)\"><circle r=\"0.0\"></circle></g><g class=\"toyplot-Datum\" style=\"fill:rgb(40%,76.1%,64.7%);fill-opacity:1.0;opacity:1.0;stroke:rgb(40%,76.1%,64.7%);stroke-opacity:1.0\" transform=\"translate(300.0, 150.0)\"><circle r=\"0.0\"></circle></g><g class=\"toyplot-Datum\" style=\"fill:rgb(40%,76.1%,64.7%);fill-opacity:1.0;opacity:1.0;stroke:rgb(40%,76.1%,64.7%);stroke-opacity:1.0\" transform=\"translate(237.5, 150.0)\"><circle r=\"0.0\"></circle></g><g class=\"toyplot-Datum\" style=\"fill:rgb(40%,76.1%,64.7%);fill-opacity:1.0;opacity:1.0;stroke:rgb(40%,76.1%,64.7%);stroke-opacity:1.0\" transform=\"translate(175.0, 100.0)\"><circle r=\"0.0\"></circle></g><g class=\"toyplot-Datum\" style=\"fill:rgb(40%,76.1%,64.7%);fill-opacity:1.0;opacity:1.0;stroke:rgb(40%,76.1%,64.7%);stroke-opacity:1.0\" transform=\"translate(81.25, 100.0)\"><circle r=\"0.0\"></circle></g><g class=\"toyplot-Datum\" style=\"fill:rgb(40%,76.1%,64.7%);fill-opacity:1.0;opacity:1.0;stroke:rgb(40%,76.1%,64.7%);stroke-opacity:1.0\" transform=\"translate(112.5, 150.0)\"><circle r=\"0.0\"></circle></g><g class=\"toyplot-Datum\" style=\"fill:rgb(40%,76.1%,64.7%);fill-opacity:1.0;opacity:1.0;stroke:rgb(40%,76.1%,64.7%);stroke-opacity:1.0\" transform=\"translate(50.0, 150.0)\"><circle r=\"0.0\"></circle></g></g></g><g class=\"toyplot-mark-Point\" id=\"t98a116a1d91742e9a365955bec75e6d1\"><g class=\"toyplot-Series\"><g class=\"toyplot-Datum\" style=\"fill:rgb(40%,76.1%,64.7%);fill-opacity:1.0;opacity:1.0;stroke:none;stroke-width:1\" transform=\"translate(50.0, 200.0)\"><circle r=\"9.0\"></circle><g><text style=\"fill:rgb(14.9%,14.9%,14.9%);fill-opacity:1.0;font-family:helvetica;font-size:9.0px;font-weight:normal;stroke:none;vertical-align:baseline;white-space:pre\" x=\"-6.003\" y=\"2.2995\">PA</text></g></g><g class=\"toyplot-Datum\" style=\"fill:rgb(40%,76.1%,64.7%);fill-opacity:1.0;opacity:1.0;stroke:none;stroke-width:1\" transform=\"translate(112.5, 200.0)\"><circle r=\"9.0\"></circle><g><text style=\"fill:rgb(14.9%,14.9%,14.9%);fill-opacity:1.0;font-family:helvetica;font-size:9.0px;font-weight:normal;stroke:none;vertical-align:baseline;white-space:pre\" x=\"-5.751\" y=\"2.2995\">C2</text></g></g><g class=\"toyplot-Datum\" style=\"fill:rgb(40%,76.1%,64.7%);fill-opacity:1.0;opacity:1.0;stroke:none;stroke-width:1\" transform=\"translate(175.0, 200.0)\"><circle r=\"9.0\"></circle><g><text style=\"fill:rgb(14.9%,14.9%,14.9%);fill-opacity:1.0;font-family:helvetica;font-size:9.0px;font-weight:normal;stroke:none;vertical-align:baseline;white-space:pre\" x=\"-6.003\" y=\"2.2995\">PB</text></g></g><g class=\"toyplot-Datum\" style=\"fill:rgb(40%,76.1%,64.7%);fill-opacity:1.0;opacity:1.0;stroke:none;stroke-width:1\" transform=\"translate(237.5, 200.0)\"><circle r=\"9.0\"></circle><g><text style=\"fill:rgb(14.9%,14.9%,14.9%);fill-opacity:1.0;font-family:helvetica;font-size:9.0px;font-weight:normal;stroke:none;vertical-align:baseline;white-space:pre\" x=\"-5.751\" y=\"2.2995\">C1</text></g></g><g class=\"toyplot-Datum\" style=\"fill:rgb(40%,76.1%,64.7%);fill-opacity:1.0;opacity:1.0;stroke:none;stroke-width:1\" transform=\"translate(300.0, 200.0)\"><circle r=\"9.0\"></circle><g><text style=\"fill:rgb(14.9%,14.9%,14.9%);fill-opacity:1.0;font-family:helvetica;font-size:9.0px;font-weight:normal;stroke:none;vertical-align:baseline;white-space:pre\" x=\"-3.249\" y=\"2.2995\">D</text></g></g><g class=\"toyplot-Datum\" style=\"fill:rgb(40%,76.1%,64.7%);fill-opacity:1.0;opacity:1.0;stroke:none;stroke-width:1\" transform=\"translate(81.25, 150.0)\"><circle r=\"9.0\"></circle><g><text style=\"fill:rgb(14.9%,14.9%,14.9%);fill-opacity:1.0;font-family:helvetica;font-size:9.0px;font-weight:normal;stroke:none;vertical-align:baseline;white-space:pre\" x=\"-2.5020000000000002\" y=\"2.2995\">5</text></g></g><g class=\"toyplot-Datum\" style=\"fill:rgb(40%,76.1%,64.7%);fill-opacity:1.0;opacity:1.0;stroke:none;stroke-width:1\" transform=\"translate(128.125, 100.0)\"><circle r=\"9.0\"></circle><g><text style=\"fill:rgb(14.9%,14.9%,14.9%);fill-opacity:1.0;font-family:helvetica;font-size:9.0px;font-weight:normal;stroke:none;vertical-align:baseline;white-space:pre\" x=\"-2.5020000000000002\" y=\"2.2995\">6</text></g></g><g class=\"toyplot-Datum\" style=\"fill:rgb(40%,76.1%,64.7%);fill-opacity:1.0;opacity:1.0;stroke:none;stroke-width:1\" transform=\"translate(268.75, 150.0)\"><circle r=\"9.0\"></circle><g><text style=\"fill:rgb(14.9%,14.9%,14.9%);fill-opacity:1.0;font-family:helvetica;font-size:9.0px;font-weight:normal;stroke:none;vertical-align:baseline;white-space:pre\" x=\"-2.5020000000000002\" y=\"2.2995\">7</text></g></g><g class=\"toyplot-Datum\" style=\"fill:rgb(40%,76.1%,64.7%);fill-opacity:1.0;opacity:1.0;stroke:none;stroke-width:1\" transform=\"translate(198.4375, 50.0)\"><circle r=\"9.0\"></circle><g><text style=\"fill:rgb(14.9%,14.9%,14.9%);fill-opacity:1.0;font-family:helvetica;font-size:9.0px;font-weight:normal;stroke:none;vertical-align:baseline;white-space:pre\" x=\"-2.5020000000000002\" y=\"2.2995\">8</text></g></g></g></g></g></g></svg><div class=\"toyplot-behavior\"><script>(function()\n",
       "{\n",
       "var modules={};\n",
       "modules[\"toyplot/tables\"] = (function()\n",
       "    {\n",
       "        var tables = [];\n",
       "\n",
       "        var module = {};\n",
       "\n",
       "        module.set = function(owner, key, names, columns)\n",
       "        {\n",
       "            tables.push({owner: owner, key: key, names: names, columns: columns});\n",
       "        }\n",
       "\n",
       "        module.get = function(owner, key)\n",
       "        {\n",
       "            for(var i = 0; i != tables.length; ++i)\n",
       "            {\n",
       "                var table = tables[i];\n",
       "                if(table.owner != owner)\n",
       "                    continue;\n",
       "                if(table.key != key)\n",
       "                    continue;\n",
       "                return {names: table.names, columns: table.columns};\n",
       "            }\n",
       "        }\n",
       "\n",
       "        module.get_csv = function(owner, key)\n",
       "        {\n",
       "            var table = module.get(owner, key);\n",
       "            if(table != undefined)\n",
       "            {\n",
       "                var csv = \"\";\n",
       "                csv += table.names.join(\",\") + \"\\n\";\n",
       "                for(var i = 0; i != table.columns[0].length; ++i)\n",
       "                {\n",
       "                  for(var j = 0; j != table.columns.length; ++j)\n",
       "                  {\n",
       "                    if(j)\n",
       "                      csv += \",\";\n",
       "                    csv += table.columns[j][i];\n",
       "                  }\n",
       "                  csv += \"\\n\";\n",
       "                }\n",
       "                return csv;\n",
       "            }\n",
       "        }\n",
       "\n",
       "        return module;\n",
       "    })();\n",
       "modules[\"toyplot/root/id\"] = \"t3458dc9f2ee24efeb09c9aaec3d9f4e1\";\n",
       "modules[\"toyplot/root\"] = (function(root_id)\n",
       "    {\n",
       "        return document.querySelector(\"#\" + root_id);\n",
       "    })(modules[\"toyplot/root/id\"]);\n",
       "modules[\"toyplot/canvas/id\"] = \"t18204c13a5804add94af44869168b678\";\n",
       "modules[\"toyplot/canvas\"] = (function(canvas_id)\n",
       "    {\n",
       "        return document.querySelector(\"#\" + canvas_id);\n",
       "    })(modules[\"toyplot/canvas/id\"]);\n",
       "modules[\"toyplot/menus/context\"] = (function(root, canvas)\n",
       "    {\n",
       "        var wrapper = document.createElement(\"div\");\n",
       "        wrapper.innerHTML = \"<ul class='toyplot-context-menu' style='background:#eee; border:1px solid #b8b8b8; border-radius:5px; box-shadow: 0px 0px 8px rgba(0%,0%,0%,0.25); margin:0; padding:3px 0; position:fixed; visibility:hidden;'></ul>\"\n",
       "        var menu = wrapper.firstChild;\n",
       "\n",
       "        root.appendChild(menu);\n",
       "\n",
       "        var items = [];\n",
       "\n",
       "        var ignore_mouseup = null;\n",
       "        function open_menu(e)\n",
       "        {\n",
       "            var show_menu = false;\n",
       "            for(var index=0; index != items.length; ++index)\n",
       "            {\n",
       "                var item = items[index];\n",
       "                if(item.show(e))\n",
       "                {\n",
       "                    item.item.style.display = \"block\";\n",
       "                    show_menu = true;\n",
       "                }\n",
       "                else\n",
       "                {\n",
       "                    item.item.style.display = \"none\";\n",
       "                }\n",
       "            }\n",
       "\n",
       "            if(show_menu)\n",
       "            {\n",
       "                ignore_mouseup = true;\n",
       "                menu.style.left = (e.clientX + 1) + \"px\";\n",
       "                menu.style.top = (e.clientY - 5) + \"px\";\n",
       "                menu.style.visibility = \"visible\";\n",
       "                e.stopPropagation();\n",
       "                e.preventDefault();\n",
       "            }\n",
       "        }\n",
       "\n",
       "        function close_menu()\n",
       "        {\n",
       "            menu.style.visibility = \"hidden\";\n",
       "        }\n",
       "\n",
       "        function contextmenu(e)\n",
       "        {\n",
       "            open_menu(e);\n",
       "        }\n",
       "\n",
       "        function mousemove(e)\n",
       "        {\n",
       "            ignore_mouseup = false;\n",
       "        }\n",
       "\n",
       "        function mouseup(e)\n",
       "        {\n",
       "            if(ignore_mouseup)\n",
       "            {\n",
       "                ignore_mouseup = false;\n",
       "                return;\n",
       "            }\n",
       "            close_menu();\n",
       "        }\n",
       "\n",
       "        function keydown(e)\n",
       "        {\n",
       "            if(e.key == \"Escape\" || e.key == \"Esc\" || e.keyCode == 27)\n",
       "            {\n",
       "                close_menu();\n",
       "            }\n",
       "        }\n",
       "\n",
       "        canvas.addEventListener(\"contextmenu\", contextmenu);\n",
       "        canvas.addEventListener(\"mousemove\", mousemove);\n",
       "        document.addEventListener(\"mouseup\", mouseup);\n",
       "        document.addEventListener(\"keydown\", keydown);\n",
       "\n",
       "        var module = {};\n",
       "        module.add_item = function(label, show, activate)\n",
       "        {\n",
       "            var wrapper = document.createElement(\"div\");\n",
       "            wrapper.innerHTML = \"<li class='toyplot-context-menu-item' style='background:#eee; color:#333; padding:2px 20px; list-style:none; margin:0; text-align:left;'>\" + label + \"</li>\"\n",
       "            var item = wrapper.firstChild;\n",
       "\n",
       "            items.push({item: item, show: show});\n",
       "\n",
       "            function mouseover()\n",
       "            {\n",
       "                this.style.background = \"steelblue\";\n",
       "                this.style.color = \"white\";\n",
       "            }\n",
       "\n",
       "            function mouseout()\n",
       "            {\n",
       "                this.style.background = \"#eee\";\n",
       "                this.style.color = \"#333\";\n",
       "            }\n",
       "\n",
       "            function choose_item(e)\n",
       "            {\n",
       "                close_menu();\n",
       "                activate();\n",
       "\n",
       "                e.stopPropagation();\n",
       "                e.preventDefault();\n",
       "            }\n",
       "\n",
       "            item.addEventListener(\"mouseover\", mouseover);\n",
       "            item.addEventListener(\"mouseout\", mouseout);\n",
       "            item.addEventListener(\"mouseup\", choose_item);\n",
       "            item.addEventListener(\"contextmenu\", choose_item);\n",
       "\n",
       "            menu.appendChild(item);\n",
       "        };\n",
       "        return module;\n",
       "    })(modules[\"toyplot/root\"],modules[\"toyplot/canvas\"]);\n",
       "modules[\"toyplot/io\"] = (function()\n",
       "    {\n",
       "        var module = {};\n",
       "        module.save_file = function(mime_type, charset, data, filename)\n",
       "        {\n",
       "            var uri = \"data:\" + mime_type + \";charset=\" + charset + \",\" + data;\n",
       "            uri = encodeURI(uri);\n",
       "\n",
       "            var link = document.createElement(\"a\");\n",
       "            if(typeof link.download != \"undefined\")\n",
       "            {\n",
       "              link.href = uri;\n",
       "              link.style = \"visibility:hidden\";\n",
       "              link.download = filename;\n",
       "\n",
       "              document.body.appendChild(link);\n",
       "              link.click();\n",
       "              document.body.removeChild(link);\n",
       "            }\n",
       "            else\n",
       "            {\n",
       "              window.open(uri);\n",
       "            }\n",
       "        };\n",
       "        return module;\n",
       "    })();\n",
       "(function(tables, context_menu, io, owner_id, key, label, names, columns, filename)\n",
       "        {\n",
       "            tables.set(owner_id, key, names, columns);\n",
       "\n",
       "            var owner = document.querySelector(\"#\" + owner_id);\n",
       "            function show_item(e)\n",
       "            {\n",
       "                return owner.contains(e.target);\n",
       "            }\n",
       "\n",
       "            function choose_item()\n",
       "            {\n",
       "                io.save_file(\"text/csv\", \"utf-8\", tables.get_csv(owner_id, key), filename + \".csv\");\n",
       "            }\n",
       "\n",
       "            context_menu.add_item(\"Save \" + label + \" as CSV\", show_item, choose_item);\n",
       "        })(modules[\"toyplot/tables\"],modules[\"toyplot/menus/context\"],modules[\"toyplot/io\"],\"t7423f46167114581a13b724ca5355b7e\",\"vertex_data\",\"graph vertex data\",[\"x\", \"y\"],[[0.0, 1.0, 2.0, 3.0, 4.0, 0.5, 1.25, 3.5, 2.375, 3.5, 1.25, 4.0, 3.0, 2.0, 0.5, 1.0, 0.0], [0.0, 0.0, 0.0, 0.0, 0.0, 1.0, 2.0, 1.0, 3.0, 3.0, 3.0, 1.0, 1.0, 2.0, 2.0, 1.0, 1.0]],\"toyplot\");\n",
       "(function(tables, context_menu, io, owner_id, key, label, names, columns, filename)\n",
       "        {\n",
       "            tables.set(owner_id, key, names, columns);\n",
       "\n",
       "            var owner = document.querySelector(\"#\" + owner_id);\n",
       "            function show_item(e)\n",
       "            {\n",
       "                return owner.contains(e.target);\n",
       "            }\n",
       "\n",
       "            function choose_item()\n",
       "            {\n",
       "                io.save_file(\"text/csv\", \"utf-8\", tables.get_csv(owner_id, key), filename + \".csv\");\n",
       "            }\n",
       "\n",
       "            context_menu.add_item(\"Save \" + label + \" as CSV\", show_item, choose_item);\n",
       "        })(modules[\"toyplot/tables\"],modules[\"toyplot/menus/context\"],modules[\"toyplot/io\"],\"t7423f46167114581a13b724ca5355b7e\",\"edge_data\",\"graph edge data\",[\"source\", \"target\"],[[9, 10, 11, 12, 13, 14, 15, 16, 8, 8, 7, 7, 6, 6, 5, 5], [7, 6, 4, 3, 2, 5, 1, 0, 9, 10, 11, 12, 13, 14, 15, 16]],\"toyplot\");\n",
       "(function(tables, context_menu, io, owner_id, key, label, names, columns, filename)\n",
       "        {\n",
       "            tables.set(owner_id, key, names, columns);\n",
       "\n",
       "            var owner = document.querySelector(\"#\" + owner_id);\n",
       "            function show_item(e)\n",
       "            {\n",
       "                return owner.contains(e.target);\n",
       "            }\n",
       "\n",
       "            function choose_item()\n",
       "            {\n",
       "                io.save_file(\"text/csv\", \"utf-8\", tables.get_csv(owner_id, key), filename + \".csv\");\n",
       "            }\n",
       "\n",
       "            context_menu.add_item(\"Save \" + label + \" as CSV\", show_item, choose_item);\n",
       "        })(modules[\"toyplot/tables\"],modules[\"toyplot/menus/context\"],modules[\"toyplot/io\"],\"t98a116a1d91742e9a365955bec75e6d1\",\"data\",\"point\",[\"x\", \"y0\"],[[0.0, 1.0, 2.0, 3.0, 4.0, 0.5, 1.25, 3.5, 2.375], [0.0, 0.0, 0.0, 0.0, 0.0, 1.0, 2.0, 1.0, 3.0]],\"toyplot\");\n",
       "})();</script></div></div>"
      ]
     },
     "metadata": {},
     "output_type": "display_data"
    }
   ],
   "source": [
    "test_newick = '((D,C1),(PB,(C2,PA)));'\n",
    "test_tree = toytree.tree(test_newick)\n",
    "draw_tree_with_internal_labels(test_tree)"
   ]
  },
  {
   "cell_type": "markdown",
   "metadata": {
    "nbgrader": {
     "grade": false,
     "grade_id": "cell-5996216cf7c2135a",
     "locked": true,
     "schema_version": 1,
     "solution": false
    }
   },
   "source": [
    "The `treenode` attribute of a toytree tree represents the root node of the tree.  You can access the name of any given node using the `name` attribute of a node."
   ]
  },
  {
   "cell_type": "code",
   "execution_count": 5,
   "metadata": {
    "nbgrader": {
     "grade": false,
     "grade_id": "cell-816f07f17cd18089",
     "locked": true,
     "schema_version": 1,
     "solution": false
    },
    "scrolled": true
   },
   "outputs": [
    {
     "name": "stdout",
     "output_type": "stream",
     "text": [
      "The name of the root node is: 8\n"
     ]
    }
   ],
   "source": [
    "print(\"The name of the root node is:\", test_tree.treenode.name)"
   ]
  },
  {
   "cell_type": "markdown",
   "metadata": {
    "nbgrader": {
     "grade": false,
     "grade_id": "cell-b3e569be6b53b323",
     "locked": true,
     "schema_version": 1,
     "solution": false
    }
   },
   "source": [
    "You can traverse all of the nodes within the subtree below a given node with the `traverse` method.  You can tell the traverse method the order in which you wish to traverse the nodes, which can either be \"preorder\", \"postorder\", or \"levelorder\"."
   ]
  },
  {
   "cell_type": "code",
   "execution_count": 6,
   "metadata": {
    "nbgrader": {
     "grade": false,
     "grade_id": "cell-9aabd3dd14bfd6d9",
     "locked": true,
     "schema_version": 1,
     "solution": false
    },
    "scrolled": false
   },
   "outputs": [
    {
     "name": "stdout",
     "output_type": "stream",
     "text": [
      "preorder: ['8', '7', 'D', 'C1', '6', 'PB', '5', 'C2', 'PA']\n",
      "postorder: ['D', 'C1', '7', 'PB', 'C2', 'PA', '5', '6', '8']\n",
      "levelorder: ['8', '7', '6', 'D', 'C1', 'PB', '5', 'C2', 'PA']\n"
     ]
    }
   ],
   "source": [
    "for order in ('preorder', 'postorder', 'levelorder'):\n",
    "    print(order + \":\", [node.name for node in test_tree.treenode.traverse(order)])"
   ]
  },
  {
   "cell_type": "markdown",
   "metadata": {
    "nbgrader": {
     "grade": false,
     "grade_id": "cell-85c001f8837b41c1",
     "locked": true,
     "schema_version": 1,
     "solution": false
    }
   },
   "source": [
    "You can access the children and parent of a node via a tree node objects `children` and `up` attributes, repsectively."
   ]
  },
  {
   "cell_type": "code",
   "execution_count": 7,
   "metadata": {
    "nbgrader": {
     "grade": false,
     "grade_id": "cell-ce79b6331adb8399",
     "locked": true,
     "schema_version": 1,
     "solution": false
    },
    "scrolled": true
   },
   "outputs": [
    {
     "name": "stdout",
     "output_type": "stream",
     "text": [
      "8 Parent: None Children: 7, 6\n",
      "7 Parent: 8 Children: D, C1\n",
      "D Parent: 7 Children: \n",
      "C1 Parent: 7 Children: \n",
      "6 Parent: 8 Children: PB, 5\n",
      "PB Parent: 6 Children: \n",
      "5 Parent: 6 Children: C2, PA\n",
      "C2 Parent: 5 Children: \n",
      "PA Parent: 5 Children: \n"
     ]
    }
   ],
   "source": [
    "for node in test_tree.treenode.traverse('preorder'):\n",
    "    print(node.name, \n",
    "          \"Parent:\", node.up.name if not node.is_root() else None, \n",
    "          \"Children:\", \", \".join(child.name for child in node.children))"
   ]
  },
  {
   "cell_type": "markdown",
   "metadata": {
    "nbgrader": {
     "grade": false,
     "grade_id": "cell-a2f0a092c551767d",
     "locked": true,
     "schema_version": 1,
     "solution": false
    }
   },
   "source": [
    "Lastly, you can use the convenience methods `is_root` and `is_leaf` to check if a tree node is a root or leaf node, respectively."
   ]
  },
  {
   "cell_type": "code",
   "execution_count": 8,
   "metadata": {
    "nbgrader": {
     "grade": false,
     "grade_id": "cell-54f4de70db38159c",
     "locked": true,
     "schema_version": 1,
     "solution": false
    }
   },
   "outputs": [
    {
     "name": "stdout",
     "output_type": "stream",
     "text": [
      "8 is_root: True is_leaf: False\n",
      "7 is_root: False is_leaf: False\n",
      "D is_root: False is_leaf: True\n",
      "C1 is_root: False is_leaf: True\n",
      "6 is_root: False is_leaf: False\n",
      "PB is_root: False is_leaf: True\n",
      "5 is_root: False is_leaf: False\n",
      "C2 is_root: False is_leaf: True\n",
      "PA is_root: False is_leaf: True\n"
     ]
    }
   ],
   "source": [
    "for node in test_tree.treenode.traverse('preorder'):\n",
    "    print(node.name, \n",
    "          \"is_root:\", node.is_root(), \n",
    "          \"is_leaf:\", node.is_leaf())"
   ]
  },
  {
   "cell_type": "markdown",
   "metadata": {
    "nbgrader": {
     "grade": false,
     "grade_id": "cell-ddd81b5843687905",
     "locked": true,
     "schema_version": 1,
     "solution": false
    }
   },
   "source": [
    "## Data used for this assignment\n",
    "We will again use the data from the case of possible HIV transmission from dentist to patient that we considered in the Day 15 notebook.  Recall that the CDC had performed DNA sequencing on a set of HIV samples and subsequent phylogenetic analyses to determine whether or not the molecular data provided evidence that the dentist had transmitted HIV to his patients.  If you read the paper ([Ou et al. Science, 1992](http://science.sciencemag.org/content/256/5060/1165)), you will find that the researchers actually used parsimony based methods to estimate trees.  In this activity we will redo some their analyses by implementing (unweighted) parsimony algorithms and running the algorithms on a multiple alignment of the V3 variable region of the HIV genome for these samples.\n",
    "\n",
    "Below we will read in the multiple alignment that will be used as data for this activity.  The sequences from samples of HIV from the dentist (D), patient A (PA), patient B (PB), local control 1 (C1), and local control 2 (C2)."
   ]
  },
  {
   "cell_type": "code",
   "execution_count": 9,
   "metadata": {
    "collapsed": true,
    "nbgrader": {
     "grade": false,
     "grade_id": "cell-46cf87e972cc238f",
     "locked": true,
     "schema_version": 1,
     "solution": false
    }
   },
   "outputs": [],
   "source": [
    "v3_alignment_filename = \"v3_alignment.fasta\"\n",
    "v3_aligned_sequences = fasta.read_sequences_from_fasta_file(v3_alignment_filename)\n",
    "v3_sequence_names, v3_alignment = zip(*v3_aligned_sequences)"
   ]
  },
  {
   "cell_type": "markdown",
   "metadata": {
    "nbgrader": {
     "grade": false,
     "grade_id": "cell-03a683c1fc8d8bb9",
     "locked": true,
     "schema_version": 1,
     "solution": false
    }
   },
   "source": [
    "## PROBLEM 1: Fitch's Algorithm (stage 1) (1 POINT)"
   ]
  },
  {
   "cell_type": "markdown",
   "metadata": {
    "nbgrader": {
     "grade": false,
     "grade_id": "cell-e6092327d318559d",
     "locked": true,
     "schema_version": 1,
     "solution": false
    }
   },
   "source": [
    "We will begin by implementing the first stage of Fitch's algorithm for computing the minimum cost of a tree for a single column of a multiple alignment, i.e., where each leaf node is assigned a single character.  Recall that the first stage of Fitch's algorithm traverses the tree in a post-order and computes the possible states at each node that minimize the cost of the tree below that node.  In addition, this stage computes the minimum cost of the tree, which can be determined by counting the number of times the set *union* operator is used.  Implement this algorithm in the function below."
   ]
  },
  {
   "cell_type": "code",
   "execution_count": 10,
   "metadata": {
    "collapsed": true,
    "nbgrader": {
     "grade": false,
     "grade_id": "cell-1577ddd4a546cb89",
     "locked": false,
     "schema_version": 1,
     "solution": true
    }
   },
   "outputs": [],
   "source": [
    "def fitch_score_and_min_cost_states(tree, leaf_states):\n",
    "    \"\"\"Runs the first stage of Fitch's algorithm for\n",
    "       the given tree and character states as the leaves.\n",
    "    \n",
    "    Args:\n",
    "        tree: a toytree tree.\n",
    "        leaf_states: a dictionary mapping leaf names to characters.  \n",
    "    Returns:\n",
    "        A two-element tuple, where the first element is the minimum\n",
    "        cost of the tree (minimum number of changes required to explain\n",
    "        the leaf data) and second element is a dictionary mapping the\n",
    "        node names to sets of possible states at the nodes (the R values\n",
    "        in the algorithm)\n",
    "    \"\"\"\n",
    "    R = {}\n",
    "    num_changes = 0\n",
    "    for node in tree.treenode.traverse(\"postorder\"):\n",
    "        if node.is_leaf():\n",
    "            R[node.name] = {leaf_states[node.name]}\n",
    "        else:\n",
    "            ### BEGIN SOLUTION\n",
    "            left_states, right_states = [R[child.name] for child in node.children]\n",
    "            states_intersection = left_states & right_states\n",
    "            if states_intersection:\n",
    "                R[node.name] = states_intersection\n",
    "            else:\n",
    "                R[node.name] = left_states | right_states\n",
    "                num_changes += 1\n",
    "            ### END SOLUTION\n",
    "    return num_changes, R"
   ]
  },
  {
   "cell_type": "code",
   "execution_count": 11,
   "metadata": {
    "nbgrader": {
     "grade": true,
     "grade_id": "fitch_score_and_min_cost_states",
     "locked": true,
     "points": 1,
     "schema_version": 1,
     "solution": false
    }
   },
   "outputs": [
    {
     "name": "stdout",
     "output_type": "stream",
     "text": [
      "SUCCESS: fitch_score_and_min_cost_states passed all tests\n"
     ]
    }
   ],
   "source": [
    "# tests for fitch_score_and_min_cost_states\n",
    "test1_tree = toytree.tree('((D,C1),(PB,(C2,PA)));')\n",
    "test1_leaf_states = {'PA': 'C', 'C2': 'A', 'C1': 'T', 'D': 'C', 'PB': 'C'}\n",
    "test1_result = (2,\n",
    " {'D': {'C'},\n",
    "  'C1': {'T'},\n",
    "  'PB': {'C'},\n",
    "  'C2': {'A'},\n",
    "  'PA': {'C'},\n",
    "  '5': {'A', 'C'},\n",
    "  '6': {'C'},\n",
    "  '7': {'C', 'T'},  \n",
    "  '8': {'C'}})\n",
    "assert fitch_score_and_min_cost_states(test1_tree, test1_leaf_states) == test1_result\n",
    "\n",
    "test2_tree = toytree.tree('((D,C1),(PB,(C2,PA)));')\n",
    "test2_leaf_states = {'PA': 'C', 'C2': 'C', 'C1': 'T', 'D': 'T', 'PB': 'C'}\n",
    "test2_result = (1,\n",
    " {'D': {'T'},\n",
    "  'C1': {'T'},\n",
    "  'PB': {'C'},\n",
    "  'C2': {'C'},\n",
    "  'PA': {'C'},\n",
    "  '5': {'C'},\n",
    "  '6': {'C'},\n",
    "  '7': {'T'},  \n",
    "  '8': {'C', 'T'}})\n",
    "assert fitch_score_and_min_cost_states(test2_tree, test2_leaf_states) == test2_result\n",
    "\n",
    "test3_tree = toytree.tree('((D,C1),(PB,(C2,PA)));')\n",
    "test3_leaf_states = {'PA': 'T', 'C2': 'T', 'C1': 'T', 'D': 'T', 'PB': 'T'}\n",
    "test3_result = (0,\n",
    " {'D': {'T'},\n",
    "  'C1': {'T'},\n",
    "  'PB': {'T'},\n",
    "  'C2': {'T'},\n",
    "  'PA': {'T'},\n",
    "  '5': {'T'},\n",
    "  '6': {'T'},\n",
    "  '7': {'T'},  \n",
    "  '8': {'T'}})\n",
    "assert fitch_score_and_min_cost_states(test3_tree, test3_leaf_states) == test3_result\n",
    "print(\"SUCCESS: fitch_score_and_min_cost_states passed all tests\")"
   ]
  },
  {
   "cell_type": "markdown",
   "metadata": {
    "nbgrader": {
     "grade": false,
     "grade_id": "cell-c17fabbb0de84686",
     "locked": true,
     "schema_version": 1,
     "solution": false
    }
   },
   "source": [
    "### PROBLEM 2: Parsimony score for an entire alignment (1 POINT)\n",
    "We will next use your `fitch_score_and_min_cost_states` function to compute the parsimony score for an entire alignment, which is simply the sum of the minimum costs for each column in the alignment.  Write a function `score_tree_parsimony` that takes as input a tree, an alignment, a list of the sequence names, and outputs the parsimony score.  You will likely find the function below, which returns a list of leaf state dictonaries, one leaf state dictionary per column of the alignment."
   ]
  },
  {
   "cell_type": "code",
   "execution_count": 12,
   "metadata": {
    "collapsed": true,
    "nbgrader": {
     "grade": false,
     "grade_id": "cell-53970486cb67f44b",
     "locked": true,
     "schema_version": 1,
     "solution": false
    }
   },
   "outputs": [],
   "source": [
    "def alignment_leaf_states_list(alignment, sequence_names):\n",
    "    \"\"\"Returns a list of dictionaries, where each dictionary corresponds to the leaf states\n",
    "    for a column of the alignment.\"\"\"\n",
    "    return [dict(zip(sequence_names, column)) for column in zip(*alignment)]"
   ]
  },
  {
   "cell_type": "code",
   "execution_count": 1,
   "metadata": {
    "nbgrader": {
     "grade": false,
     "grade_id": "cell-1d94601c5065457d",
     "locked": false,
     "schema_version": 1,
     "solution": true
    }
   },
   "outputs": [],
   "source": [
    "def score_tree_parsimony(tree, alignment, sequence_names):\n",
    "    \"\"\"Computes the parsimony score for a given tree and alignment.\n",
    "    \n",
    "    Args:\n",
    "        tree: a toytree tree object\n",
    "        alignment: a list of strings corresponding to the rows of a multiple alignment.\n",
    "        sequence_names: a list of the names of the sequences in the same order as the\n",
    "                        rows of the multiple alignment.\n",
    "    Returns:\n",
    "        The parsimony score (a number)\n",
    "    \"\"\"\n",
    "    ### BEGIN SOLUTION\n",
    "    columns = alignment_leaf_states_list(alignment, sequence_names)\n",
    "    fitch_results = [fitch_score_and_min_cost_states(tree, column) for column in columns]\n",
    "    column_scores, column_Rs = zip(*fitch_results)\n",
    "    return sum(column_scores)\n",
    "    ### END SOLUTION"
   ]
  },
  {
   "cell_type": "code",
   "execution_count": 2,
   "metadata": {
    "nbgrader": {
     "grade": true,
     "grade_id": "score_tree_parsimony",
     "locked": true,
     "points": 1,
     "schema_version": 1,
     "solution": false
    }
   },
   "outputs": [
    {
     "ename": "NameError",
     "evalue": "name 'toytree' is not defined",
     "output_type": "error",
     "traceback": [
      "\u001b[0;31m---------------------------------------------------------------------------\u001b[0m",
      "\u001b[0;31mNameError\u001b[0m                                 Traceback (most recent call last)",
      "\u001b[0;32m<ipython-input-2-dcf3c22436a8>\u001b[0m in \u001b[0;36m<module>\u001b[0;34m\u001b[0m\n\u001b[1;32m      1\u001b[0m \u001b[0;31m# tests for score_tree_parsimony\u001b[0m\u001b[0;34m\u001b[0m\u001b[0;34m\u001b[0m\u001b[0;34m\u001b[0m\u001b[0m\n\u001b[0;32m----> 2\u001b[0;31m \u001b[0mtest1_tree\u001b[0m \u001b[0;34m=\u001b[0m \u001b[0mtoytree\u001b[0m\u001b[0;34m.\u001b[0m\u001b[0mtree\u001b[0m\u001b[0;34m(\u001b[0m\u001b[0;34m'((D,C1),(PB,(C2,PA)));'\u001b[0m\u001b[0;34m)\u001b[0m\u001b[0;34m\u001b[0m\u001b[0;34m\u001b[0m\u001b[0m\n\u001b[0m\u001b[1;32m      3\u001b[0m \u001b[0;32massert\u001b[0m \u001b[0mscore_tree_parsimony\u001b[0m\u001b[0;34m(\u001b[0m\u001b[0mtest1_tree\u001b[0m\u001b[0;34m,\u001b[0m \u001b[0mv3_alignment\u001b[0m\u001b[0;34m,\u001b[0m \u001b[0mv3_sequence_names\u001b[0m\u001b[0;34m)\u001b[0m \u001b[0;34m==\u001b[0m \u001b[0;36m64\u001b[0m\u001b[0;34m\u001b[0m\u001b[0;34m\u001b[0m\u001b[0m\n\u001b[1;32m      4\u001b[0m \u001b[0mtest2_tree\u001b[0m \u001b[0;34m=\u001b[0m \u001b[0mtoytree\u001b[0m\u001b[0;34m.\u001b[0m\u001b[0mtree\u001b[0m\u001b[0;34m(\u001b[0m\u001b[0;34m'((C1,C2),(PB,(D,PA)));'\u001b[0m\u001b[0;34m)\u001b[0m\u001b[0;34m\u001b[0m\u001b[0;34m\u001b[0m\u001b[0m\n\u001b[1;32m      5\u001b[0m \u001b[0;32massert\u001b[0m \u001b[0mscore_tree_parsimony\u001b[0m\u001b[0;34m(\u001b[0m\u001b[0mtest2_tree\u001b[0m\u001b[0;34m,\u001b[0m \u001b[0mv3_alignment\u001b[0m\u001b[0;34m,\u001b[0m \u001b[0mv3_sequence_names\u001b[0m\u001b[0;34m)\u001b[0m \u001b[0;34m==\u001b[0m \u001b[0;36m58\u001b[0m\u001b[0;34m\u001b[0m\u001b[0;34m\u001b[0m\u001b[0m\n",
      "\u001b[0;31mNameError\u001b[0m: name 'toytree' is not defined"
     ]
    }
   ],
   "source": [
    "# tests for score_tree_parsimony\n",
    "test1_tree = toytree.tree('((D,C1),(PB,(C2,PA)));')\n",
    "assert score_tree_parsimony(test1_tree, v3_alignment, v3_sequence_names) == 64\n",
    "test2_tree = toytree.tree('((C1,C2),(PB,(D,PA)));')\n",
    "assert score_tree_parsimony(test2_tree, v3_alignment, v3_sequence_names) == 58\n",
    "print(\"SUCCESS: score_tree_parsimony passed all tests\")"
   ]
  },
  {
   "cell_type": "markdown",
   "metadata": {
    "nbgrader": {
     "grade": false,
     "grade_id": "cell-d74b119be806a42b",
     "locked": true,
     "schema_version": 1,
     "solution": false
    }
   },
   "source": [
    "### Finding the most parsimonious trees for the HIV samples\n",
    "Now we will use your parsimony functions to find the most parsimonious trees for the HIV sequence data.  To do this we will simply use a brute force method that computes the parsimony score for each possible rooted tree of five leaves.  Newick strings for all such trees with leaves labeled by the HIV sample names are provided in the file `all_five_leaf_rooted_trees.txt` and we will read these strings in below."
   ]
  },
  {
   "cell_type": "code",
   "execution_count": 15,
   "metadata": {
    "collapsed": true,
    "nbgrader": {
     "grade": false,
     "grade_id": "cell-cebd4d33882f3589",
     "locked": true,
     "schema_version": 1,
     "solution": false
    }
   },
   "outputs": [],
   "source": [
    "all_possible_trees_filename = \"all_five_leaf_rooted_trees.txt\"\n",
    "all_possible_trees = [line.strip() for line in open(all_possible_trees_filename)]"
   ]
  },
  {
   "cell_type": "markdown",
   "metadata": {
    "nbgrader": {
     "grade": false,
     "grade_id": "cell-f9bb264d71b4f2d0",
     "locked": true,
     "schema_version": 1,
     "solution": false
    }
   },
   "source": [
    "Next, here is a function that take runs your `score_tree_parsimony` on a list of newick string trees, and returns the minimum parsimony score along with the newick strings for the trees that obtain that score:"
   ]
  },
  {
   "cell_type": "code",
   "execution_count": 16,
   "metadata": {
    "collapsed": true,
    "nbgrader": {
     "grade": false,
     "grade_id": "cell-3f8da9f4e7f2b791",
     "locked": true,
     "schema_version": 1,
     "solution": false
    }
   },
   "outputs": [],
   "source": [
    "def best_trees_parsimony(newick_tree_list, alignment, sequence_names):\n",
    "    \"\"\"Computes the minimum parsimony score and the trees that obtain that score, \n",
    "    given a list of candidate trees.\n",
    "    \n",
    "    Args:\n",
    "        newick_tree_list: a list of newick string trees\n",
    "        alignment: a list of strings corresponding to the rows of a multiple alignment.\n",
    "        sequence_names: a list of the names of the sequences in the same order as the\n",
    "                        rows of the multiple alignment.\n",
    "    Returns:\n",
    "        A two-element tuple, with the first element giving the minimum parsimony score\n",
    "        the second element being a list of newick string trees that obtain that score.\n",
    "    \"\"\"\n",
    "    tree_scores = [score_tree_parsimony(toytree.tree(newick), alignment, sequence_names) \n",
    "                   for newick in newick_tree_list]\n",
    "    min_score = min(tree_scores)\n",
    "    return min_score, [newick for newick, score in zip(newick_tree_list, tree_scores) if score == min_score]"
   ]
  },
  {
   "cell_type": "code",
   "execution_count": 17,
   "metadata": {
    "nbgrader": {
     "grade": false,
     "grade_id": "cell-005b9daeadecd196",
     "locked": true,
     "schema_version": 1,
     "solution": false
    }
   },
   "outputs": [
    {
     "name": "stdout",
     "output_type": "stream",
     "text": [
      "V3 best score: 58\n",
      "V3 best trees:\n",
      "((((D,PA),PB),C1),C2);\n",
      "((((D,PB),PA),C1),C2);\n",
      "(((D,(PA,PB)),C1),C2);\n",
      "((((D,PA),PB),C2),C1);\n",
      "((((D,PB),PA),C2),C1);\n",
      "(((D,(PA,PB)),C2),C1);\n",
      "(((D,PA),PB),(C1,C2));\n",
      "(((D,PB),PA),(C1,C2));\n",
      "((D,(PA,PB)),(C1,C2));\n",
      "(((D,PA),(C1,C2)),PB);\n",
      "(((D,(C1,C2)),PA),PB);\n",
      "((D,(PA,(C1,C2))),PB);\n",
      "((D,PA),(PB,(C1,C2)));\n",
      "(((D,PB),(C1,C2)),PA);\n",
      "(((D,(C1,C2)),PB),PA);\n",
      "((D,(PB,(C1,C2))),PA);\n",
      "((D,PB),(PA,(C1,C2)));\n",
      "((D,(C1,C2)),(PA,PB));\n",
      "(D,((PA,PB),(C1,C2)));\n",
      "(D,((PA,(C1,C2)),PB));\n",
      "(D,(PA,(PB,(C1,C2))));\n"
     ]
    }
   ],
   "source": [
    "v3_best_score, v3_best_trees = best_trees_parsimony(all_possible_trees, v3_alignment, v3_sequence_names)\n",
    "print(\"V3 best score:\", v3_best_score)\n",
    "print(\"V3 best trees:\", *v3_best_trees, sep=\"\\n\")"
   ]
  },
  {
   "cell_type": "markdown",
   "metadata": {
    "nbgrader": {
     "grade": false,
     "grade_id": "cell-ab9e416592f7b992",
     "locked": true,
     "schema_version": 1,
     "solution": false
    }
   },
   "source": [
    "Many of trees are actually equivalent in their unrooted forms, and since the unweighted parsimony score is independent of the position of the root, it will make sense to consider just the distinct unrooted trees represented by this list.  Below is a function that takes as input a list of newick strings for rooted trees and returns a list of the distinct unrooted trees represented by those trees."
   ]
  },
  {
   "cell_type": "code",
   "execution_count": 18,
   "metadata": {
    "collapsed": true,
    "nbgrader": {
     "grade": false,
     "grade_id": "cell-2054e28c244fbd3d",
     "locked": true,
     "schema_version": 1,
     "solution": false
    }
   },
   "outputs": [],
   "source": [
    "def distinct_unrooted_trees(rooted_tree_newick_list):\n",
    "    \"\"\"Given a list of rooted trees in newick string format, returns a list of all distict\n",
    "    unrooted trees corresponding to these trees.\"\"\"\n",
    "    distinct_trees = {}\n",
    "    for newick in rooted_tree_newick_list:\n",
    "        unrooted_tree = toytree.tree(newick).unroot()\n",
    "        unrooted_tree_id = unrooted_tree.treenode.get_topology_id()\n",
    "        if unrooted_tree_id not in distinct_trees:\n",
    "            distinct_trees[unrooted_tree_id] = unrooted_tree.write(tree_format=9)\n",
    "    return list(distinct_trees.values())"
   ]
  },
  {
   "cell_type": "code",
   "execution_count": 19,
   "metadata": {
    "nbgrader": {
     "grade": false,
     "grade_id": "cell-ebdde015f24b3e2f",
     "locked": true,
     "schema_version": 1,
     "solution": false
    },
    "scrolled": false
   },
   "outputs": [
    {
     "name": "stdout",
     "output_type": "stream",
     "text": [
      "(C2,C1,(PB,(D,PA)));\n",
      "(C2,C1,(PA,(D,PB)));\n",
      "(C2,C1,(D,(PA,PB)));\n"
     ]
    }
   ],
   "source": [
    "v3_best_trees_unrooted = distinct_unrooted_trees(v3_best_trees)\n",
    "print(*v3_best_trees_unrooted, sep=\"\\n\")"
   ]
  },
  {
   "cell_type": "markdown",
   "metadata": {
    "nbgrader": {
     "grade": false,
     "grade_id": "cell-7147446425dfb589",
     "locked": true,
     "schema_version": 1,
     "solution": false
    }
   },
   "source": [
    "Some questions to think about with regard to these trees:\n",
    "1. How well do these trees match up with the trees you constructed by UPGMA and neighbor joining in the Day 20 activity?\n",
    "2. Are these trees supportive of the hypothesis that the dentist transmitted HIV to these two patients?"
   ]
  },
  {
   "cell_type": "markdown",
   "metadata": {},
   "source": [
    "### BEGIN SOLUTION TEMPLATE=Your thoughts here\n",
    "1. One of these unrooted topologies (C2,C1,(PB,(D,PA))) is the same as what is constructed by both UPGMA and neighbor joining.  The branch lengths of the neighbor joining tree suggested that the topology of the subgroup that includes PB, PA, and D is highly uncertain, which is reflected in that all three subtopologies are showing up as equally parsimonious in this analysis.\n",
    "2. Yes, these tree are supportive of this hypothesis because the dentist sample clusters with the patient samples and is separated from the component of the tree that contains the local control samples.\n",
    "\n",
    "### END SOLUTION"
   ]
  },
  {
   "cell_type": "markdown",
   "metadata": {
    "nbgrader": {
     "grade": false,
     "grade_id": "cell-527bf38610a84b1e",
     "locked": true,
     "schema_version": 1,
     "solution": false
    }
   },
   "source": [
    "### PROBLEM 3: Reconstructing ancestral sequences using parsmiony (1 POINT)\n",
    "For the last problem, we will implement the second stage of Fitch's algorithm, which selects a single ancestral state for each internal node of a tree in a configuration that achieves the minimum cost.  Recall that the second stage of Fitch's algorithm traverses the tree in a pre-order and determines the state at each node that minimizes the cost, given the state selected at that node's parent.  This second stage uses the sets R computed in the first stage."
   ]
  },
  {
   "cell_type": "code",
   "execution_count": 20,
   "metadata": {
    "collapsed": true,
    "nbgrader": {
     "grade": false,
     "grade_id": "cell-fc4c3ee8f57a5be7",
     "locked": false,
     "schema_version": 1,
     "solution": true
    }
   },
   "outputs": [],
   "source": [
    "def fitch_ancestral_states(tree, R):\n",
    "    \"\"\"Computes a configuration of states for the nodes of the tree that minimizes the cost of the tree.\n",
    "    \n",
    "    When visiting a node, if there are multiple states that give the same cost, \n",
    "    the lexicographically smaller state will be chosen.\n",
    "    \n",
    "    Args:\n",
    "        tree: a toytree tree object\n",
    "        R: the dictionary of possible ancestral states for each node (e.g., as computed by the\n",
    "           fitch_score_and_min_cost_states function)\n",
    "    Returns:\n",
    "        A dictionary mapping node names to character states.\n",
    "    \"\"\"\n",
    "    r = {} # a dictionary mapping node names to character states\n",
    "    for node in tree.treenode.traverse(\"preorder\"):\n",
    "        if node.is_root():\n",
    "            r[node.name] = sorted(R[node.name])[0] # use the lexicographically smallest element\n",
    "        else:\n",
    "            ### BEGIN SOLUTION\n",
    "            parent = node.up\n",
    "            if r[parent.name] in R[node.name]:\n",
    "                r[node.name] = r[parent.name]\n",
    "            else:\n",
    "                r[node.name] = sorted(R[node.name])[0]\n",
    "            ### END SOLUTION\n",
    "    return r"
   ]
  },
  {
   "cell_type": "code",
   "execution_count": 21,
   "metadata": {
    "nbgrader": {
     "grade": true,
     "grade_id": "fitch_ancestral_states",
     "locked": true,
     "points": 1,
     "schema_version": 1,
     "solution": false
    }
   },
   "outputs": [
    {
     "name": "stdout",
     "output_type": "stream",
     "text": [
      "SUCCESS: fitch_ancestral_states passed all tests\n"
     ]
    }
   ],
   "source": [
    "# tests for fitch_ancestral_states\n",
    "test1_tree = toytree.tree('((D,C1),(PB,(C2,PA)));')\n",
    "test1_R = {\n",
    "    'C1': {'T'},\n",
    "    'C2': {'A'},\n",
    "    'D': {'C'},\n",
    "    'PA': {'C'},\n",
    "    'PB': {'C'},\n",
    "    '5': {'A', 'C'},\n",
    "    '6': {'C'},\n",
    "    '7': {'C', 'T'},\n",
    "    '8': {'C'}}\n",
    "test1_states = {\n",
    "    'C1': 'T', \n",
    "    'C2': 'A',\n",
    "    'D': 'C',\n",
    "    'PA': 'C',\n",
    "    'PB': 'C',\n",
    "    '5': 'C',\n",
    "    '6': 'C',\n",
    "    '7': 'C',\n",
    "    '8': 'C'}\n",
    "assert fitch_ancestral_states(test1_tree, test1_R) == test1_states\n",
    "\n",
    "test2_tree = toytree.tree('((D,C1),(PB,(C2,PA)));')\n",
    "test2_R = {\n",
    "    'C1': {'T'},\n",
    "    'C2': {'C'},\n",
    "    'D': {'T'},\n",
    "    'PA': {'C'},\n",
    "    'PB': {'C'},\n",
    "    '5': {'C'},\n",
    "    '6': {'C'},\n",
    "    '7': {'T'},\n",
    "    '8': {'C', 'T'}}\n",
    "test2_states = {\n",
    "    'C1': 'T',\n",
    "    'C2': 'C',\n",
    "    'D': 'T',\n",
    "    'PA': 'C',\n",
    "    'PB': 'C',\n",
    "    '5': 'C',\n",
    "    '6': 'C',\n",
    "    '7': 'T',\n",
    "    '8': 'C'}\n",
    "assert fitch_ancestral_states(test2_tree, test2_R) == test2_states\n",
    "\n",
    "print(\"SUCCESS: fitch_ancestral_states passed all tests\")"
   ]
  },
  {
   "cell_type": "markdown",
   "metadata": {
    "nbgrader": {
     "grade": false,
     "grade_id": "cell-e3c5a60ae71da638",
     "locked": true,
     "schema_version": 1,
     "solution": false
    }
   },
   "source": [
    "### Computing a putative ancestral sequence for the dentist's original strain of HIV\n",
    "Finally, we can use your ancestral reconstruction algorithm to reconstruct the entire sequences at the internal nodes of the putative trees that we have reconstructed.  Below is a function that calls the `fitch_ancestral_states` function to reconstruct the ancestral characters at all columns in the multiple alignment."
   ]
  },
  {
   "cell_type": "code",
   "execution_count": 22,
   "metadata": {
    "collapsed": true,
    "nbgrader": {
     "grade": false,
     "grade_id": "cell-d3d6caa42c6b6a9f",
     "locked": true,
     "schema_version": 1,
     "solution": false
    }
   },
   "outputs": [],
   "source": [
    "def compute_ancestral_sequences(tree, alignment, sequence_names):\n",
    "    \"\"\"Computes (reconstructed) sequences for all nodes in the given tree, given a multiple alignment.\n",
    "    \n",
    "    Args:\n",
    "        tree: a toytree tree object\n",
    "        alignment: a list of strings corresponding to the rows of a multiple alignment.\n",
    "        sequence_names: a list of the names of the sequences in the same order as the\n",
    "                        rows of the multiple alignment.\n",
    "    Returns:\n",
    "        A dictionary mapping node names to strings (reconstructed sequences).\n",
    "    \"\"\"\n",
    "    fitch_results = [fitch_score_and_min_cost_states(tree, leaf_states) \n",
    "                     for leaf_states in alignment_leaf_states_list(alignment, sequence_names)]\n",
    "    column_scores, column_Rs = zip(*fitch_results)\n",
    "    column_ancestral_states = [fitch_ancestral_states(tree, column_R) for column_R in column_Rs]\n",
    "    node_names = [node.name for node in tree.treenode.traverse(\"postorder\")]\n",
    "    full_alignment = [''.join([states[name] for states in column_ancestral_states]) for name in node_names]\n",
    "    return {name: sequence for name, sequence in zip(node_names, full_alignment)}"
   ]
  },
  {
   "cell_type": "markdown",
   "metadata": {
    "nbgrader": {
     "grade": false,
     "grade_id": "cell-bb7fbda6afe8de40",
     "locked": true,
     "schema_version": 1,
     "solution": false
    }
   },
   "source": [
    "We can use this function to estimate what the sequence would be for the internal node that is the most recent common ancestor of the dentist and patient samples.  Assuming the hypothesis that the dentist trasmitted HIV to the patients, this internal node represents the sequence of the virus as it existed around the time that the transmission events occurred.  Below is the tree that we will assume in this case."
   ]
  },
  {
   "cell_type": "code",
   "execution_count": 23,
   "metadata": {
    "nbgrader": {
     "grade": false,
     "grade_id": "cell-081ede82bdd61388",
     "locked": true,
     "schema_version": 1,
     "solution": false
    },
    "scrolled": true
   },
   "outputs": [
    {
     "data": {
      "text/html": [
       "<div class=\"toyplot\" id=\"tad4d88db8a8e4efd8638cb11e8a4a0c8\" style=\"text-align:center\"><svg class=\"toyplot-canvas-Canvas\" height=\"250.0px\" id=\"t45b6cf05104c400daea3524b3b0e6e12\" preserveAspectRatio=\"xMidYMid meet\" style=\"background-color:transparent;border-color:#292724;border-style:none;border-width:1.0;fill:rgb(16.1%,15.3%,14.1%);fill-opacity:1.0;font-family:Helvetica;font-size:12px;opacity:1.0;stroke:rgb(16.1%,15.3%,14.1%);stroke-opacity:1.0;stroke-width:1.0\" viewBox=\"0 0 350.0 250.0\" width=\"350.0px\" xmlns=\"http://www.w3.org/2000/svg\" xmlns:toyplot=\"http://www.sandia.gov/toyplot\" xmlns:xlink=\"http://www.w3.org/1999/xlink\"><g class=\"toyplot-coordinates-Cartesian\" id=\"tdfd60e45835241b183edad6d44208f20\"><clipPath id=\"t306c82bb68294f7787dd4da034c5affd\"><rect height=\"190.0\" width=\"290.0\" x=\"30.0\" y=\"30.0\"></rect></clipPath><g clip-path=\"url(#t306c82bb68294f7787dd4da034c5affd)\"><g class=\"toyplot-mark-Text\" id=\"t9984e83943484d9592173e8982fd649a\"><g class=\"toyplot-Series\"></g></g><g class=\"toyplot-mark-Graph\" id=\"t327ce93e1ee948bf937a4a9f8e4db6b4\"><g class=\"toyplot-Edges\"><path d=\"M 268.75 50.0 L 268.75 150.0\" style=\"fill:none;opacity:1;stroke:rgb(14.9%,14.9%,14.9%);stroke-linecap:round;stroke-opacity:1.0;stroke-width:2.0\"></path><path d=\"M 128.125 50.0 L 128.125 100.0\" style=\"fill:none;opacity:1;stroke:rgb(14.9%,14.9%,14.9%);stroke-linecap:round;stroke-opacity:1.0;stroke-width:2.0\"></path><path d=\"M 300.0 150.0 L 300.0 200.0\" style=\"fill:none;opacity:1;stroke:rgb(14.9%,14.9%,14.9%);stroke-linecap:round;stroke-opacity:1.0;stroke-width:2.0\"></path><path d=\"M 237.5 150.0 L 237.5 200.0\" style=\"fill:none;opacity:1;stroke:rgb(14.9%,14.9%,14.9%);stroke-linecap:round;stroke-opacity:1.0;stroke-width:2.0\"></path><path d=\"M 175.0 100.0 L 175.0 200.0\" style=\"fill:none;opacity:1;stroke:rgb(14.9%,14.9%,14.9%);stroke-linecap:round;stroke-opacity:1.0;stroke-width:2.0\"></path><path d=\"M 81.25 100.0 L 81.25 150.0\" style=\"fill:none;opacity:1;stroke:rgb(14.9%,14.9%,14.9%);stroke-linecap:round;stroke-opacity:1.0;stroke-width:2.0\"></path><path d=\"M 112.5 150.0 L 112.5 200.0\" style=\"fill:none;opacity:1;stroke:rgb(14.9%,14.9%,14.9%);stroke-linecap:round;stroke-opacity:1.0;stroke-width:2.0\"></path><path d=\"M 50.0 150.0 L 50.0 200.0\" style=\"fill:none;opacity:1;stroke:rgb(14.9%,14.9%,14.9%);stroke-linecap:round;stroke-opacity:1.0;stroke-width:2.0\"></path><path d=\"M 198.4375 50.0 L 268.75 50.0\" style=\"fill:none;opacity:1;stroke:rgb(14.9%,14.9%,14.9%);stroke-linecap:round;stroke-opacity:1.0;stroke-width:2.0\"></path><path d=\"M 198.4375 50.0 L 128.125 50.0\" style=\"fill:none;opacity:1;stroke:rgb(14.9%,14.9%,14.9%);stroke-linecap:round;stroke-opacity:1.0;stroke-width:2.0\"></path><path d=\"M 268.75 150.0 L 300.0 150.0\" style=\"fill:none;opacity:1;stroke:rgb(14.9%,14.9%,14.9%);stroke-linecap:round;stroke-opacity:1.0;stroke-width:2.0\"></path><path d=\"M 268.75 150.0 L 237.5 150.0\" style=\"fill:none;opacity:1;stroke:rgb(14.9%,14.9%,14.9%);stroke-linecap:round;stroke-opacity:1.0;stroke-width:2.0\"></path><path d=\"M 128.125 100.0 L 175.0 100.0\" style=\"fill:none;opacity:1;stroke:rgb(14.9%,14.9%,14.9%);stroke-linecap:round;stroke-opacity:1.0;stroke-width:2.0\"></path><path d=\"M 128.125 100.0 L 81.25 100.0\" style=\"fill:none;opacity:1;stroke:rgb(14.9%,14.9%,14.9%);stroke-linecap:round;stroke-opacity:1.0;stroke-width:2.0\"></path><path d=\"M 81.25 150.0 L 112.5 150.0\" style=\"fill:none;opacity:1;stroke:rgb(14.9%,14.9%,14.9%);stroke-linecap:round;stroke-opacity:1.0;stroke-width:2.0\"></path><path d=\"M 81.25 150.0 L 50.0 150.0\" style=\"fill:none;opacity:1;stroke:rgb(14.9%,14.9%,14.9%);stroke-linecap:round;stroke-opacity:1.0;stroke-width:2.0\"></path><g class=\"toyplot-HeadMarkers\"></g><g class=\"toyplot-MiddleMarkers\"></g><g class=\"toyplot-TailMarkers\"></g></g><g class=\"toyplot-Vertices\"><g class=\"toyplot-Datum\" style=\"fill:rgb(40%,76.1%,64.7%);fill-opacity:1.0;opacity:1.0;stroke:rgb(40%,76.1%,64.7%);stroke-opacity:1.0\" transform=\"translate(50.0, 200.0)\"><circle r=\"0.0\"></circle></g><g class=\"toyplot-Datum\" style=\"fill:rgb(40%,76.1%,64.7%);fill-opacity:1.0;opacity:1.0;stroke:rgb(40%,76.1%,64.7%);stroke-opacity:1.0\" transform=\"translate(112.5, 200.0)\"><circle r=\"0.0\"></circle></g><g class=\"toyplot-Datum\" style=\"fill:rgb(40%,76.1%,64.7%);fill-opacity:1.0;opacity:1.0;stroke:rgb(40%,76.1%,64.7%);stroke-opacity:1.0\" transform=\"translate(175.0, 200.0)\"><circle r=\"0.0\"></circle></g><g class=\"toyplot-Datum\" style=\"fill:rgb(40%,76.1%,64.7%);fill-opacity:1.0;opacity:1.0;stroke:rgb(40%,76.1%,64.7%);stroke-opacity:1.0\" transform=\"translate(237.5, 200.0)\"><circle r=\"0.0\"></circle></g><g class=\"toyplot-Datum\" style=\"fill:rgb(40%,76.1%,64.7%);fill-opacity:1.0;opacity:1.0;stroke:rgb(40%,76.1%,64.7%);stroke-opacity:1.0\" transform=\"translate(300.0, 200.0)\"><circle r=\"0.0\"></circle></g><g class=\"toyplot-Datum\" style=\"fill:rgb(40%,76.1%,64.7%);fill-opacity:1.0;opacity:1.0;stroke:rgb(40%,76.1%,64.7%);stroke-opacity:1.0\" transform=\"translate(81.25, 150.0)\"><circle r=\"0.0\"></circle></g><g class=\"toyplot-Datum\" style=\"fill:rgb(40%,76.1%,64.7%);fill-opacity:1.0;opacity:1.0;stroke:rgb(40%,76.1%,64.7%);stroke-opacity:1.0\" transform=\"translate(128.125, 100.0)\"><circle r=\"0.0\"></circle></g><g class=\"toyplot-Datum\" style=\"fill:rgb(40%,76.1%,64.7%);fill-opacity:1.0;opacity:1.0;stroke:rgb(40%,76.1%,64.7%);stroke-opacity:1.0\" transform=\"translate(268.75, 150.0)\"><circle r=\"0.0\"></circle></g><g class=\"toyplot-Datum\" style=\"fill:rgb(40%,76.1%,64.7%);fill-opacity:1.0;opacity:1.0;stroke:rgb(40%,76.1%,64.7%);stroke-opacity:1.0\" transform=\"translate(198.4375, 50.0)\"><circle r=\"0.0\"></circle></g><g class=\"toyplot-Datum\" style=\"fill:rgb(40%,76.1%,64.7%);fill-opacity:1.0;opacity:1.0;stroke:rgb(40%,76.1%,64.7%);stroke-opacity:1.0\" transform=\"translate(268.75, 50.0)\"><circle r=\"0.0\"></circle></g><g class=\"toyplot-Datum\" style=\"fill:rgb(40%,76.1%,64.7%);fill-opacity:1.0;opacity:1.0;stroke:rgb(40%,76.1%,64.7%);stroke-opacity:1.0\" transform=\"translate(128.125, 50.0)\"><circle r=\"0.0\"></circle></g><g class=\"toyplot-Datum\" style=\"fill:rgb(40%,76.1%,64.7%);fill-opacity:1.0;opacity:1.0;stroke:rgb(40%,76.1%,64.7%);stroke-opacity:1.0\" transform=\"translate(300.0, 150.0)\"><circle r=\"0.0\"></circle></g><g class=\"toyplot-Datum\" style=\"fill:rgb(40%,76.1%,64.7%);fill-opacity:1.0;opacity:1.0;stroke:rgb(40%,76.1%,64.7%);stroke-opacity:1.0\" transform=\"translate(237.5, 150.0)\"><circle r=\"0.0\"></circle></g><g class=\"toyplot-Datum\" style=\"fill:rgb(40%,76.1%,64.7%);fill-opacity:1.0;opacity:1.0;stroke:rgb(40%,76.1%,64.7%);stroke-opacity:1.0\" transform=\"translate(175.0, 100.0)\"><circle r=\"0.0\"></circle></g><g class=\"toyplot-Datum\" style=\"fill:rgb(40%,76.1%,64.7%);fill-opacity:1.0;opacity:1.0;stroke:rgb(40%,76.1%,64.7%);stroke-opacity:1.0\" transform=\"translate(81.25, 100.0)\"><circle r=\"0.0\"></circle></g><g class=\"toyplot-Datum\" style=\"fill:rgb(40%,76.1%,64.7%);fill-opacity:1.0;opacity:1.0;stroke:rgb(40%,76.1%,64.7%);stroke-opacity:1.0\" transform=\"translate(112.5, 150.0)\"><circle r=\"0.0\"></circle></g><g class=\"toyplot-Datum\" style=\"fill:rgb(40%,76.1%,64.7%);fill-opacity:1.0;opacity:1.0;stroke:rgb(40%,76.1%,64.7%);stroke-opacity:1.0\" transform=\"translate(50.0, 150.0)\"><circle r=\"0.0\"></circle></g></g></g><g class=\"toyplot-mark-Point\" id=\"t34e23dc13e564d5681afce83f15fad30\"><g class=\"toyplot-Series\"><g class=\"toyplot-Datum\" style=\"fill:rgb(40%,76.1%,64.7%);fill-opacity:1.0;opacity:1.0;stroke:none;stroke-width:1\" transform=\"translate(50.0, 200.0)\"><circle r=\"9.0\"></circle><g><text style=\"fill:rgb(14.9%,14.9%,14.9%);fill-opacity:1.0;font-family:helvetica;font-size:9.0px;font-weight:normal;stroke:none;vertical-align:baseline;white-space:pre\" x=\"-6.003\" y=\"2.2995\">PB</text></g></g><g class=\"toyplot-Datum\" style=\"fill:rgb(40%,76.1%,64.7%);fill-opacity:1.0;opacity:1.0;stroke:none;stroke-width:1\" transform=\"translate(112.5, 200.0)\"><circle r=\"9.0\"></circle><g><text style=\"fill:rgb(14.9%,14.9%,14.9%);fill-opacity:1.0;font-family:helvetica;font-size:9.0px;font-weight:normal;stroke:none;vertical-align:baseline;white-space:pre\" x=\"-6.003\" y=\"2.2995\">PA</text></g></g><g class=\"toyplot-Datum\" style=\"fill:rgb(40%,76.1%,64.7%);fill-opacity:1.0;opacity:1.0;stroke:none;stroke-width:1\" transform=\"translate(175.0, 200.0)\"><circle r=\"9.0\"></circle><g><text style=\"fill:rgb(14.9%,14.9%,14.9%);fill-opacity:1.0;font-family:helvetica;font-size:9.0px;font-weight:normal;stroke:none;vertical-align:baseline;white-space:pre\" x=\"-3.249\" y=\"2.2995\">D</text></g></g><g class=\"toyplot-Datum\" style=\"fill:rgb(40%,76.1%,64.7%);fill-opacity:1.0;opacity:1.0;stroke:none;stroke-width:1\" transform=\"translate(237.5, 200.0)\"><circle r=\"9.0\"></circle><g><text style=\"fill:rgb(14.9%,14.9%,14.9%);fill-opacity:1.0;font-family:helvetica;font-size:9.0px;font-weight:normal;stroke:none;vertical-align:baseline;white-space:pre\" x=\"-5.751\" y=\"2.2995\">C2</text></g></g><g class=\"toyplot-Datum\" style=\"fill:rgb(40%,76.1%,64.7%);fill-opacity:1.0;opacity:1.0;stroke:none;stroke-width:1\" transform=\"translate(300.0, 200.0)\"><circle r=\"9.0\"></circle><g><text style=\"fill:rgb(14.9%,14.9%,14.9%);fill-opacity:1.0;font-family:helvetica;font-size:9.0px;font-weight:normal;stroke:none;vertical-align:baseline;white-space:pre\" x=\"-5.751\" y=\"2.2995\">C1</text></g></g><g class=\"toyplot-Datum\" style=\"fill:rgb(40%,76.1%,64.7%);fill-opacity:1.0;opacity:1.0;stroke:none;stroke-width:1\" transform=\"translate(81.25, 150.0)\"><circle r=\"9.0\"></circle><g><text style=\"fill:rgb(14.9%,14.9%,14.9%);fill-opacity:1.0;font-family:helvetica;font-size:9.0px;font-weight:normal;stroke:none;vertical-align:baseline;white-space:pre\" x=\"-2.5020000000000002\" y=\"2.2995\">5</text></g></g><g class=\"toyplot-Datum\" style=\"fill:rgb(40%,76.1%,64.7%);fill-opacity:1.0;opacity:1.0;stroke:none;stroke-width:1\" transform=\"translate(128.125, 100.0)\"><circle r=\"9.0\"></circle><g><text style=\"fill:rgb(14.9%,14.9%,14.9%);fill-opacity:1.0;font-family:helvetica;font-size:9.0px;font-weight:normal;stroke:none;vertical-align:baseline;white-space:pre\" x=\"-2.5020000000000002\" y=\"2.2995\">6</text></g></g><g class=\"toyplot-Datum\" style=\"fill:rgb(40%,76.1%,64.7%);fill-opacity:1.0;opacity:1.0;stroke:none;stroke-width:1\" transform=\"translate(268.75, 150.0)\"><circle r=\"9.0\"></circle><g><text style=\"fill:rgb(14.9%,14.9%,14.9%);fill-opacity:1.0;font-family:helvetica;font-size:9.0px;font-weight:normal;stroke:none;vertical-align:baseline;white-space:pre\" x=\"-2.5020000000000002\" y=\"2.2995\">7</text></g></g><g class=\"toyplot-Datum\" style=\"fill:rgb(40%,76.1%,64.7%);fill-opacity:1.0;opacity:1.0;stroke:none;stroke-width:1\" transform=\"translate(198.4375, 50.0)\"><circle r=\"9.0\"></circle><g><text style=\"fill:rgb(14.9%,14.9%,14.9%);fill-opacity:1.0;font-family:helvetica;font-size:9.0px;font-weight:normal;stroke:none;vertical-align:baseline;white-space:pre\" x=\"-2.5020000000000002\" y=\"2.2995\">8</text></g></g></g></g></g></g></svg><div class=\"toyplot-behavior\"><script>(function()\n",
       "{\n",
       "var modules={};\n",
       "modules[\"toyplot/tables\"] = (function()\n",
       "    {\n",
       "        var tables = [];\n",
       "\n",
       "        var module = {};\n",
       "\n",
       "        module.set = function(owner, key, names, columns)\n",
       "        {\n",
       "            tables.push({owner: owner, key: key, names: names, columns: columns});\n",
       "        }\n",
       "\n",
       "        module.get = function(owner, key)\n",
       "        {\n",
       "            for(var i = 0; i != tables.length; ++i)\n",
       "            {\n",
       "                var table = tables[i];\n",
       "                if(table.owner != owner)\n",
       "                    continue;\n",
       "                if(table.key != key)\n",
       "                    continue;\n",
       "                return {names: table.names, columns: table.columns};\n",
       "            }\n",
       "        }\n",
       "\n",
       "        module.get_csv = function(owner, key)\n",
       "        {\n",
       "            var table = module.get(owner, key);\n",
       "            if(table != undefined)\n",
       "            {\n",
       "                var csv = \"\";\n",
       "                csv += table.names.join(\",\") + \"\\n\";\n",
       "                for(var i = 0; i != table.columns[0].length; ++i)\n",
       "                {\n",
       "                  for(var j = 0; j != table.columns.length; ++j)\n",
       "                  {\n",
       "                    if(j)\n",
       "                      csv += \",\";\n",
       "                    csv += table.columns[j][i];\n",
       "                  }\n",
       "                  csv += \"\\n\";\n",
       "                }\n",
       "                return csv;\n",
       "            }\n",
       "        }\n",
       "\n",
       "        return module;\n",
       "    })();\n",
       "modules[\"toyplot/root/id\"] = \"tad4d88db8a8e4efd8638cb11e8a4a0c8\";\n",
       "modules[\"toyplot/root\"] = (function(root_id)\n",
       "    {\n",
       "        return document.querySelector(\"#\" + root_id);\n",
       "    })(modules[\"toyplot/root/id\"]);\n",
       "modules[\"toyplot/canvas/id\"] = \"t45b6cf05104c400daea3524b3b0e6e12\";\n",
       "modules[\"toyplot/canvas\"] = (function(canvas_id)\n",
       "    {\n",
       "        return document.querySelector(\"#\" + canvas_id);\n",
       "    })(modules[\"toyplot/canvas/id\"]);\n",
       "modules[\"toyplot/menus/context\"] = (function(root, canvas)\n",
       "    {\n",
       "        var wrapper = document.createElement(\"div\");\n",
       "        wrapper.innerHTML = \"<ul class='toyplot-context-menu' style='background:#eee; border:1px solid #b8b8b8; border-radius:5px; box-shadow: 0px 0px 8px rgba(0%,0%,0%,0.25); margin:0; padding:3px 0; position:fixed; visibility:hidden;'></ul>\"\n",
       "        var menu = wrapper.firstChild;\n",
       "\n",
       "        root.appendChild(menu);\n",
       "\n",
       "        var items = [];\n",
       "\n",
       "        var ignore_mouseup = null;\n",
       "        function open_menu(e)\n",
       "        {\n",
       "            var show_menu = false;\n",
       "            for(var index=0; index != items.length; ++index)\n",
       "            {\n",
       "                var item = items[index];\n",
       "                if(item.show(e))\n",
       "                {\n",
       "                    item.item.style.display = \"block\";\n",
       "                    show_menu = true;\n",
       "                }\n",
       "                else\n",
       "                {\n",
       "                    item.item.style.display = \"none\";\n",
       "                }\n",
       "            }\n",
       "\n",
       "            if(show_menu)\n",
       "            {\n",
       "                ignore_mouseup = true;\n",
       "                menu.style.left = (e.clientX + 1) + \"px\";\n",
       "                menu.style.top = (e.clientY - 5) + \"px\";\n",
       "                menu.style.visibility = \"visible\";\n",
       "                e.stopPropagation();\n",
       "                e.preventDefault();\n",
       "            }\n",
       "        }\n",
       "\n",
       "        function close_menu()\n",
       "        {\n",
       "            menu.style.visibility = \"hidden\";\n",
       "        }\n",
       "\n",
       "        function contextmenu(e)\n",
       "        {\n",
       "            open_menu(e);\n",
       "        }\n",
       "\n",
       "        function mousemove(e)\n",
       "        {\n",
       "            ignore_mouseup = false;\n",
       "        }\n",
       "\n",
       "        function mouseup(e)\n",
       "        {\n",
       "            if(ignore_mouseup)\n",
       "            {\n",
       "                ignore_mouseup = false;\n",
       "                return;\n",
       "            }\n",
       "            close_menu();\n",
       "        }\n",
       "\n",
       "        function keydown(e)\n",
       "        {\n",
       "            if(e.key == \"Escape\" || e.key == \"Esc\" || e.keyCode == 27)\n",
       "            {\n",
       "                close_menu();\n",
       "            }\n",
       "        }\n",
       "\n",
       "        canvas.addEventListener(\"contextmenu\", contextmenu);\n",
       "        canvas.addEventListener(\"mousemove\", mousemove);\n",
       "        document.addEventListener(\"mouseup\", mouseup);\n",
       "        document.addEventListener(\"keydown\", keydown);\n",
       "\n",
       "        var module = {};\n",
       "        module.add_item = function(label, show, activate)\n",
       "        {\n",
       "            var wrapper = document.createElement(\"div\");\n",
       "            wrapper.innerHTML = \"<li class='toyplot-context-menu-item' style='background:#eee; color:#333; padding:2px 20px; list-style:none; margin:0; text-align:left;'>\" + label + \"</li>\"\n",
       "            var item = wrapper.firstChild;\n",
       "\n",
       "            items.push({item: item, show: show});\n",
       "\n",
       "            function mouseover()\n",
       "            {\n",
       "                this.style.background = \"steelblue\";\n",
       "                this.style.color = \"white\";\n",
       "            }\n",
       "\n",
       "            function mouseout()\n",
       "            {\n",
       "                this.style.background = \"#eee\";\n",
       "                this.style.color = \"#333\";\n",
       "            }\n",
       "\n",
       "            function choose_item(e)\n",
       "            {\n",
       "                close_menu();\n",
       "                activate();\n",
       "\n",
       "                e.stopPropagation();\n",
       "                e.preventDefault();\n",
       "            }\n",
       "\n",
       "            item.addEventListener(\"mouseover\", mouseover);\n",
       "            item.addEventListener(\"mouseout\", mouseout);\n",
       "            item.addEventListener(\"mouseup\", choose_item);\n",
       "            item.addEventListener(\"contextmenu\", choose_item);\n",
       "\n",
       "            menu.appendChild(item);\n",
       "        };\n",
       "        return module;\n",
       "    })(modules[\"toyplot/root\"],modules[\"toyplot/canvas\"]);\n",
       "modules[\"toyplot/io\"] = (function()\n",
       "    {\n",
       "        var module = {};\n",
       "        module.save_file = function(mime_type, charset, data, filename)\n",
       "        {\n",
       "            var uri = \"data:\" + mime_type + \";charset=\" + charset + \",\" + data;\n",
       "            uri = encodeURI(uri);\n",
       "\n",
       "            var link = document.createElement(\"a\");\n",
       "            if(typeof link.download != \"undefined\")\n",
       "            {\n",
       "              link.href = uri;\n",
       "              link.style = \"visibility:hidden\";\n",
       "              link.download = filename;\n",
       "\n",
       "              document.body.appendChild(link);\n",
       "              link.click();\n",
       "              document.body.removeChild(link);\n",
       "            }\n",
       "            else\n",
       "            {\n",
       "              window.open(uri);\n",
       "            }\n",
       "        };\n",
       "        return module;\n",
       "    })();\n",
       "(function(tables, context_menu, io, owner_id, key, label, names, columns, filename)\n",
       "        {\n",
       "            tables.set(owner_id, key, names, columns);\n",
       "\n",
       "            var owner = document.querySelector(\"#\" + owner_id);\n",
       "            function show_item(e)\n",
       "            {\n",
       "                return owner.contains(e.target);\n",
       "            }\n",
       "\n",
       "            function choose_item()\n",
       "            {\n",
       "                io.save_file(\"text/csv\", \"utf-8\", tables.get_csv(owner_id, key), filename + \".csv\");\n",
       "            }\n",
       "\n",
       "            context_menu.add_item(\"Save \" + label + \" as CSV\", show_item, choose_item);\n",
       "        })(modules[\"toyplot/tables\"],modules[\"toyplot/menus/context\"],modules[\"toyplot/io\"],\"t327ce93e1ee948bf937a4a9f8e4db6b4\",\"vertex_data\",\"graph vertex data\",[\"x\", \"y\"],[[0.0, 1.0, 2.0, 3.0, 4.0, 0.5, 1.25, 3.5, 2.375, 3.5, 1.25, 4.0, 3.0, 2.0, 0.5, 1.0, 0.0], [0.0, 0.0, 0.0, 0.0, 0.0, 1.0, 2.0, 1.0, 3.0, 3.0, 3.0, 1.0, 1.0, 2.0, 2.0, 1.0, 1.0]],\"toyplot\");\n",
       "(function(tables, context_menu, io, owner_id, key, label, names, columns, filename)\n",
       "        {\n",
       "            tables.set(owner_id, key, names, columns);\n",
       "\n",
       "            var owner = document.querySelector(\"#\" + owner_id);\n",
       "            function show_item(e)\n",
       "            {\n",
       "                return owner.contains(e.target);\n",
       "            }\n",
       "\n",
       "            function choose_item()\n",
       "            {\n",
       "                io.save_file(\"text/csv\", \"utf-8\", tables.get_csv(owner_id, key), filename + \".csv\");\n",
       "            }\n",
       "\n",
       "            context_menu.add_item(\"Save \" + label + \" as CSV\", show_item, choose_item);\n",
       "        })(modules[\"toyplot/tables\"],modules[\"toyplot/menus/context\"],modules[\"toyplot/io\"],\"t327ce93e1ee948bf937a4a9f8e4db6b4\",\"edge_data\",\"graph edge data\",[\"source\", \"target\"],[[9, 10, 11, 12, 13, 14, 15, 16, 8, 8, 7, 7, 6, 6, 5, 5], [7, 6, 4, 3, 2, 5, 1, 0, 9, 10, 11, 12, 13, 14, 15, 16]],\"toyplot\");\n",
       "(function(tables, context_menu, io, owner_id, key, label, names, columns, filename)\n",
       "        {\n",
       "            tables.set(owner_id, key, names, columns);\n",
       "\n",
       "            var owner = document.querySelector(\"#\" + owner_id);\n",
       "            function show_item(e)\n",
       "            {\n",
       "                return owner.contains(e.target);\n",
       "            }\n",
       "\n",
       "            function choose_item()\n",
       "            {\n",
       "                io.save_file(\"text/csv\", \"utf-8\", tables.get_csv(owner_id, key), filename + \".csv\");\n",
       "            }\n",
       "\n",
       "            context_menu.add_item(\"Save \" + label + \" as CSV\", show_item, choose_item);\n",
       "        })(modules[\"toyplot/tables\"],modules[\"toyplot/menus/context\"],modules[\"toyplot/io\"],\"t34e23dc13e564d5681afce83f15fad30\",\"data\",\"point\",[\"x\", \"y0\"],[[0.0, 1.0, 2.0, 3.0, 4.0, 0.5, 1.25, 3.5, 2.375], [0.0, 0.0, 0.0, 0.0, 0.0, 1.0, 2.0, 1.0, 3.0]],\"toyplot\");\n",
       "})();</script></div></div>"
      ]
     },
     "metadata": {},
     "output_type": "display_data"
    }
   ],
   "source": [
    "possible_tree = toytree.tree(\"((D,(PA,PB)),(C1,C2));\")\n",
    "draw_tree_with_internal_labels(possible_tree)"
   ]
  },
  {
   "cell_type": "markdown",
   "metadata": {
    "nbgrader": {
     "grade": false,
     "grade_id": "cell-df6a5b27b26be0f1",
     "locked": true,
     "schema_version": 1,
     "solution": false
    }
   },
   "source": [
    "And here is the reconstructed sequence."
   ]
  },
  {
   "cell_type": "code",
   "execution_count": 24,
   "metadata": {
    "nbgrader": {
     "grade": false,
     "grade_id": "cell-36a29de130b90798",
     "locked": true,
     "schema_version": 1,
     "solution": false
    }
   },
   "outputs": [
    {
     "name": "stdout",
     "output_type": "stream",
     "text": [
      "GAGGTAGTAATTAGATCTGCCAATTTCACAGACAATGCTAAAATCATAATAGTACAGCTGAATGCATCTGTAGAAATTAATTGTACAAGACCCAACAACAATACAAGAAAAGGTATACATATAGGACCAGGGAGAGCATTTTATGCAACAGGAGAAATAATAGGAGATATAAGACAAGCACATTGTAACATTAGTAGAGAAAAATGGAATAATACTTTAAAACAGGTAGTTACAAAATTAAGAGAACAATTTAAAAAACAATAATCTTTAATCACTCCTCAGGAGGGGACCCAGAAATTGTAATGC\n"
     ]
    }
   ],
   "source": [
    "all_node_sequences = compute_ancestral_sequences(possible_tree, v3_alignment, v3_sequence_names)\n",
    "ancestral_dentist_hiv_sequence = all_node_sequences[\"6\"]\n",
    "print(ancestral_dentist_hiv_sequence)"
   ]
  }
 ],
 "metadata": {
  "celltoolbar": "Create Assignment",
  "kernelspec": {
   "display_name": "Python 3",
   "language": "python",
   "name": "python3"
  },
  "language_info": {
   "codemirror_mode": {
    "name": "ipython",
    "version": 3
   },
   "file_extension": ".py",
   "mimetype": "text/x-python",
   "name": "python",
   "nbconvert_exporter": "python",
   "pygments_lexer": "ipython3",
   "version": "3.8.5"
  }
 },
 "nbformat": 4,
 "nbformat_minor": 2
}
