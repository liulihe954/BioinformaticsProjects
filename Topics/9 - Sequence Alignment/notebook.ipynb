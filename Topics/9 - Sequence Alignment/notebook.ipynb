{
 "cells": [
  {
   "cell_type": "markdown",
   "metadata": {
    "nbgrader": {
     "grade": false,
     "grade_id": "cell-8ea1291f2dde9a37",
     "locked": true,
     "schema_version": 1,
     "solution": false
    }
   },
   "source": [
    "# Day 9 notebook\n",
    "\n",
    "The objectives of this notebook are to practice running (by hand) the dynamic programming algorithms for \n",
    "\n",
    "* global alignment with linear gap penalty\n",
    "* local alignment with linear gap penalty\n",
    "* global alignment with affine gap penalty"
   ]
  },
  {
   "cell_type": "markdown",
   "metadata": {
    "nbgrader": {
     "grade": false,
     "grade_id": "cell-fd8f76b65a977bef",
     "locked": true,
     "schema_version": 1,
     "solution": false
    }
   },
   "source": [
    "## Sequences to align\n",
    "\n",
    "In this activity, you will align the same pair of sequences multiple times, but with different alignment algorithms.  The two sequences to align are: `CAATATG` and `CATA`.\n",
    "\n",
    "You may find the included [worksheet](day09_activity_worksheet.pdf) useful for running the dynamic programming algorithms."
   ]
  },
  {
   "cell_type": "markdown",
   "metadata": {
    "nbgrader": {
     "grade": false,
     "grade_id": "cell-12aecf613ceacaf7",
     "locked": true,
     "schema_version": 1,
     "solution": false
    }
   },
   "source": [
    "### PROBLEM 1: Global alignment with linear gap penalty (3 POINTS)\n",
    "\n",
    "Align the sequences by hand using the Needleman–Wunsch algorithm (global alignment with linear gap penalty).  Use the following scoring scheme:\n",
    "* Match: +1\n",
    "* Mismatch: -1\n",
    "* Space: -2\n",
    "\n",
    "To submit your solution, do the following variable assignments in the solution cell below:\n",
    "\n",
    "* assign to the variable `global_linear_opt_score` the optimal alignment *score* \n",
    "* assign to the variable `global_linear_opt_alignments` a *list* of *all* alignments that achieve that optimal score\n",
    "* assign to the variable `global_linear_last_row` a *list* representing the entries in the last row of the dynamic programming matrix.\n",
    "\n",
    "Each alignment should be represented by a list of two strings.  The first sequence, `CAATATG`, should be represented by the first string.  For example, here is an example of a list of alignments (non-optimal alignments):"
   ]
  },
  {
   "cell_type": "code",
   "execution_count": 1,
   "metadata": {
    "nbgrader": {
     "grade": false,
     "grade_id": "cell-c324a7d07edd0817",
     "locked": true,
     "schema_version": 1,
     "solution": false
    }
   },
   "outputs": [
    {
     "data": {
      "text/plain": [
       "[['CAATATG', 'CATA---'], ['CAATATG', '--C-ATA'], ['CA-ATATG', 'CATA----']]"
      ]
     },
     "execution_count": 1,
     "metadata": {},
     "output_type": "execute_result"
    }
   ],
   "source": [
    "# example of a list of alignments\n",
    "[[\"CAATATG\",\n",
    "  \"CATA---\"],\n",
    " [\"CAATATG\",\n",
    "  \"--C-ATA\"],\n",
    " [\"CA-ATATG\",\n",
    "  \"CATA----\"]]"
   ]
  },
  {
   "cell_type": "code",
   "execution_count": 2,
   "metadata": {
    "collapsed": true,
    "nbgrader": {
     "grade": false,
     "grade_id": "cell-20a6640bc4fe8616",
     "locked": false,
     "schema_version": 1,
     "solution": true
    }
   },
   "outputs": [],
   "source": [
    "### BEGIN SOLUTION TEMPLATE=global_linear_opt_score = ?\n",
    "global_linear_opt_score = -2\n",
    "### END SOLUTION\n",
    "### BEGIN SOLUTION TEMPLATE=global_linear_opt_alignments = ?\n",
    "global_linear_opt_alignments = [[\"CAATATG\",\n",
    "                                 \"C-ATA--\"],\n",
    "                                [\"CAATATG\",\n",
    "                                 \"CA-TA--\"]]\n",
    "### END SOLUTION\n",
    "### BEGIN SOLUTION TEMPLATE=global_linear_last_row = ?\n",
    "global_linear_last_row = [-14, -11, -8, -5, -2]\n",
    "### END SOLUTION"
   ]
  },
  {
   "cell_type": "code",
   "execution_count": 3,
   "metadata": {
    "collapsed": true,
    "nbgrader": {
     "grade": true,
     "grade_id": "global_linear_opt_score",
     "locked": true,
     "points": 1,
     "schema_version": 1,
     "solution": false
    },
    "scrolled": false
   },
   "outputs": [],
   "source": [
    "# tests for global_linear_opt_score\n",
    "assert isinstance(global_linear_opt_score, int)\n",
    "### BEGIN HIDDEN TESTS\n",
    "assert global_linear_opt_score == -2\n",
    "### END HIDDEN TESTS"
   ]
  },
  {
   "cell_type": "code",
   "execution_count": 4,
   "metadata": {
    "collapsed": true,
    "nbgrader": {
     "grade": true,
     "grade_id": "global_linear_opt_alignments",
     "locked": true,
     "points": 1,
     "schema_version": 1,
     "solution": false
    },
    "scrolled": false
   },
   "outputs": [],
   "source": [
    "# test for global_linear_opt_alignments\n",
    "assert isinstance(global_linear_opt_alignments, list)\n",
    "### BEGIN HIDDEN TESTS\n",
    "assert sorted(global_linear_opt_alignments) == [[\"CAATATG\",\n",
    "                                                 \"C-ATA--\"],\n",
    "                                                [\"CAATATG\",\n",
    "                                                 \"CA-TA--\"]]\n",
    "### END HIDDEN TESTS"
   ]
  },
  {
   "cell_type": "code",
   "execution_count": 5,
   "metadata": {
    "collapsed": true,
    "nbgrader": {
     "grade": true,
     "grade_id": "global_linear_last_row_entry_0",
     "locked": true,
     "points": 0.25,
     "schema_version": 1,
     "solution": false
    },
    "scrolled": false
   },
   "outputs": [],
   "source": [
    "# test for global_linear_last_row_entry_0\n",
    "assert isinstance(global_linear_last_row[0], int)\n",
    "### BEGIN HIDDEN TESTS\n",
    "assert global_linear_last_row[0] == -14\n",
    "### END HIDDEN TESTS"
   ]
  },
  {
   "cell_type": "code",
   "execution_count": 6,
   "metadata": {
    "collapsed": true,
    "nbgrader": {
     "grade": true,
     "grade_id": "global_linear_last_row_entry_1",
     "locked": true,
     "points": 0.25,
     "schema_version": 1,
     "solution": false
    },
    "scrolled": false
   },
   "outputs": [],
   "source": [
    "# test for global_linear_last_row_entry_1\n",
    "assert isinstance(global_linear_last_row[1], int)\n",
    "### BEGIN HIDDEN TESTS\n",
    "assert global_linear_last_row[1] == -11\n",
    "### END HIDDEN TESTS"
   ]
  },
  {
   "cell_type": "code",
   "execution_count": 7,
   "metadata": {
    "collapsed": true,
    "nbgrader": {
     "grade": true,
     "grade_id": "global_linear_last_row_entry_2",
     "locked": true,
     "points": 0.25,
     "schema_version": 1,
     "solution": false
    },
    "scrolled": false
   },
   "outputs": [],
   "source": [
    "# test for global_linear_last_row_entry_2\n",
    "assert isinstance(global_linear_last_row[2], int)\n",
    "### BEGIN HIDDEN TESTS\n",
    "assert global_linear_last_row[2] == -8\n",
    "### END HIDDEN TESTS"
   ]
  },
  {
   "cell_type": "code",
   "execution_count": 8,
   "metadata": {
    "collapsed": true,
    "nbgrader": {
     "grade": true,
     "grade_id": "global_linear_last_row_entry_3",
     "locked": true,
     "points": 0.25,
     "schema_version": 1,
     "solution": false
    },
    "scrolled": false
   },
   "outputs": [],
   "source": [
    "# test for global_linear_last_row_entry_3\n",
    "assert isinstance(global_linear_last_row[3], int)\n",
    "### BEGIN HIDDEN TESTS\n",
    "assert global_linear_last_row[3] == -5\n",
    "### END HIDDEN TESTS"
   ]
  },
  {
   "cell_type": "markdown",
   "metadata": {
    "nbgrader": {
     "grade": false,
     "grade_id": "cell-4cbc0a5ad85897c2",
     "locked": true,
     "schema_version": 1,
     "solution": false
    }
   },
   "source": [
    "### PROBLEM 2: Local alignment with linear gap penalty (3 POINTS)\n",
    "\n",
    "Align the sequences by hand using the Smith–Waterman algorithm (local alignment with linear gap penalty).  Use the following scoring scheme:\n",
    "* Match: +1\n",
    "* Mismatch: -1\n",
    "* Space: -2\n",
    "\n",
    "To submit your solution, do the following variable assignments in the solution cell below:\n",
    "\n",
    "* assign to the variable `local_linear_opt_score` the optimal alignment *score* \n",
    "* assign to the variable `local_linear_opt_alignments` a *list* of *all* alignments that achieve that optimal score\n",
    "* assign to the variable `local_linear_last_row` a *list* representing the entries in the last row of the dynamic programming matrix."
   ]
  },
  {
   "cell_type": "code",
   "execution_count": 9,
   "metadata": {
    "collapsed": true,
    "nbgrader": {
     "grade": false,
     "grade_id": "cell-1fad94222ab0532a",
     "locked": false,
     "schema_version": 1,
     "solution": true
    }
   },
   "outputs": [],
   "source": [
    "### BEGIN SOLUTION TEMPLATE=local_linear_opt_score = ?\n",
    "local_linear_opt_score = 3\n",
    "### END SOLUTION\n",
    "### BEGIN SOLUTION TEMPLATE=local_linear_opt_alignments = ?\n",
    "local_linear_opt_alignments = [[\"ATA\",\n",
    "                                \"ATA\"]]\n",
    "### END SOLUTION\n",
    "### BEGIN SOLUTION TEMPLATE=local_linear_last_row = ?\n",
    "local_linear_last_row = [0, 0, 0, 0, 1]\n",
    "### END SOLUTION"
   ]
  },
  {
   "cell_type": "code",
   "execution_count": 10,
   "metadata": {
    "collapsed": true,
    "nbgrader": {
     "grade": true,
     "grade_id": "local_linear_opt_score",
     "locked": true,
     "points": 1,
     "schema_version": 1,
     "solution": false
    },
    "scrolled": true
   },
   "outputs": [],
   "source": [
    "# tests for local_linear_opt_score\n",
    "assert isinstance(local_linear_opt_score, int)\n",
    "### BEGIN HIDDEN TESTS\n",
    "assert local_linear_opt_score == 3\n",
    "### END HIDDEN TESTS"
   ]
  },
  {
   "cell_type": "code",
   "execution_count": 11,
   "metadata": {
    "collapsed": true,
    "nbgrader": {
     "grade": true,
     "grade_id": "local_linear_opt_alignments",
     "locked": true,
     "points": 1,
     "schema_version": 1,
     "solution": false
    },
    "scrolled": false
   },
   "outputs": [],
   "source": [
    "# test for local_linear_opt_alignments\n",
    "assert isinstance(local_linear_opt_alignments, list)\n",
    "### BEGIN HIDDEN TESTS\n",
    "assert sorted(local_linear_opt_alignments) == [[\"ATA\",\n",
    "                                                \"ATA\"]]\n",
    "### END HIDDEN TESTS"
   ]
  },
  {
   "cell_type": "code",
   "execution_count": 12,
   "metadata": {
    "collapsed": true,
    "nbgrader": {
     "grade": true,
     "grade_id": "local_linear_last_row_entry_0",
     "locked": true,
     "points": 0.25,
     "schema_version": 1,
     "solution": false
    },
    "scrolled": false
   },
   "outputs": [],
   "source": [
    "# test for local_linear_last_row_entry_0\n",
    "assert isinstance(local_linear_last_row[0], int)\n",
    "### BEGIN HIDDEN TESTS\n",
    "assert local_linear_last_row[0] == 0\n",
    "### END HIDDEN TESTS"
   ]
  },
  {
   "cell_type": "code",
   "execution_count": 13,
   "metadata": {
    "collapsed": true,
    "nbgrader": {
     "grade": true,
     "grade_id": "local_linear_last_row_entry_1",
     "locked": true,
     "points": 0.25,
     "schema_version": 1,
     "solution": false
    },
    "scrolled": false
   },
   "outputs": [],
   "source": [
    "# test for local_linear_last_row_entry_1\n",
    "assert isinstance(local_linear_last_row[1], int)\n",
    "### BEGIN HIDDEN TESTS\n",
    "assert local_linear_last_row[1] == 0\n",
    "### END HIDDEN TESTS"
   ]
  },
  {
   "cell_type": "code",
   "execution_count": 14,
   "metadata": {
    "collapsed": true,
    "nbgrader": {
     "grade": true,
     "grade_id": "local_linear_last_row_entry_2",
     "locked": true,
     "points": 0.25,
     "schema_version": 1,
     "solution": false
    },
    "scrolled": false
   },
   "outputs": [],
   "source": [
    "# test for local_linear_last_row_entry_2\n",
    "assert isinstance(local_linear_last_row[0], int)\n",
    "### BEGIN HIDDEN TESTS\n",
    "assert local_linear_last_row[2] == 0\n",
    "### END HIDDEN TESTS"
   ]
  },
  {
   "cell_type": "code",
   "execution_count": 15,
   "metadata": {
    "collapsed": true,
    "nbgrader": {
     "grade": true,
     "grade_id": "local_linear_last_row_entry_3",
     "locked": true,
     "points": 0.25,
     "schema_version": 1,
     "solution": false
    },
    "scrolled": false
   },
   "outputs": [],
   "source": [
    "# test for local_linear_last_row_entry_3\n",
    "assert isinstance(local_linear_last_row[0], int)\n",
    "### BEGIN HIDDEN TESTS\n",
    "assert local_linear_last_row[3] == 0\n",
    "### END HIDDEN TESTS"
   ]
  },
  {
   "cell_type": "markdown",
   "metadata": {
    "nbgrader": {
     "grade": false,
     "grade_id": "cell-55189aaf6eaad576",
     "locked": true,
     "schema_version": 1,
     "solution": false
    }
   },
   "source": [
    "### PROBLEM 3: Global alignment with affine gap penalty (3 POINTS)\n",
    "\n",
    "Align the sequences by hand using the global alignment with affine gap penalty algorithm.  Use the following scoring scheme:\n",
    "* Match: +1\n",
    "* Mismatch: -1\n",
    "* Gap: -3\n",
    "* Space: -2\n",
    "\n",
    "To submit your solution, do the following variable assignments in the solution cell below:\n",
    "\n",
    "* assign to the variable `global_affine_opt_score` the optimal alignment *score* \n",
    "* assign to the variable `global_affine_opt_alignments` a *list* of *all* alignments that achieve that optimal score\n",
    "* assign to the variable `global_affine_last_row` a *list* representing the entries in the last row of the dynamic programming matrix.\n",
    "\n",
    "For the last row, we will imagine that the three matrices, $M$, $I_x$, and $I_y$ have been collapsed into a single matrix, where the entry in each cell of the collapsed matrix has the entries from the three matrices represented as a tuple.  That is, if $C$ is the collapsed matrix, then $C[i, j] = (M[i,j], I_x[i,j], I_y[i,j])$."
   ]
  },
  {
   "cell_type": "code",
   "execution_count": 16,
   "metadata": {
    "collapsed": true,
    "nbgrader": {
     "grade": false,
     "grade_id": "cell-895d65f931b27e48",
     "locked": true,
     "schema_version": 1,
     "solution": false
    }
   },
   "outputs": [],
   "source": [
    "# Constant variable with the value of negative infinity to use in specifying entries of the last row\n",
    "NEG_INF = float(\"-inf\")"
   ]
  },
  {
   "cell_type": "code",
   "execution_count": 17,
   "metadata": {
    "collapsed": true,
    "nbgrader": {
     "grade": false,
     "grade_id": "cell-d39e491fb0cf19d5",
     "locked": false,
     "schema_version": 1,
     "solution": true
    }
   },
   "outputs": [],
   "source": [
    "### BEGIN SOLUTION TEMPLATE=global_affine_opt_score = ?\n",
    "global_affine_opt_score = -7\n",
    "### END SOLUTION\n",
    "### BEGIN SOLUTION TEMPLATE=global_affine_opt_alignments = ?\n",
    "global_affine_opt_alignments = [[\"CAATATG\",\n",
    "                                 \"C---ATA\"],\n",
    "                                [\"CAATATG\",\n",
    "                                 \"CA---TA\"]]\n",
    "### END SOLUTION\n",
    "### BEGIN SOLUTION TEMPLATE=global_affine_last_row = ?\n",
    "global_affine_last_row = [(NEG_INF, -17, NEG_INF),\n",
    "                          (-16, -14, NEG_INF),\n",
    "                          (-13, -11, -21),\n",
    "                          (-10, -10, -18),\n",
    "                          (-7, -8, -15)]\n",
    "### END SOLUTION"
   ]
  },
  {
   "cell_type": "code",
   "execution_count": 18,
   "metadata": {
    "collapsed": true,
    "nbgrader": {
     "grade": true,
     "grade_id": "global_affine_opt_score",
     "locked": true,
     "points": 1,
     "schema_version": 1,
     "solution": false
    },
    "scrolled": true
   },
   "outputs": [],
   "source": [
    "# tests for global_affine_opt_score\n",
    "assert isinstance(global_affine_opt_score, int)\n",
    "### BEGIN HIDDEN TESTS\n",
    "assert global_affine_opt_score == -7\n",
    "### END HIDDEN TESTS"
   ]
  },
  {
   "cell_type": "code",
   "execution_count": 19,
   "metadata": {
    "collapsed": true,
    "nbgrader": {
     "grade": true,
     "grade_id": "global_affine_opt_alignments",
     "locked": true,
     "points": 1,
     "schema_version": 1,
     "solution": false
    },
    "scrolled": false
   },
   "outputs": [],
   "source": [
    "# test for global_affine_opt_alignments\n",
    "assert isinstance(global_affine_opt_alignments, list)\n",
    "### BEGIN HIDDEN TESTS\n",
    "assert sorted(global_affine_opt_alignments) == [[\"CAATATG\",\n",
    "                                                 \"C---ATA\"],\n",
    "                                                [\"CAATATG\",\n",
    "                                                 \"CA---TA\"]]\n",
    "### END HIDDEN TESTS"
   ]
  },
  {
   "cell_type": "code",
   "execution_count": 20,
   "metadata": {
    "collapsed": true,
    "nbgrader": {
     "grade": true,
     "grade_id": "global_affine_last_row_entry_0",
     "locked": true,
     "points": 0.25,
     "schema_version": 1,
     "solution": false
    },
    "scrolled": false
   },
   "outputs": [],
   "source": [
    "# test for global_affine_last_row_entry_0\n",
    "assert isinstance(global_affine_last_row[0], tuple)\n",
    "assert len(global_affine_last_row[0]) == 3\n",
    "### BEGIN HIDDEN TESTS\n",
    "assert global_affine_last_row[0] == (NEG_INF, -17, NEG_INF)\n",
    "### END HIDDEN TESTS"
   ]
  },
  {
   "cell_type": "code",
   "execution_count": 21,
   "metadata": {
    "collapsed": true,
    "nbgrader": {
     "grade": true,
     "grade_id": "global_affine_last_row_entry_1",
     "locked": true,
     "points": 0.25,
     "schema_version": 1,
     "solution": false
    },
    "scrolled": false
   },
   "outputs": [],
   "source": [
    "# test for global_affine_last_row_entry_1\n",
    "assert isinstance(global_affine_last_row[1], tuple)\n",
    "assert len(global_affine_last_row[1]) == 3\n",
    "### BEGIN HIDDEN TESTS\n",
    "assert global_affine_last_row[1] == (-16, -14, NEG_INF)\n",
    "### END HIDDEN TESTS"
   ]
  },
  {
   "cell_type": "code",
   "execution_count": 22,
   "metadata": {
    "collapsed": true,
    "nbgrader": {
     "grade": true,
     "grade_id": "global_affine_last_row_entry_2",
     "locked": true,
     "points": 0.25,
     "schema_version": 1,
     "solution": false
    },
    "scrolled": false
   },
   "outputs": [],
   "source": [
    "# test for global_affine_last_row_entry_2\n",
    "assert isinstance(global_affine_last_row[2], tuple)\n",
    "assert len(global_affine_last_row[2]) == 3\n",
    "### BEGIN HIDDEN TESTS\n",
    "assert global_affine_last_row[2] == (-13, -11, -21)\n",
    "### END HIDDEN TESTS"
   ]
  },
  {
   "cell_type": "code",
   "execution_count": 23,
   "metadata": {
    "collapsed": true,
    "nbgrader": {
     "grade": true,
     "grade_id": "global_affine_last_row_entry_3",
     "locked": true,
     "points": 0.25,
     "schema_version": 1,
     "solution": false
    },
    "scrolled": false
   },
   "outputs": [],
   "source": [
    "# test for global_affine_last_row_entry_3\n",
    "assert isinstance(global_affine_last_row[3], tuple)\n",
    "assert len(global_affine_last_row[3]) == 3\n",
    "### BEGIN HIDDEN TESTS\n",
    "assert global_affine_last_row[3] == (-10, -10, -18)\n",
    "### END HIDDEN TESTS"
   ]
  }
 ],
 "metadata": {
  "celltoolbar": "Create Assignment",
  "kernelspec": {
   "display_name": "Python 3 [3.6]",
   "language": "python",
   "name": "python3"
  },
  "language_info": {
   "codemirror_mode": {
    "name": "ipython",
    "version": 3
   },
   "file_extension": ".py",
   "mimetype": "text/x-python",
   "name": "python",
   "nbconvert_exporter": "python",
   "pygments_lexer": "ipython3",
   "version": "3.6.4"
  }
 },
 "nbformat": 4,
 "nbformat_minor": 2
}
