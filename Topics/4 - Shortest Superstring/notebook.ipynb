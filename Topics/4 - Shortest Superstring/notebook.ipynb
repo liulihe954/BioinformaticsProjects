{
 "cells": [
  {
   "cell_type": "markdown",
   "metadata": {
    "nbgrader": {
     "grade": false,
     "locked": true,
     "solution": false
    }
   },
   "source": [
    "# Day 4 notebook\n",
    "\n",
    "The objectives of this notebook are to practice\n",
    "\n",
    "* the concept of read overlap and merging\n",
    "* finding solutions to the shortest superstring task\n",
    "* implementing graph data structures\n",
    "* defining Python classes\n",
    "* using inheritance with Python classes"
   ]
  },
  {
   "cell_type": "markdown",
   "metadata": {
    "nbgrader": {
     "grade": false,
     "locked": true,
     "solution": false
    }
   },
   "source": [
    "## The shortest superstring problem"
   ]
  },
  {
   "cell_type": "markdown",
   "metadata": {
    "nbgrader": {
     "grade": false,
     "locked": true,
     "solution": false
    }
   },
   "source": [
    "### PROBLEM 1: Finding the maximum overlap length of two strings (reads) (1 POINT)\n",
    "\n",
    "A key component of most algorithms for addressing the shortest superstring problem is determining the length of the longest exact overlap between two strings.  In particular, for two strings, $left$ and $right$, we need to compute $overlap\\_length(left, right)$, which is defined as the length of the longest **suffix** of $left$ that is a **prefix** of $right$.  Define a function that computes this value.  You may find the [endswith](https://docs.python.org/3/library/stdtypes.html#str.endswith) or [startswith](https://docs.python.org/3/library/stdtypes.html#str.startswith) methods of Python string objects helpful.  You do not need to implement the most efficient algorithm possible (a simple polynomial-time algorithm will suffice)."
   ]
  },
  {
   "cell_type": "code",
   "execution_count": 1,
   "metadata": {},
   "outputs": [],
   "source": [
    "def overlap_length(left, right):\n",
    "    \"\"\"Returns the length of the longest suffix of left that is a prefix of right\n",
    "    \n",
    "    Args:\n",
    "        left: a string\n",
    "        right: a string\n",
    "    Returns:\n",
    "        An integer length of the longest overlap (0 if there is no overlap)\n",
    "    \"\"\"\n",
    "    ### BEGIN SOLUTION\n",
    "    for length in range(min(len(left), len(right)), 0, -1):\n",
    "        if left.endswith(right[:length]):\n",
    "            return length\n",
    "    else:\n",
    "        return 0\n",
    "    ### END SOLUTION"
   ]
  },
  {
   "cell_type": "code",
   "execution_count": 2,
   "metadata": {
    "nbgrader": {
     "grade": true,
     "grade_id": "overlap_length",
     "locked": true,
     "points": "1",
     "solution": false
    },
    "scrolled": true
   },
   "outputs": [
    {
     "name": "stdout",
     "output_type": "stream",
     "text": [
      "SUCCESS: overlap_length passed all tests!\n"
     ]
    }
   ],
   "source": [
    "# tests for overlap_length\n",
    "assert overlap_length(\"ATGC\", \"GCAT\") == 2\n",
    "assert overlap_length(\"AGCA\", \"AGCA\") == 4\n",
    "assert overlap_length(\"AGAG\", \"GAGT\") == 3\n",
    "assert overlap_length(\"GAGT\", \"AGAG\") == 0\n",
    "assert overlap_length(\"ATGC\", \"CA\") == 1\n",
    "assert overlap_length(\"CA\", \"ATCG\") == 1\n",
    "assert overlap_length(\"\", \"\") == 0\n",
    "print(\"SUCCESS: overlap_length passed all tests!\")"
   ]
  },
  {
   "cell_type": "markdown",
   "metadata": {
    "nbgrader": {
     "grade": false,
     "locked": true,
     "solution": false
    }
   },
   "source": [
    "### PROBLEM 2: Merging ordered reads (1 POINT)\n",
    "One way to think about constructing a superstring for a set of strings (reads) is to note that any given superstring imposes an ordering on the input strings, namely, the order in which those strings appear as substrings within the superstring.  With the assumption that no input string is a substring of any other input string, for any fixed ordering of of the input strings, there is a unique shortest superstring that imposes that ordering.  That superstring may be constructed by simply merging strings from left to right in the ordering, using the maximum possible overlap between adjacent strings.  Write a function below that computes the shortest superstring for a given ordered list of strings (reads).  You will likely need your `overlap_length` function from above."
   ]
  },
  {
   "cell_type": "code",
   "execution_count": 3,
   "metadata": {},
   "outputs": [],
   "source": [
    "def merge_ordered_reads(reads):\n",
    "    \"\"\"Returns the shortest superstring resulting from\n",
    "    merging a list of ordered reads.\n",
    "    \n",
    "    Args:\n",
    "        reads: a list of strings\n",
    "    Returns:\n",
    "        A string that is a shortest superstring of the ordered input read strings.\n",
    "    \"\"\"\n",
    "\n",
    "    ### BEGIN SOLUTION\n",
    "    read_pieces = []\n",
    "    prev_read = \"\"\n",
    "    for read in reads:\n",
    "        overlap_with_prev_read = overlap_length(prev_read, read)\n",
    "        read_pieces.append(read[overlap_with_prev_read:])\n",
    "        prev_read = read\n",
    "    return ''.join(read_pieces)\n",
    "    ### END SOLUTION"
   ]
  },
  {
   "cell_type": "code",
   "execution_count": 4,
   "metadata": {
    "nbgrader": {
     "grade": true,
     "grade_id": "merge_ordered_reads",
     "locked": true,
     "points": "1",
     "solution": false
    }
   },
   "outputs": [
    {
     "name": "stdout",
     "output_type": "stream",
     "text": [
      "SUCCESS: merge_ordered_reads passed all tests!\n"
     ]
    }
   ],
   "source": [
    "# tests for merge_ordered_reads\n",
    "assert merge_ordered_reads([\"AGAG\", \"GAGT\"]) == \"AGAGT\"\n",
    "assert merge_ordered_reads([\"AGAG\"]) == \"AGAG\"\n",
    "assert merge_ordered_reads([\"AGAG\", \"GAGT\", \"AGTC\"]) == \"AGAGTC\"\n",
    "assert merge_ordered_reads([\"AGAG\", \"CGAG\", \"TCGA\"]) == \"AGAGCGAGTCGA\"\n",
    "assert merge_ordered_reads([]) == \"\"\n",
    "print(\"SUCCESS: merge_ordered_reads passed all tests!\")"
   ]
  },
  {
   "cell_type": "markdown",
   "metadata": {
    "nbgrader": {
     "grade": false,
     "locked": true,
     "solution": false
    }
   },
   "source": [
    "### PROBLEM 3: Brute-force shortest superstring algorithm (1 POINT)\n",
    "Continuing with the reasoning from the previous problem, note that a shortest superstring for a set of (unordered) strings corresponds to some ordering of the strings.  So if we try every possible ordering of the strings and compute the shortest superstring for each ordering (using the `merge_ordered_reads` function above), we could find a solution to the shortest superstring problem.  Write a function `shortest_superstring` below, which implements this \"brute-force\" strategy for solving the shortest superstring problem given a set of input strings (reads).\n",
    "\n",
    "You will likely find the [`permutations`](https://docs.python.org/3/library/itertools.html#itertools.permutations) function from the [`itertools`](https://docs.python.org/3/library/itertools.html) module in the Python standard library of use.  This function returns an iterator over all possible orderings (permutations) of the sequence given to it as input.\n",
    "\n",
    "In the case that there are multiple shortest superstrings, your function should return the superstring that is lexicographically smallest (i.e., first in alphabetical order)."
   ]
  },
  {
   "cell_type": "code",
   "execution_count": 5,
   "metadata": {},
   "outputs": [],
   "source": [
    "import itertools\n",
    "\n",
    "def shortest_superstring(reads):\n",
    "    \"\"\"Returns the shortest superstring of a set of reads.\n",
    "\n",
    "    Assumes that no string in the input is a substring of another input string.\n",
    "    \n",
    "    Args:\n",
    "        reads: a list of strings\n",
    "    Returns:\n",
    "        A string that is a shortest superstring of reads.  In the case\n",
    "        of multiple shortest superstrings, the lexicographically\n",
    "        smallest is returned.\n",
    "    \"\"\"\n",
    "    ### BEGIN SOLUTION\n",
    "    s = None\n",
    "    for read_permutation in itertools.permutations(reads):\n",
    "        merged = merge_ordered_reads(read_permutation)\n",
    "        if (s is None or \n",
    "            len(merged) < len(s) or\n",
    "            (len(merged) == len(s) and merged < s)):\n",
    "            s = merged\n",
    "    return s\n",
    "    ### END SOLUTION"
   ]
  },
  {
   "cell_type": "code",
   "execution_count": 6,
   "metadata": {
    "nbgrader": {
     "grade": true,
     "grade_id": "shortest_superstring",
     "locked": true,
     "points": "1",
     "solution": false
    }
   },
   "outputs": [
    {
     "name": "stdout",
     "output_type": "stream",
     "text": [
      "SUCCESS: shortest_superstring passed all tests!\n"
     ]
    }
   ],
   "source": [
    "# tests for shortest_superstring\n",
    "assert shortest_superstring(['AGAT', 'CAGA', 'ATAT']) == \"CAGATAT\"\n",
    "assert shortest_superstring(['GACC', 'ATCC', 'TACC']) == \"ATCCGACCTACC\"\n",
    "assert shortest_superstring(['TGA', 'GAC', 'ATGC']) == \"ATGCTGAC\"\n",
    "assert shortest_superstring(['TGA']) == \"TGA\"\n",
    "assert shortest_superstring(['TGA', 'CTG']) == \"CTGA\"\n",
    "print(\"SUCCESS: shortest_superstring passed all tests!\")"
   ]
  },
  {
   "cell_type": "markdown",
   "metadata": {
    "nbgrader": {
     "grade": false,
     "locked": true,
     "solution": false
    }
   },
   "source": [
    "### Thinking about the brute-force shortest superstring algorithm\n",
    "Assuming you have written it correctly, the above function solves the shortest superstring problem.  Is the algorithm implemented by this function efficient?  In the cell below, write down your thoughts regarding the computational complexity of this algorithm."
   ]
  },
  {
   "cell_type": "markdown",
   "metadata": {},
   "source": [
    "### BEGIN SOLUTION TEMPLATE=YOUR THOUGHTS HERE REGARDING THE COMPUTATIONAL COMPLEXITY OF THE ALGORITHM YOU IMPLEMENTED ABOVE\n",
    "This algorithm is far from efficient.  It must iterate over all $n!$ possible orderings of the $n$ reads, which grows faster than an expoential function, for large $n$.\n",
    "### END SOLUTION"
   ]
  },
  {
   "cell_type": "markdown",
   "metadata": {
    "nbgrader": {
     "grade": false,
     "locked": true,
     "solution": false
    }
   },
   "source": [
    "### Experimenting with your shortest superstring algorithm\n",
    "If you have time, experiment with running your brute-force shortest superstring algorithm on various inputs.  For example,\n",
    "\n",
    "1. Experiment with inputs of random DNA strings (I've provided some code for you below to generate such strings).  How short can the shortest superstring be given random inputs, relative to the the trivial superstring that simply concatenates the input strings?  Perhaps try with many random inputs and plot the distribution of the shortest superstring length, say with the [hist](https://matplotlib.org/api/_as_gen/matplotlib.pyplot.hist.html) function of Pyplot.\n",
    "\n",
    "2. Experiment with (very small sets) of strings generated by your shotgun sequencing simulator in the Day 3 notebook.  Does the shortest superstring reconstruct the full DNA sequence?  "
   ]
  },
  {
   "cell_type": "code",
   "execution_count": 7,
   "metadata": {
    "nbgrader": {
     "grade": false,
     "locked": true,
     "solution": false
    }
   },
   "outputs": [],
   "source": [
    "# Some functions that you may find of use in experimenting with random inputs of DNA strings\n",
    "import random\n",
    "DNA_BASES = \"ACGT\"\n",
    "\n",
    "def random_dna_string(length):\n",
    "    \"\"\"Returns a random DNA string of the given length\"\"\"\n",
    "    return ''.join([random.choice(DNA_BASES) for i in range(length)])\n",
    "\n",
    "def random_dna_strings(length, num_strings):\n",
    "    \"\"\"Returns a list of num_strings random DNA strings of the given length\"\"\"\n",
    "    return [random_dna_string(length) for i in range(num_strings)]"
   ]
  },
  {
   "cell_type": "markdown",
   "metadata": {},
   "source": [
    "*YOUR EXPERIMENTS HERE*"
   ]
  },
  {
   "cell_type": "markdown",
   "metadata": {
    "nbgrader": {
     "grade": false,
     "locked": true,
     "solution": false
    }
   },
   "source": [
    "## Implementing graphs as Python classes\n",
    "Many sequence assembly algorithms are formulated in terms of *graphs*.  In this section of the notebook, we will define a Python class that implements a graph data structure."
   ]
  },
  {
   "cell_type": "markdown",
   "metadata": {
    "nbgrader": {
     "grade": false,
     "locked": true,
     "solution": false
    }
   },
   "source": [
    "### A base class for directed graphs\n",
    "\n",
    "There are many possible ways to implement a graph data structure and each has its own strengths and weaknesses in terms of memory usage and efficiency of various graph operations.  Algorithms that use graphs do not necessarily need to know how those graphs are implemented, and therefore it is helpful to separate the *interface* of a graph object from its underlying *implementation*.  Classes are a great way to provide such abstractions.\n",
    "\n",
    "Below I have provided a *base* class for a directed graph, which specifies the interface that a general directed graph object should have.  This is an *abstract base class*, which is only meant to provide an interface and some default method definitions.  It is not meant to be instantiated directly.  Note that the key methods of `had_edge` and `add_edge` are not implemented.\n",
    "\n",
    "With this directed graph class, we simply refer to each vertex by an integer index (0 to `num_vertices - 1`), and an edge *from* vertex `i` *to* vertex `j` is represented by the tuple `(i, j)`.\n",
    "\n",
    "Study the class definition below to understand the inferface and the default implementations."
   ]
  },
  {
   "cell_type": "code",
   "execution_count": 8,
   "metadata": {
    "nbgrader": {
     "grade": false,
     "locked": true,
     "solution": false
    }
   },
   "outputs": [],
   "source": [
    "class DirectedGraph:\n",
    "    \"\"\"Abstract base class for a directed graph.\n",
    "\n",
    "    A functional directed graph class can be obtained by inheriting from \n",
    "    this class and overriding the methods has_edge and add_edge.  All other\n",
    "    methods have default implementations, which may not be the most efficient.\n",
    "    These other methods should also be overriden as appropriate to improve\n",
    "    efficiency.\n",
    "    \"\"\"\n",
    "    def __init__(self, num_vertices):\n",
    "        \"\"\"Constructs a directed graph with num_vertices vertices and zero edges\"\"\"\n",
    "        self._num_vertices = num_vertices\n",
    "    \n",
    "    def has_edge(self, i, j):\n",
    "        \"\"\"Returns True if the graph contains the directed edge (i, j), False otherwise.\"\"\"\n",
    "        raise NotImplementedError\n",
    "        \n",
    "    def add_edge(self, i, j):\n",
    "        \"\"\"Adds the directed edge (i, j) to the graph.\"\"\"\n",
    "        raise NotImplementedError\n",
    "        \n",
    "    def out_edges(self, i):\n",
    "        \"\"\"Returns a list of directed edges outgoing from vertex i.\"\"\"\n",
    "        return [(i, j) for j in range(self._num_vertices) if self.has_edge(i, j)]\n",
    "    \n",
    "    def in_edges(self, j):\n",
    "        \"\"\"Returns a list of directed edges incoming to vertex j.\"\"\"\n",
    "        return [(i, j) for i in range(self._num_vertices) if self.has_edge(i, j)]\n",
    "    \n",
    "    def outdegree(self, i):\n",
    "        \"\"\"Returns the outdegree of vertex i.\"\"\"\n",
    "        return len(self.out_edges(i))\n",
    "    \n",
    "    def indegree(self, i):\n",
    "        \"\"\"Returns the indegree of vertex i.\"\"\"\n",
    "        return len(self.in_edges(i))\n",
    "    \n",
    "    def degree(self, i):\n",
    "        \"\"\"Returns the degree of vertex i.\"\"\"\n",
    "        return self.indegree(i) + self.outdegree(i)\n",
    "        \n",
    "    def add_edges(self, edges):\n",
    "        \"\"\"Adds all edges from a list to the graph.\"\"\"\n",
    "        for i, j in edges:\n",
    "            self.add_edge(i, j)\n",
    "            \n",
    "    def num_vertices(self):\n",
    "        \"\"\"Returns the number of vertices in the graph.\"\"\"\n",
    "        return self._num_vertices\n",
    "\n",
    "    def num_edges(self):\n",
    "        \"\"\"Returns the number of edges in the graph.\"\"\"\n",
    "        return len(tuple(self.edges()))\n",
    "    \n",
    "    def edges(self):\n",
    "        \"\"\"Returns an iterator over the edges of the graph.\"\"\"\n",
    "        for i in range(self._num_vertices):\n",
    "            for edge in self.out_edges(i):\n",
    "                yield edge\n",
    "    \n",
    "    def __str__(self):\n",
    "        \"\"\"Returns a string representation of the graph, so that it may be printed.\"\"\"\n",
    "        return \"DirectedGraph with %d vertices and %d edge(s):\\n%s\" % (self.num_vertices(),\n",
    "                                                                       self.num_edges(),\n",
    "                                                                       sorted(self.edges()))"
   ]
  },
  {
   "cell_type": "markdown",
   "metadata": {
    "nbgrader": {
     "grade": false,
     "locked": true,
     "solution": false
    }
   },
   "source": [
    "### A trival functional DirectedGraph class\n",
    "As an example of how to construct a fully-functional class that provides the DirectedGraph interface, below is a class that simply stores its edges in a set.  This results in relatively inefficient graph operations.  Examine the implementation below and how it *inherits* functionality from the base class `DirectedGraph`."
   ]
  },
  {
   "cell_type": "code",
   "execution_count": 9,
   "metadata": {
    "nbgrader": {
     "grade": false,
     "locked": true,
     "solution": false
    }
   },
   "outputs": [],
   "source": [
    "class TrivialSetDirectedGraph(DirectedGraph):\n",
    "    def __init__(self, num_vertices):\n",
    "        # call the parent class's constructor\n",
    "        super().__init__(num_vertices)\n",
    "        # start with an empty set of edges\n",
    "        self._edges = set()\n",
    "    \n",
    "    def has_edge(self, i, j):\n",
    "        return (i, j) in self._edges\n",
    "        \n",
    "    def add_edge(self, i, j):\n",
    "        self._edges.add((i, j))"
   ]
  },
  {
   "cell_type": "code",
   "execution_count": 10,
   "metadata": {
    "nbgrader": {
     "grade": false,
     "locked": true,
     "solution": false
    },
    "scrolled": true
   },
   "outputs": [
    {
     "name": "stdout",
     "output_type": "stream",
     "text": [
      "DirectedGraph with 4 vertices and 0 edge(s):\n",
      "[]\n",
      "DirectedGraph with 4 vertices and 1 edge(s):\n",
      "[(3, 0)]\n",
      "DirectedGraph with 4 vertices and 4 edge(s):\n",
      "[(0, 2), (2, 3), (3, 0), (3, 1)]\n",
      "Outdegree of vertex 3 = 2\n",
      "Graph has edge (2, 3): True\n",
      "Graph has edge (3, 2): False\n"
     ]
    }
   ],
   "source": [
    "# An example of using TrivalSetDirectedGraph\n",
    "my_graph = TrivialSetDirectedGraph(4)\n",
    "print(my_graph)\n",
    "my_graph.add_edge(3, 0)\n",
    "print(my_graph)\n",
    "my_graph.add_edges([(0, 2), (2, 3), (3, 1)])\n",
    "print(my_graph)\n",
    "print(\"Outdegree of vertex 3 =\", my_graph.outdegree(3))\n",
    "print(\"Graph has edge (2, 3):\", my_graph.has_edge(2, 3))\n",
    "print(\"Graph has edge (3, 2):\", my_graph.has_edge(3, 2))"
   ]
  },
  {
   "cell_type": "markdown",
   "metadata": {
    "nbgrader": {
     "grade": false,
     "locked": true,
     "solution": false
    }
   },
   "source": [
    "### PROBLEM 4: Adjacency list implementation of a directed graph (4 POINTS)\n",
    "A more efficent and common implementation strategy for graphs is to use *adjacency lists*.  In an adjacency list data structure, for each vertex, a list of vertices to which that vertex is connected by an edge is maintained.  For directed graphs, two lists per vertex can be used, one for all vertices that are adjacent via an *outgoing* edge and one for all vertices that are adjacent via an *incoming* edge.\n",
    "\n",
    "With this implementation strategy, define the `AdjacencyListDirectedGraph` class below.  You will need to provide concrete definitions for the methods `add_edge` and `has_edge`.  You also need to override the constructor `__init__`, and methods `out_edges`, `in_edges`, `indegree`, and `outdegree` to make them more efficient with this implementation."
   ]
  },
  {
   "cell_type": "code",
   "execution_count": 11,
   "metadata": {},
   "outputs": [],
   "source": [
    "class AdjacencyListDirectedGraph(DirectedGraph):\n",
    "    def __init__(self, num_vertices):\n",
    "        ### BEGIN SOLUTION\n",
    "        super().__init__(num_vertices)\n",
    "        self._out_lists = [[] for i in range(num_vertices)]\n",
    "        self._in_lists = [[] for i in range(num_vertices)]\n",
    "        ### END SOLUTION\n",
    "    \n",
    "    def add_edge(self, i, j):\n",
    "        ### BEGIN SOLUTION\n",
    "        self._out_lists[i].append(j)\n",
    "        self._in_lists[j].append(i)\n",
    "        ### END SOLUTION\n",
    "    \n",
    "    def has_edge(self, i, j):\n",
    "        ### BEGIN SOLUTION\n",
    "        return j in self._out_lists[i]\n",
    "        ### END SOLUTION\n",
    "        \n",
    "    def out_edges(self, i):\n",
    "        ### BEGIN SOLUTION\n",
    "        return [(i, j) for j in self._out_lists[i]]\n",
    "        ### END SOLUTION\n",
    "        \n",
    "    def in_edges(self, j):\n",
    "        ### BEGIN SOLUTION\n",
    "        return [(i, j) for i in self._in_lists[j]]\n",
    "        ### END SOLUTION\n",
    "    \n",
    "    def indegree(self, i):\n",
    "        ### BEGIN SOLUTION\n",
    "        return len(self._in_lists[i])\n",
    "        ### END SOLUTION\n",
    "        \n",
    "    def outdegree(self, i):\n",
    "        ### BEGIN SOLUTION\n",
    "        return len(self._out_lists[i])\n",
    "        ### END SOLUTION"
   ]
  },
  {
   "cell_type": "code",
   "execution_count": 12,
   "metadata": {
    "nbgrader": {
     "grade": true,
     "grade_id": "AdjacencyListDirectedGraph constructor",
     "locked": true,
     "points": "1",
     "solution": false
    },
    "scrolled": false
   },
   "outputs": [
    {
     "name": "stdout",
     "output_type": "stream",
     "text": [
      "SUCCESS: AdjacencyListDirectedGraph constructor passed all tests!\n"
     ]
    }
   ],
   "source": [
    "# test for AdjacencyListDirectedGraph constructor\n",
    "assert AdjacencyListDirectedGraph.__init__ != DirectedGraph.__init__, \"__init__ not overridden\"\n",
    "test_graph = AdjacencyListDirectedGraph(10)\n",
    "assert str(test_graph) == \"DirectedGraph with 10 vertices and 0 edge(s):\\n[]\"\n",
    "print(\"SUCCESS: AdjacencyListDirectedGraph constructor passed all tests!\")"
   ]
  },
  {
   "cell_type": "code",
   "execution_count": 13,
   "metadata": {
    "nbgrader": {
     "grade": true,
     "grade_id": "AdjacencyListDirectedGraph add_edge and has_edge",
     "locked": true,
     "points": "1",
     "solution": false
    },
    "scrolled": false
   },
   "outputs": [
    {
     "name": "stdout",
     "output_type": "stream",
     "text": [
      "SUCCESS: AdjacencyListDirectedGraph add_edge and has_edge passed all tests!\n"
     ]
    }
   ],
   "source": [
    "# test for AdjacencyListDirectedGraph add_edge and has_edge\n",
    "test_graph = AdjacencyListDirectedGraph(10)\n",
    "test_graph.add_edge(3, 5)\n",
    "assert test_graph.has_edge(3, 5)\n",
    "test_graph.add_edge(2, 3)\n",
    "assert test_graph.has_edge(2, 3)\n",
    "assert not test_graph.has_edge(3, 2)\n",
    "assert sorted(test_graph.edges()) == [(2, 3), (3, 5)]\n",
    "print(\"SUCCESS: AdjacencyListDirectedGraph add_edge and has_edge passed all tests!\")"
   ]
  },
  {
   "cell_type": "code",
   "execution_count": 14,
   "metadata": {
    "nbgrader": {
     "grade": true,
     "grade_id": "AdjacencyListDirectedGraph out_edges and in_edges",
     "locked": true,
     "points": "1",
     "solution": false
    },
    "scrolled": false
   },
   "outputs": [
    {
     "name": "stdout",
     "output_type": "stream",
     "text": [
      "SUCCESS: AdjacencyListDirectedGraph out_edges and in_edges passed all tests!\n"
     ]
    }
   ],
   "source": [
    "# test for AdjacencyListDirectedGraph out_edges and in_edges\n",
    "assert AdjacencyListDirectedGraph.out_edges != DirectedGraph.out_edges, \"out_edges not overridden\"\n",
    "assert AdjacencyListDirectedGraph.in_edges != DirectedGraph.in_edges, \"in_edges not overridden\"\n",
    "test_graph = AdjacencyListDirectedGraph(10)\n",
    "test_graph.add_edges([(2, 3), (2, 4), (4, 0)])\n",
    "assert test_graph.out_edges(2) == [(2, 3), (2, 4)]\n",
    "assert test_graph.out_edges(0) == []\n",
    "assert test_graph.in_edges(0) == [(4, 0)]\n",
    "assert test_graph.in_edges(2) == []\n",
    "print(\"SUCCESS: AdjacencyListDirectedGraph out_edges and in_edges passed all tests!\")"
   ]
  },
  {
   "cell_type": "code",
   "execution_count": 15,
   "metadata": {
    "nbgrader": {
     "grade": true,
     "grade_id": "AdjacencyListDirectedGraph outdegree and indegree",
     "locked": true,
     "points": "1",
     "solution": false
    }
   },
   "outputs": [
    {
     "name": "stdout",
     "output_type": "stream",
     "text": [
      "SUCCESS: AdjacencyListDirectedGraph outdegree and indegree passed all tests!\n"
     ]
    }
   ],
   "source": [
    "# test for AdjacencyListDirectedGraph outdegree and indegree\n",
    "assert AdjacencyListDirectedGraph.outdegree != DirectedGraph.outdegree, \"outdegree not overridden\"\n",
    "assert AdjacencyListDirectedGraph.indegree != DirectedGraph.indegree, \"indegree not overridden\"\n",
    "test_graph = AdjacencyListDirectedGraph(10)\n",
    "test_graph.add_edges([(2, 3), (2, 4), (4, 0)])\n",
    "assert test_graph.outdegree(2) == 2\n",
    "assert test_graph.outdegree(0) == 0\n",
    "assert test_graph.indegree(0) == 1\n",
    "assert test_graph.indegree(2) == 0\n",
    "print(\"SUCCESS: AdjacencyListDirectedGraph outdegree and indegree passed all tests!\")"
   ]
  }
 ],
 "metadata": {
  "kernelspec": {
   "display_name": "Python 3",
   "language": "python",
   "name": "python3"
  },
  "language_info": {
   "codemirror_mode": {
    "name": "ipython",
    "version": 3
   },
   "file_extension": ".py",
   "mimetype": "text/x-python",
   "name": "python",
   "nbconvert_exporter": "python",
   "pygments_lexer": "ipython3",
   "version": "3.6.8"
  }
 },
 "nbformat": 4,
 "nbformat_minor": 2
}
