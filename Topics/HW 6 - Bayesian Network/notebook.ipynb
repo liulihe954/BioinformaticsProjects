{
 "cells": [
  {
   "cell_type": "markdown",
   "metadata": {
    "nbgrader": {
     "grade": false,
     "grade_id": "cell-027da61e09ea6982",
     "locked": true,
     "schema_version": 1,
     "solution": false
    }
   },
   "source": [
    "# BMI/CS 576 - HW6\n",
    "The objectives of this homework are to better understand\n",
    "\n",
    "* the statistical dependencies represented by a Bayesian network\n",
    "* alternative representations of conditional probability distributions (CPDs)\n",
    "* how model evidence works as a score for Bayesian networks\n",
    "* the Sparse Candidate algorithm\n",
    "\n",
    "## HW policies\n",
    "Before starting this homework, please read over the [homework policies](https://canvas.wisc.edu/courses/167969/pages/hw-policies) for this course.  In particular, note that homeworks are to be completed *individually*.\n",
    "\n",
    "You are welcome to use any code from the weekly notebooks in your solutions to the HW."
   ]
  },
  {
   "cell_type": "code",
   "execution_count": 6,
   "metadata": {},
   "outputs": [
    {
     "data": {
      "text/plain": [
       "0.06000000000000001"
      ]
     },
     "execution_count": 6,
     "metadata": {},
     "output_type": "execute_result"
    }
   ],
   "source": [
    "0.4 *0.2 * 0.75"
   ]
  },
  {
   "cell_type": "code",
   "execution_count": 26,
   "metadata": {},
   "outputs": [
    {
     "data": {
      "text/plain": [
       "0.25"
      ]
     },
     "execution_count": 26,
     "metadata": {},
     "output_type": "execute_result"
    }
   ],
   "source": [
    "(12+4+4)/80"
   ]
  },
  {
   "cell_type": "code",
   "execution_count": 126,
   "metadata": {},
   "outputs": [],
   "source": [
    "ct_xy = [[4,8,12],\n",
    "        [8,16,4],\n",
    "        [20,4,4]]\n",
    "p_xy = [[None,None,None],[None,None,None],[None,None,None]]\n",
    "for i in range(3):\n",
    "    for j in range(3):\n",
    "        p_xy[i][j] = ct_xy[i][j]/80"
   ]
  },
  {
   "cell_type": "code",
   "execution_count": 127,
   "metadata": {},
   "outputs": [
    {
     "data": {
      "text/plain": [
       "[[0.05, 0.1, 0.15], [0.1, 0.2, 0.05], [0.25, 0.05, 0.05]]"
      ]
     },
     "execution_count": 127,
     "metadata": {},
     "output_type": "execute_result"
    }
   ],
   "source": [
    "p_xy"
   ]
  },
  {
   "cell_type": "code",
   "execution_count": 115,
   "metadata": {},
   "outputs": [],
   "source": [
    "p_x = [[0.3,0.35,0.35]] * 3\n",
    "p_y = [[0.4,0.35,0.25]] * 3\n"
   ]
  },
  {
   "cell_type": "code",
   "execution_count": 129,
   "metadata": {},
   "outputs": [],
   "source": []
  },
  {
   "cell_type": "code",
   "execution_count": 134,
   "metadata": {},
   "outputs": [
    {
     "name": "stdout",
     "output_type": "stream",
     "text": [
      "0.05 0.3 0.4\n",
      "0.1 0.3 0.35\n",
      "0.15 0.3 0.25\n",
      "0.1 0.35 0.4\n",
      "0.2 0.35 0.35\n",
      "0.05 0.35 0.25\n",
      "0.25 0.35 0.4\n",
      "0.05 0.35 0.35\n",
      "0.05 0.35 0.25\n"
     ]
    },
    {
     "data": {
      "text/plain": [
       "0.1639023112417449"
      ]
     },
     "execution_count": 134,
     "metadata": {},
     "output_type": "execute_result"
    }
   ],
   "source": [
    "p_xy = [[0.05, 0.1, 0.15], [0.1, 0.2, 0.05], [0.25, 0.05, 0.05]]\n",
    "p_x = [[0.3,0.3,0.3],[0.35,0.35,0.35],[0.35,0.35,0.35]] \n",
    "p_y = [[0.4,0.35,0.25]] * 3\n",
    "#\n",
    "ixy = 0\n",
    "for i in range(3):\n",
    "    for j in range(3):\n",
    "        print(p_xy[i][j],p_x[i][j],p_y[i][j])\n",
    "        ixy += p_xy[i][j] * math.log(p_xy[i][j]/(p_x[i][j]*p_y[i][j]))\n",
    "ixy"
   ]
  },
  {
   "cell_type": "code",
   "execution_count": 55,
   "metadata": {
    "scrolled": true
   },
   "outputs": [
    {
     "name": "stdout",
     "output_type": "stream",
     "text": [
      "0.167\n",
      "0.3\n",
      "0.4\n",
      "0.333\n",
      "0.35\n",
      "0.35\n",
      "0.5\n",
      "0.35\n",
      "0.25\n",
      "0.286\n",
      "0.3\n",
      "0.4\n",
      "0.571\n",
      "0.35\n",
      "0.35\n",
      "0.143\n",
      "0.35\n",
      "0.25\n",
      "0.714\n",
      "0.3\n",
      "0.4\n",
      "0.143\n",
      "0.35\n",
      "0.35\n",
      "0.143\n",
      "0.35\n",
      "0.25\n"
     ]
    },
    {
     "data": {
      "text/plain": [
       "3.8229609393437256"
      ]
     },
     "execution_count": 55,
     "metadata": {},
     "output_type": "execute_result"
    }
   ],
   "source": [
    "ixy = 0\n",
    "for i in range(3):\n",
    "    for j in range(3):\n",
    "        print(p_xy[i][j])\n",
    "        print(p_x[i][j])\n",
    "        print(p_y[i][j])\n",
    "        ixy += p_xy[i][j] * math.log(p_xy[i][j]/(p_x[i][j]*p_y[i][j]))\n",
    "ixy"
   ]
  },
  {
   "cell_type": "code",
   "execution_count": 121,
   "metadata": {},
   "outputs": [
    {
     "name": "stdout",
     "output_type": "stream",
     "text": [
      "0.125\n",
      "0.25\n",
      "0.625\n",
      "0.2857142857142857\n",
      "0.5714285714285714\n",
      "0.14285714285714285\n",
      "0.6\n",
      "0.2\n",
      "0.2\n"
     ]
    }
   ],
   "source": [
    "x1 = [4,8,20,8,16,4,12,4,4]\n",
    "x2 = [32,32,32,28,28,28,20,20,20]\n",
    "for i in range(len(x1)):\n",
    "    print(x1[i]/x2[i])"
   ]
  },
  {
   "cell_type": "code",
   "execution_count": 122,
   "metadata": {},
   "outputs": [
    {
     "data": {
      "text/plain": [
       "0.35"
      ]
     },
     "execution_count": 122,
     "metadata": {},
     "output_type": "execute_result"
    }
   ],
   "source": [
    "28/80"
   ]
  },
  {
   "cell_type": "code",
   "execution_count": 125,
   "metadata": {},
   "outputs": [
    {
     "data": {
      "text/plain": [
       "0.25"
      ]
     },
     "execution_count": 125,
     "metadata": {},
     "output_type": "execute_result"
    }
   ],
   "source": [
    "10/40"
   ]
  },
  {
   "cell_type": "markdown",
   "metadata": {
    "nbgrader": {
     "grade": false,
     "grade_id": "cell-51388c4a0f9b2aa3",
     "locked": true,
     "schema_version": 1,
     "solution": false
    }
   },
   "source": [
    "## PROBLEM 1 (30 POINTS)\n",
    "\n",
    "Consider the Bayesian network below \n",
    "\n",
    "![simple_network](simple_network.png)\n",
    "\n",
    "**(a)** Give a table specifying the joint probability distribution, $P(A, B, C)$ represented by the Bayesian network.\n",
    "\n",
    "**(b)** Given your table from (a), compute $P(A = true\\ |\\ C = true)$\n",
    "\n",
    "**(c)** Given your table from (a), compute $P(A = true\\ |\\ B = true)$\n",
    "\n",
    "**(d)** Given your table from (a), compute $P(A = true\\ |\\ B = true, C = true)$\n",
    "\n",
    "**(e)** Given your table from (a), is $A$ independent of $B$? Justify your answer.\n",
    "  \n",
    "**(f)** Given your table from (a), is $A$ independent of $B$ given $C$? Justify your answer.\n",
    "\n"
   ]
  },
  {
   "cell_type": "code",
   "execution_count": null,
   "metadata": {},
   "outputs": [],
   "source": []
  },
  {
   "cell_type": "markdown",
   "metadata": {
    "nbgrader": {
     "grade": true,
     "grade_id": "p1",
     "locked": false,
     "points": 30,
     "schema_version": 1,
     "solution": true
    }
   },
   "source": [
    "### BEGIN SOLUTION TEMPLATE=solution to problem 1\n",
    "\n",
    "**(a)** $P(a, b, c) = P(a) P(b) P(c|a,b)$\n",
    "\n",
    "| A | B | C | P(A, B, C)|\n",
    "|---|---|---|-----------|\n",
    "| T | T | T |    0.2    |\n",
    "| T | T | F |    0.0    |\n",
    "| T | F | T |    0.2    |\n",
    "| T | F | F |    0.0    |\n",
    "| F | T | T |    0.3    |\n",
    "| F | T | F |    0.0    |\n",
    "| F | F | T |    0.0    |\n",
    "| F | F | F |    0.3    |\n",
    "\n",
    "**(b)**\n",
    "$P(A = true\\ |\\ C = true) = \\frac{P(A = true, C = true)}{P(C = true)}\n",
    "= \\frac{0.2 + 0.2}{0.2 + 0.2 + 0.3 + 0} = \\frac{4}{7} \\approx 0.571$\n",
    "\n",
    "**(c)**\n",
    "$P(A = true\\ |\\ B = true) = \\frac{P(A = true, B = true)}{P(B = true)}\n",
    "= \\frac{0.2 + 0}{0.2 + 0 + 0.3 + 0} = \\frac{2}{5} = 0.4$\n",
    "\n",
    "**(d)** \n",
    "$P(A = true\\ |\\ B = true, C = true) = \\frac{P(A = true, B = true, C = true)}{P(B = true, C = true)}\n",
    "= \\frac{0.2}{0.2 + 0.3} = \\frac{2}{5} = 0.4$\n",
    "\n",
    "**(e)**\n",
    "\n",
    "$P(A = true) = 0.2 + 0 + 0.2 + 0 = 0.4$ \n",
    "\n",
    "$P(A = true | B = false) = \\frac{P(A = true, B = false)}{P(B = false)}\n",
    "= \\frac{0.2 + 0}{0.2 + 0 + 0 + 0.3} = \\frac{2}{5} = 0.4$\n",
    "\n",
    "Combined with the result from (c) we can see that $P(A) = P(A | B)$, for all values of $A$ and $B$, and thus that $A$ is independent of $B$.\n",
    "\n",
    "**(f)**\n",
    "We can see from (b) and (d) that $P(A = true\\ |\\ C = true) \\neq P(A = true\\ |\\ B = true, C = true)$, and thus that $A$ is *not* independent of $B$ given $C$.\n",
    "\n",
    "\n",
    "### END SOLUTION"
   ]
  },
  {
   "cell_type": "markdown",
   "metadata": {
    "nbgrader": {
     "grade": false,
     "grade_id": "cell-3efc15f74bf1d298",
     "locked": true,
     "schema_version": 1,
     "solution": false
    }
   },
   "source": [
    "## PROBLEM 2 (25 POINTS)\n",
    "As shown in the slide \"Representing CPDs for Discrete Variables\" (slide 8) of the lecture \"Networks - Introduction to Bayesian Networks\" some conditional probability distributions (CPD) can also be represented with a tree.\n",
    "\n",
    "**(a)** Give the CPD table for the distribution $P(D\\ |\\ A,B,C)$ represented by the tree below.\n",
    "![](decision_tree.png)\n",
    "\n",
    "**(b)** Give the most compact tree (i.e., one with the fewest nodes) represention of the distribution $P(D\\ |\\ A,B,C)$ specified by the CPD table below.\n",
    "\n",
    "![](decision_tree_cpd.png)\n",
    "\n",
    "**(c)** Suppose that you know that the CPD $P(D\\ |\\ A,B,C)$ can be represented by the tree structure of part (a), but that you don't know the parameters at the leaves of the tree.  Now suppose you are given some training data with which to estimate the CPD.  What is the major advantage of the tree representation over the CPD table representation in estimating the parameters of the CPD?"
   ]
  },
  {
   "cell_type": "markdown",
   "metadata": {
    "nbgrader": {
     "grade": true,
     "grade_id": "p2",
     "locked": false,
     "points": 25,
     "schema_version": 1,
     "solution": true
    }
   },
   "source": [
    "### BEGIN SOLUTION TEMPLATE=solution to problem 2\n",
    "\n",
    "**(a)**\n",
    "$P(D| A, B, C)$\n",
    "\n",
    "| A | B | C |  T  |  F  |\n",
    "|---|---|---|-----------|\n",
    "| T | T | T | 0.5 | 0.5 |\n",
    "| T | T | F | 0.4 | 0.6 |\n",
    "| T | F | T | 0.5 | 0.5 |\n",
    "| T | F | F | 0.4 | 0.6 |\n",
    "| F | T | T | 0.7 | 0.3 |\n",
    "| F | T | F | 0.7 | 0.3 |\n",
    "| F | F | T | 0.8 | 0.2 |\n",
    "| F | F | F | 0.8 | 0.2 |\n",
    "\n",
    "**(b)** ![p2_decision_tree](p2_decision_tree.png)\n",
    "\n",
    "**(c)** The tree representation has only four free parameters compared to the eight free parameters of the CPD representation. With fewer parameters, and with the same amount of training data, the estimates for the tree structure representation will be more accurate.\n",
    "\n",
    "### END SOLUTION"
   ]
  },
  {
   "cell_type": "markdown",
   "metadata": {
    "nbgrader": {
     "grade": false,
     "grade_id": "cell-da60905e0e67952f",
     "locked": true,
     "schema_version": 1,
     "solution": false
    }
   },
   "source": [
    "## PROBLEM 3 (30 POINTS)\n",
    "\n",
    "Consider two possible Bayesian networks for two binary random variables, $X_1$ and $X_2$, shown below.\n",
    "\n",
    "![](two_var_networks.png)\n",
    "\n",
    "**(a)** Give the likelihood function, $P(D|G_0, \\theta)$, for network $G_0$ in terms of the count variables shown in the table above.\n",
    "\n",
    "**(b)** Give the likelihood function, $P(D|G_1, \\theta)$, for network $G_1$ in terms of the count variables shown in the table above.\n",
    "\n",
    "**(c)** Suppose that we estimate maximum likelihood values, $\\hat{\\theta}_{MLE}$, for the parameters of each of the two networks given a data set, $D$.  Show that $P(D|G_1, \\hat{\\theta}_{MLE}) \\geq P(D|G_0, \\hat{\\theta}_{MLE})$ for any data set, $D$, and thus that the likelihood is not a good way to score networks. *Hint: consider what happens when $\\theta_2 = \\theta_{20} = \\theta_{21}$.*\n",
    "\n",
    "**(d)** Derive the model evidence, $P(D|G_0)$ for the network $G_0$ in terms of the count variables shown in the table above.\n",
    "\n",
    "**(e)** Derive the model evidence, $P(D|G_1)$ for the network $G_1$ in terms of the count variables shown in the table above.\n",
    "\n",
    "**(f)** Consider the case in which $n = 20$ and $n_{0-} = n_{1-} = n_{-0} = n_{-1} = 10$ (i.e., each row and column of the data table sum to half of the total observations).  Compute the difference in the log model evidence between the two models, $\\log(P(D|G_1)) - \\log(P(D|G_0))$, over all possible values of $n_{00}$ (note that specifying $n_{00}$ specifies all other counts).  These values indicate for which data sets we would prefer $G_1$ over $G_0$, and vice versa.  Show your results as a plot of $\\log(P(D|G_1)) - \\log(P(D|G_0))$ vs. $n_{00}$."
   ]
  },
  {
   "cell_type": "markdown",
   "metadata": {
    "nbgrader": {
     "grade": true,
     "grade_id": "p3",
     "locked": false,
     "points": 30,
     "schema_version": 1,
     "solution": true
    }
   },
   "source": [
    "### BEGIN SOLUTION TEMPLATE=solution to problem 3\n",
    "\n",
    "**(a)** $P(D|G_0, \\theta) = \n",
    "\\theta_1^{n_{0-}} (1 - \\theta_1)^{n_{1-}}\n",
    "\\theta_2^{n_{-0}} (1 - \\theta_2)^{n_{-1}}$\n",
    "\n",
    "**(b)** $P(D|G_1, \\theta) = \n",
    "\\theta_1^{n_{0-}} (1 - \\theta_1)^{n_{1-}} \n",
    "\\theta_{20}^{n_{00}} (1 - \\theta_{20})^{n_{01}}\n",
    "\\theta_{21}^{n_{10}} (1 - \\theta_{21})^{n_{11}}$\n",
    "\n",
    "**(c)** Suppose that for a given data set, $D$, that $\\hat{\\theta}^0$ are the maximum likelihood parameters for $G_0$.  Define a set of parameters, $\\tilde{\\theta}^1$, for $G_1$, in terms of $\\hat{\\theta}^0$, with $\\tilde{\\theta}^1_1 = \\hat{\\theta}^0_{1}$ and $\\tilde{\\theta}^1_{20} = \\tilde{\\theta}^1_{21} = \\hat{\\theta}^0_{2}$.  Note that $P(D|G_1, \\tilde{\\theta}^1) = P(D|G_0, \\hat{\\theta}^0)$.  However, note that $\\tilde{\\theta}^1$ are not necessarily the maximum likelihood parameters, $\\hat{\\theta}^1$, for $G_1$.  Since maximum likelihood parameter estimates maximize the likelihood function, $P(D|G_1, \\hat{\\theta}^1) \\geq P(D|G_1, \\tilde{\\theta}^1) = P(D|G_0, \\hat{\\theta}^0)$.  Thus, $P(D|G_1, \\hat{\\theta}^1) \\geq P(D|G_0, \\hat{\\theta}^0)$.\n",
    "\n",
    "**(d)** $P(D|G_0) = -\\left(2\\log(n+1) + \\log {n \\choose n_{0-}} + \\log {n \\choose n_{-0}}\\right)$\n",
    "\n",
    "**(e)** $P(D|G_1) = -\\left(\\log(n+1) + \\log {n \\choose n_{0-}} + \n",
    "\\log(n_{0-} + 1) + \\log {n_{0-} \\choose n_{00}} +\n",
    "\\log(n_{1-} + 1) + \\log {n_{1-} \\choose n_{10}} \\right)$\n",
    "\n",
    "**(f)** See code and plot below.  $G_0$ is preferred over $G_1$ for $n_{00} \\in [4,6]$, for which the estimated probability of $X_2$ given $X_1 = 0$ is roughly the same as the probability of $X_2$ given $X_1 = 1$\n",
    "\n",
    "\n",
    "### END SOLUTION"
   ]
  },
  {
   "cell_type": "code",
   "execution_count": 1,
   "metadata": {
    "collapsed": true,
    "nbgrader": {
     "grade": false,
     "grade_id": "cell-bbd76a9bb92522be",
     "locked": true,
     "schema_version": 1,
     "solution": false
    }
   },
   "outputs": [],
   "source": [
    "import math\n",
    "import matplotlib.pyplot as plt"
   ]
  },
  {
   "cell_type": "code",
   "execution_count": 2,
   "metadata": {
    "nbgrader": {
     "grade": true,
     "grade_id": "cell-fa433559aa2bf51d",
     "locked": false,
     "points": 0,
     "schema_version": 1,
     "solution": true
    }
   },
   "outputs": [
    {
     "data": {
      "image/png": "[encoded data removed]",
      "text/plain": [
       "<Figure size 432x288 with 1 Axes>"
      ]
     },
     "metadata": {},
     "output_type": "display_data"
    }
   ],
   "source": [
    "### BEGIN SOLUTION\n",
    "def logbinom(n, k):\n",
    "    \"\"\"The natural logarithm of the binomial coefficient (n choose k)\"\"\"\n",
    "    return math.lgamma(n + 1) - math.lgamma(k + 1) - math.lgamma(n - k + 1)\n",
    "\n",
    "def matrix(nrows, ncols, val=None):\n",
    "    return [[val] * ncols for _ in range(nrows)]\n",
    "\n",
    "def model_evidence_g0(n00, n01, n10, n11):\n",
    "    n0_ = n00 + n01\n",
    "    n_0 = n00 + n10\n",
    "    n = n00 + n01 + n10 + n11\n",
    "    return -(math.log(n + 1) + \n",
    "             logbinom(n, n0_) + \n",
    "             math.log(n + 1) + \n",
    "             logbinom(n, n_0))\n",
    "\n",
    "def model_evidence_g1(n00, n01, n10, n11):\n",
    "    n0_ = n00 + n01\n",
    "    n1_ = n10 + n11\n",
    "    n = n00 + n01 + n10 + n11\n",
    "    return -(math.log(n + 1) + logbinom(n, n0_) + \n",
    "             math.log(n0_ + 1) + logbinom(n0_, n00) +\n",
    "             math.log(n1_ + 1) + logbinom(n1_, n10))\n",
    "\n",
    "n = 20\n",
    "half_n = n // 2\n",
    "n00_vals = range(0, half_n + 1)\n",
    "score_diffs = []\n",
    "for n00 in n00_vals:\n",
    "    n01 = half_n - n00\n",
    "    n11 = n00\n",
    "    n10 = n01\n",
    "    score_diff = (model_evidence_g1(n00, n01, n10, n11) - \n",
    "                  model_evidence_g0(n00, n01, n10, n11))\n",
    "    score_diffs.append(score_diff)\n",
    "\n",
    "plt.plot(n00_vals, score_diffs)\n",
    "plt.xlabel(\"n_00\")\n",
    "plt.ylabel(\"log model evidence difference\")\n",
    "plt.hlines(0, min(n00_vals), max(n00_vals), linestyles='dotted')\n",
    "plt.show()\n",
    "### END SOLUTION"
   ]
  },
  {
   "cell_type": "markdown",
   "metadata": {
    "nbgrader": {
     "grade": false,
     "grade_id": "cell-a1c731f8cc90e83b",
     "locked": true,
     "schema_version": 1,
     "solution": false
    }
   },
   "source": [
    "## PROBLEM 4 (15 POINTS) \n",
    "\n",
    "\n",
    "Suppose we wish to reconstruct the gene regulatory network for three genes, $X$, $Y$, and $Z$, using the Bayesian network approach and the “sparse candidate” algorithm. We are given data from 100 independent experiments in which the expression levels of the three genes are measured. For simplicity, we model each gene as being either “on” (T) or “off” (F). Below is a table summarizing the number of times (count) each configuration of gene expression status was observed in these experiments.\n",
    "\n",
    "\n",
    "| X | Y | Z | count |\n",
    "|---|---|---|-------|\n",
    "| T | T | T |  36   |\n",
    "| T | T | F |   4   |\n",
    "| T | F | T |   2   |\n",
    "| T | F | F |   8   |\n",
    "| F | T | T |   9   |\n",
    "| F | T | F |   1   |\n",
    "| F | F | T |   8   |\n",
    "| F | F | F |  32   |\n",
    "\n",
    "\n",
    "**(a)** Suppose we wish to compute a single candidate parent for $Z$. In the first round of the “sparse candidate” algorithm, we compute the mutual information between $Z$ and the other random variables. Compute the mutual information between $Z$ and $X$, $I(X,Z)$, based on the frequencies observed in the data.\n",
    "\n",
    "**(b)** Compute the mutual information between $Z$ and $Y$, $I(Y,Z)$, based on the frequencies observed in the data.\n",
    "\n",
    "**(c)** Based on your answers to (a) and (b), which gene would be selected as the candidate parent for Z? Briefly explain your answer."
   ]
  },
  {
   "cell_type": "markdown",
   "metadata": {
    "nbgrader": {
     "grade": true,
     "grade_id": "p4",
     "locked": false,
     "points": 15,
     "schema_version": 1,
     "solution": true
    }
   },
   "source": [
    "### BEGIN SOLUTION TEMPLATE=solution to problem 4\n",
    "\n",
    "**(a)** \n",
    "\n",
    "| $X$ | $Z$ | $\\hat{P}(x,z)$ | $\\hat{P}(x)$ | $\\hat{P}(z)$ | $\\hat{P}(x,z) \\log\\left(\\frac{\\hat{P}(x,z)}{\\hat{P}(x)\\hat{P}(z)}\\right)$ |\n",
    "|-----|-----|----------------|--------------|--------------|---------------------------------------------------------------------------------|\n",
    "|  T  |  T  | 0.38  |  0.5 | 0.55 | 0.123  |\n",
    "|  T  |  F  | 0.12  |  0.5 | 0.45 | -0.075 |\n",
    "|  F  |  T  | 0.17  |  0.5 | 0.55 | -0.082 |\n",
    "|  F  |  F  | 0.33  |  0.5 | 0.45 | 0.126  |\n",
    "\n",
    "\n",
    "$I(X,Z) = 0.123 - 0.075 - 0.082 + 0.126 = 0.092$\n",
    "\n",
    "(with log base 2, $I(X,Z) = 0.132$, and with log base 10, $I(X,Z) = 0.040$)\n",
    "\n",
    "**(b)**\n",
    "\n",
    "| $Y$ | $Z$ | $\\hat{P}(y,z)$ | $\\hat{P}(y)$ | $\\hat{P}(z)$ | $\\hat{P}(y,z) \\log\\left(\\frac{\\hat{P}(y,z)}{\\hat{P}(y)\\hat{P}(z)}\\right)$ |\n",
    "|-----|-----|----------------|--------------|--------------|---------------------------------------------------------------------------------|\n",
    "|  T  |  T  | 0.45           | 0.5 | 0.55 | 0.222  |\n",
    "|  T  |  F  | 0.05           | 0.5 | 0.45 | -0.075 |\n",
    "|  F  |  T  | 0.10           | 0.5 | 0.55 | -0.101 |\n",
    "|  F  |  F  | 0.40           | 0.5 | 0.45 | 0.230  |\n",
    "\n",
    "\n",
    "$I(Y,Z) = 0.222 - 0.075 - 0.101 + 0.230 = 0.276$\n",
    "\n",
    "(with log base 2, $I(Y,Z) = 0.397$, and with log base 10, $I(Y,Z) = 0.120$)\n",
    "\n",
    "**(c)**\n",
    "$Y$ would be selected to be the candidate parent for $Z$ because $I(Y, Z) > I(X, Z)$.\n",
    "\n",
    "### END SOLUTION"
   ]
  }
 ],
 "metadata": {
  "celltoolbar": "Create Assignment",
  "kernelspec": {
   "display_name": "Python 3",
   "language": "python",
   "name": "python3"
  },
  "language_info": {
   "codemirror_mode": {
    "name": "ipython",
    "version": 3
   },
   "file_extension": ".py",
   "mimetype": "text/x-python",
   "name": "python",
   "nbconvert_exporter": "python",
   "pygments_lexer": "ipython3",
   "version": "3.8.5"
  }
 },
 "nbformat": 4,
 "nbformat_minor": 2
}
