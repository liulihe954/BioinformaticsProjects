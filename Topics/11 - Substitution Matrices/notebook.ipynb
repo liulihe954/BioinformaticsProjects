{
 "cells": [
  {
   "cell_type": "markdown",
   "metadata": {
    "nbgrader": {
     "grade": false,
     "grade_id": "cell-6e2072e6053fe8f2",
     "locked": true,
     "schema_version": 1,
     "solution": false
    }
   },
   "source": [
    "# Day 11 notebook\n",
    "\n",
    "The objectives of this notebook are to practice\n",
    "\n",
    "* deriving substitution matrices\n",
    "* computing the distribution of random alignment scores"
   ]
  },
  {
   "cell_type": "markdown",
   "metadata": {
    "nbgrader": {
     "grade": false,
     "grade_id": "cell-7a4ec7e5dc9712a8",
     "locked": true,
     "schema_version": 1,
     "solution": false
    }
   },
   "source": [
    "## Modules used in this notebook"
   ]
  },
  {
   "cell_type": "code",
   "execution_count": 1,
   "metadata": {
    "collapsed": true,
    "nbgrader": {
     "grade": false,
     "grade_id": "cell-304fb6dbb338aee4",
     "locked": true,
     "schema_version": 1,
     "solution": false
    }
   },
   "outputs": [],
   "source": [
    "import fasta                    # for reading sequences in FASTA format\n",
    "import collections              # for helpful functions/classes, such as Counter and defaultdict\n",
    "import math                     # for log\n",
    "import random                   # for shuffle\n",
    "import matplotlib.pyplot as plt # for plotting"
   ]
  },
  {
   "cell_type": "markdown",
   "metadata": {
    "nbgrader": {
     "grade": false,
     "grade_id": "cell-28d1ba13786780c2",
     "locked": true,
     "schema_version": 1,
     "solution": false
    }
   },
   "source": [
    "## Human-Chimp genomic alignment from chromosome 21"
   ]
  },
  {
   "cell_type": "markdown",
   "metadata": {
    "nbgrader": {
     "grade": false,
     "grade_id": "cell-c3fdf37f452b214d",
     "locked": true,
     "schema_version": 1,
     "solution": false
    }
   },
   "source": [
    "In this activity we will analyze a pairwise alignment of a pair orthologous segments of the human and chimpanzee genomes.  This alignment was produced using the [MUMmer](http://mummer.sourceforge.net/) genomic alignment software.  The human segment comes from bases 26727427-26958359 of chromosome 21, and is about 231,000 bases long.  We will first read this alignment from a file `human_chimp_chr21_block.fasta`, which is in FASTA format."
   ]
  },
  {
   "cell_type": "code",
   "execution_count": 2,
   "metadata": {
    "collapsed": true,
    "nbgrader": {
     "grade": false,
     "grade_id": "cell-8b65a06a89da1fa3",
     "locked": true,
     "schema_version": 1,
     "solution": false
    }
   },
   "outputs": [],
   "source": [
    "aligned_seqs = fasta.read_sequences_from_fasta_file(\"human_chimp_chr21_block.fasta\")\n",
    "human_chimp_alignment = [aligned_seq for (seq_name, aligned_seq) in aligned_seqs]"
   ]
  },
  {
   "cell_type": "markdown",
   "metadata": {
    "nbgrader": {
     "grade": false,
     "grade_id": "cell-f26bb116e9842bf1",
     "locked": true,
     "schema_version": 1,
     "solution": false
    }
   },
   "source": [
    "## Deriving a substitution matrix\n",
    "\n",
    "Your first task to to derive a DNA substitution matrix from the human-chimp alignment described above.  We will break this task down until a number of subtasks."
   ]
  },
  {
   "cell_type": "markdown",
   "metadata": {
    "nbgrader": {
     "grade": false,
     "grade_id": "cell-642aabc1705adb0c",
     "locked": true,
     "schema_version": 1,
     "solution": false
    }
   },
   "source": [
    "### PROBLEM 1: Count aligned pairs in an alignment (1 POINT)\n",
    "The starting point for deriving a substitution matrix from an alignment is to count the number of times you observe each pair of characters aligned to each other.  Write a function below that takes as input an alignment, and returns a dictionary mapping each pair of characters to the number of times that pair is observed in the alignment.\n",
    "\n",
    "Some details on the implementation:\n",
    "* You should ignore gapped columns.\n",
    "* To keep things simple for the later steps, for each column of the alignment that has a pair of characters `(a, b)`, you should add a count for both `(a, b)` and `(b, a)`.  If `a == b`, then that means you will be adding *two* counts for the same pair `(a, a)`.  We will do this so that our substitution matrix is symmetric.\n",
    "* You do not need to explicity store counts for pairs of characters that are not observed in the matrix (i.e., you do not need to have zeros in your dictionary).\n"
   ]
  },
  {
   "cell_type": "code",
   "execution_count": 3,
   "metadata": {
    "collapsed": true,
    "nbgrader": {
     "grade": false,
     "grade_id": "cell-f9d7dcdc55f08184",
     "locked": false,
     "schema_version": 1,
     "solution": true
    }
   },
   "outputs": [],
   "source": [
    "def count_aligned_pairs(alignment):\n",
    "    \"\"\"Counts the number times each pair of characters is aligned to each other in an alignment.\n",
    "    \n",
    "    Each column in the alignment with an aligned pair (a, b) counts \n",
    "    towards both (a, b) and (b, a). Gapped columns are ignored.\n",
    "    \n",
    "    Args:\n",
    "        alignment: a pairwise alignment represented as a list of two strings of equal length\n",
    "    Returns:\n",
    "        A dictionary with pairs (tuples) of characters as keys and integer counts as values.\n",
    "    \"\"\"   \n",
    "    ### BEGIN SOLUTION\n",
    "    aligned_pairs = [pair for pair in zip(*alignment) if '-' not in pair]\n",
    "    pair_counts = collections.Counter(aligned_pairs)\n",
    "    pair_counts.update((b, a) for (a, b) in aligned_pairs)\n",
    "    return pair_counts\n",
    "    ### END SOLUTION"
   ]
  },
  {
   "cell_type": "code",
   "execution_count": 4,
   "metadata": {
    "nbgrader": {
     "grade": true,
     "grade_id": "count_aligned_pairs",
     "locked": true,
     "points": 1,
     "schema_version": 1,
     "solution": false
    },
    "scrolled": true
   },
   "outputs": [
    {
     "name": "stdout",
     "output_type": "stream",
     "text": [
      "SUCCESS: count_aligned_pairs passed all tests!\n"
     ]
    }
   ],
   "source": [
    "# tests for count_aligned_pairs\n",
    "# in case you write a function that includes zeros, this will remove them for testing \n",
    "def drop_zeros(count_dict):\n",
    "    return {key: value for key, value in count_dict.items() if value != 0}\n",
    "\n",
    "test_align1 = [\"CTAGGTAGTCGG\",\n",
    "               \"C-ATCTCAATG-\"]\n",
    "test_counts1 = {('A', 'A'): 2, ('A', 'C'): 1, ('A', 'G'): 1, ('A', 'T'): 1,\n",
    "                ('C', 'A'): 1, ('C', 'C'): 2, ('C', 'G'): 1, ('C', 'T'): 1,\n",
    "                ('G', 'A'): 1, ('G', 'C'): 1, ('G', 'G'): 2, ('G', 'T'): 1,\n",
    "                ('T', 'A'): 1, ('T', 'C'): 1, ('T', 'G'): 1, ('T', 'T'): 2}\n",
    "assert drop_zeros(count_aligned_pairs(test_align1)) == test_counts1\n",
    "\n",
    "test_align2 = [\"AAAACCCCGGGGTTTT\",\n",
    "               \"ACGTACGTACGTACGT\"]\n",
    "test_counts2 = {('A', 'A'): 2, ('A', 'C'): 2, ('A', 'G'): 2, ('A', 'T'): 2,\n",
    "                ('C', 'A'): 2, ('C', 'C'): 2, ('C', 'G'): 2, ('C', 'T'): 2,\n",
    "                ('G', 'A'): 2, ('G', 'C'): 2, ('G', 'G'): 2, ('G', 'T'): 2,\n",
    "                ('T', 'A'): 2, ('T', 'C'): 2, ('T', 'G'): 2, ('T', 'T'): 2}\n",
    "assert drop_zeros(count_aligned_pairs(test_align2)) == test_counts2\n",
    "\n",
    "print(\"SUCCESS: count_aligned_pairs passed all tests!\")"
   ]
  },
  {
   "cell_type": "markdown",
   "metadata": {
    "nbgrader": {
     "grade": false,
     "grade_id": "cell-3fdc62e16324dff3",
     "locked": true,
     "schema_version": 1,
     "solution": false
    }
   },
   "source": [
    "We will now use your `count_aligned_pairs` function on the human chimp alignment."
   ]
  },
  {
   "cell_type": "code",
   "execution_count": 5,
   "metadata": {
    "nbgrader": {
     "grade": false,
     "grade_id": "cell-f489dc01bc296100",
     "locked": true,
     "schema_version": 1,
     "solution": false
    }
   },
   "outputs": [
    {
     "name": "stdout",
     "output_type": "stream",
     "text": [
      "Counter({('T', 'T'): 143304, ('A', 'A'): 138498, ('C', 'C'): 86782, ('G', 'G'): 86326, ('A', 'G'): 1002, ('G', 'A'): 1002, ('T', 'C'): 874, ('C', 'T'): 874, ('G', 'T'): 262, ('T', 'G'): 262, ('A', 'C'): 261, ('C', 'A'): 261, ('C', 'G'): 227, ('G', 'C'): 227, ('A', 'T'): 213, ('T', 'A'): 213})\n"
     ]
    }
   ],
   "source": [
    "human_chimp_pair_counts = count_aligned_pairs(human_chimp_alignment)\n",
    "print(human_chimp_pair_counts)"
   ]
  },
  {
   "cell_type": "markdown",
   "metadata": {
    "nbgrader": {
     "grade": false,
     "grade_id": "cell-576f0d48c91ec438",
     "locked": true,
     "schema_version": 1,
     "solution": false
    }
   },
   "source": [
    "### PROBLEM 2: Estimate pair probabilities (1 POINT)\n",
    "Next, write a function that takes as input a dictionary of aligned character pair counts, and outputs a dictionary of character pair probabilities.  You should use the following equation for the estimates of these probabilities:\n",
    "\n",
    "$p_{ab} = \\frac{A_{ab}}{\\sum_{c,d} A_{cd}}$,\n",
    "\n",
    "where $A_{ab}$ is the count of pair `(a, b)` and the denominator is simply the sum of all pair counts."
   ]
  },
  {
   "cell_type": "code",
   "execution_count": 6,
   "metadata": {
    "collapsed": true,
    "nbgrader": {
     "grade": false,
     "grade_id": "cell-bb36744e8c73cb80",
     "locked": false,
     "schema_version": 1,
     "solution": true
    }
   },
   "outputs": [],
   "source": [
    "def estimate_pair_probs(pair_counts):\n",
    "    \"\"\"Estimates the probability of observing each pair of characters in an\n",
    "    alignment column, given counts of pairs of characters.\n",
    "    \n",
    "    Args:\n",
    "        pair_counts: A dictionary with pairs (tuples) of characters as keys\n",
    "                     and integer counts as values.\n",
    "    Returns:\n",
    "        A dictionary with pairs (tuples) of characters as keys\n",
    "        and probabilities (floats) as values.\n",
    "    \"\"\"   \n",
    "    ### BEGIN SOLUTION\n",
    "    n = sum(pair_counts.values())\n",
    "    return {pair: count / n for pair, count in pair_counts.items()}\n",
    "    ### END SOLUTION"
   ]
  },
  {
   "cell_type": "code",
   "execution_count": 7,
   "metadata": {
    "nbgrader": {
     "grade": true,
     "grade_id": "estimate_pair_probs",
     "locked": true,
     "points": 1,
     "schema_version": 1,
     "solution": false
    },
    "scrolled": true
   },
   "outputs": [
    {
     "name": "stdout",
     "output_type": "stream",
     "text": [
      "SUCCESS: estimate_pair_probs passed all tests!\n"
     ]
    }
   ],
   "source": [
    "# tests for estimate_pair_probs\n",
    "def round_dict(d, digits=5):\n",
    "    return {key: round(value, digits) for key, value in d.items()}\n",
    "\n",
    "test_pair_probs1 = {('A', 'A'): 0.1,  ('A', 'C'): 0.05, ('A', 'G'): 0.05, ('A', 'T'): 0.05,\n",
    "                    ('C', 'A'): 0.05, ('C', 'C'): 0.1,  ('C', 'G'): 0.05, ('C', 'T'): 0.05,\n",
    "                    ('G', 'A'): 0.05, ('G', 'C'): 0.05, ('G', 'G'): 0.1,  ('G', 'T'): 0.05,\n",
    "                    ('T', 'A'): 0.05, ('T', 'C'): 0.05, ('T', 'G'): 0.05, ('T', 'T'): 0.1}\n",
    "assert round_dict(drop_zeros(estimate_pair_probs(test_counts1))) == test_pair_probs1\n",
    "\n",
    "test_pair_probs2 = {('A', 'A'): 0.0625, ('A', 'C'): 0.0625, ('A', 'G'): 0.0625, ('A', 'T'): 0.0625,\n",
    "                    ('C', 'A'): 0.0625, ('C', 'C'): 0.0625, ('C', 'G'): 0.0625, ('C', 'T'): 0.0625,\n",
    "                    ('G', 'A'): 0.0625, ('G', 'C'): 0.0625, ('G', 'G'): 0.0625, ('G', 'T'): 0.0625,\n",
    "                    ('T', 'A'): 0.0625, ('T', 'C'): 0.0625, ('T', 'G'): 0.0625, ('T', 'T'): 0.0625}\n",
    "assert round_dict(drop_zeros(estimate_pair_probs(test_counts2))) == test_pair_probs2\n",
    "\n",
    "print(\"SUCCESS: estimate_pair_probs passed all tests!\")"
   ]
  },
  {
   "cell_type": "markdown",
   "metadata": {
    "nbgrader": {
     "grade": false,
     "grade_id": "cell-7914174c30b90111",
     "locked": true,
     "schema_version": 1,
     "solution": false
    }
   },
   "source": [
    "### PROBLEM 3: Estimate character probabilities (1 POINT)\n",
    "Next, write a function that takes as input a dictionary of aligned character pair counts, and outputs a dictionary of character probabilities.  You should use the following equation for the estimates of these probabilities:\n",
    "\n",
    "$q_{a} = \\frac{\\sum_b A_{ab}}{\\sum_{c,d} A_{cd}}$"
   ]
  },
  {
   "cell_type": "code",
   "execution_count": 8,
   "metadata": {
    "collapsed": true,
    "nbgrader": {
     "grade": false,
     "grade_id": "cell-1dcbf448e64f1cb7",
     "locked": false,
     "schema_version": 1,
     "solution": true
    }
   },
   "outputs": [],
   "source": [
    "def estimate_char_probs(pair_counts):\n",
    "    \"\"\"Estimates the probability of observing each character in a sequence, \n",
    "    given counts of pairs of characters.\n",
    "    \n",
    "    Args:\n",
    "        pair_counts: A dictionary with pairs (tuples) of characters as keys\n",
    "                     and integer counts as values.\n",
    "    Returns:\n",
    "        A dictionary with characters as keys and probabilities (floats) as values.\n",
    "    \"\"\"   \n",
    "    ### BEGIN SOLUTION\n",
    "    n = sum(pair_counts.values())\n",
    "    char_counts = collections.defaultdict(int)\n",
    "    for (a, b), count in pair_counts.items():\n",
    "        char_counts[a] += count\n",
    "    return {a: count / n for a, count in char_counts.items()}\n",
    "    ### END SOLUTION"
   ]
  },
  {
   "cell_type": "code",
   "execution_count": 9,
   "metadata": {
    "nbgrader": {
     "grade": true,
     "grade_id": "estimate_char_probs",
     "locked": true,
     "points": 1,
     "schema_version": 1,
     "solution": false
    },
    "scrolled": true
   },
   "outputs": [
    {
     "name": "stdout",
     "output_type": "stream",
     "text": [
      "SUCCESS: estimate_char_probs passed all tests!\n"
     ]
    }
   ],
   "source": [
    "# tests for estimate_char_probs\n",
    "test_char_probs1 = {'A': 0.25, 'C': 0.25, 'G': 0.25, 'T': 0.25}\n",
    "assert round_dict(drop_zeros(estimate_char_probs(test_counts1))) == test_char_probs1\n",
    "\n",
    "test_char_probs2 = {'A': 0.25, 'C': 0.25, 'G': 0.25, 'T': 0.25}\n",
    "assert round_dict(drop_zeros(estimate_char_probs(test_counts2))) == test_char_probs2\n",
    "\n",
    "print(\"SUCCESS: estimate_char_probs passed all tests!\")"
   ]
  },
  {
   "cell_type": "markdown",
   "metadata": {
    "nbgrader": {
     "grade": false,
     "grade_id": "cell-531953aa16cddd32",
     "locked": true,
     "schema_version": 1,
     "solution": false
    }
   },
   "source": [
    "Let's examine the character frequencies in the human-chimp alignment:"
   ]
  },
  {
   "cell_type": "code",
   "execution_count": 10,
   "metadata": {
    "nbgrader": {
     "grade": false,
     "grade_id": "cell-74367794a2afb684",
     "locked": true,
     "schema_version": 1,
     "solution": false
    },
    "scrolled": true
   },
   "outputs": [
    {
     "data": {
      "text/plain": [
       "{'T': 0.3140615908360617,\n",
       " 'G': 0.1906628049362988,\n",
       " 'A': 0.30390283724282874,\n",
       " 'C': 0.19137276698481073}"
      ]
     },
     "execution_count": 10,
     "metadata": {},
     "output_type": "execute_result"
    }
   ],
   "source": [
    "estimate_char_probs(human_chimp_pair_counts)"
   ]
  },
  {
   "cell_type": "markdown",
   "metadata": {
    "nbgrader": {
     "grade": false,
     "grade_id": "cell-50895b174ced693b",
     "locked": true,
     "schema_version": 1,
     "solution": false
    }
   },
   "source": [
    "What you notice about the character frequencies in the human-chimp alignment?"
   ]
  },
  {
   "cell_type": "markdown",
   "metadata": {},
   "source": [
    "### BEGIN SOLUTION TEMPLATE=your thoughts here\n",
    "There is a higher frequency of A and T vs. C and G (i.e., this is an AT-rich region of the genome).  The ratio of C and G to A and T is roughly 3:2.  The frequencies of the complentary bases are roughly the same.  \n",
    "### END SOLUTION"
   ]
  },
  {
   "cell_type": "markdown",
   "metadata": {
    "nbgrader": {
     "grade": false,
     "grade_id": "cell-9735fee054d8029d",
     "locked": true,
     "schema_version": 1,
     "solution": false
    }
   },
   "source": [
    "### PROBLEM 4: Compute a substitution matrix (1 POINT)\n",
    "Finally, let's put everything together and write a function for computing a substitution matrix from an alignment.  You should use the equation:\n",
    "\n",
    "$s(a, b) = \\log\\left(\\frac{p_{ab}}{q_a q_b}\\right)$\n",
    "\n",
    "For these computations, use the *natural* logarithm, as provided by the function `math.log` in the `math` module."
   ]
  },
  {
   "cell_type": "code",
   "execution_count": 11,
   "metadata": {
    "collapsed": true,
    "nbgrader": {
     "grade": false,
     "grade_id": "cell-03e11290939d5a91",
     "locked": false,
     "schema_version": 1,
     "solution": true
    }
   },
   "outputs": [],
   "source": [
    "def submatrix_from_alignment(alignment):\n",
    "    \"\"\"Estimates a substitution matrix from a pairwise sequence alignment.\n",
    "    \n",
    "    Args:\n",
    "        alignment: a pairwise alignment represented as a list of two strings of equal length\n",
    "    Returns:\n",
    "        A substitution matri represented as a dictionary with pairs (tuples) of characters\n",
    "        as keys and substitution scores (floats) as values.\n",
    "    \"\"\"\n",
    "    pair_counts = count_aligned_pairs(alignment)\n",
    "    p = estimate_pair_probs(pair_counts)\n",
    "    q = estimate_char_probs(pair_counts)\n",
    "    ### BEGIN SOLUTION\n",
    "    return {(a, b): math.log(p[a, b] / (q[a] * q[b])) for a, b in p}\n",
    "    ### END SOLUTION"
   ]
  },
  {
   "cell_type": "code",
   "execution_count": 12,
   "metadata": {
    "nbgrader": {
     "grade": true,
     "grade_id": "submatrix_from_alignment",
     "locked": true,
     "points": 1,
     "schema_version": 1,
     "solution": false
    },
    "scrolled": false
   },
   "outputs": [
    {
     "name": "stdout",
     "output_type": "stream",
     "text": [
      "SUCCESS: estimate_char_probs passed all tests!\n"
     ]
    }
   ],
   "source": [
    "# tests for submatrix_from_alignment\n",
    "test_matrix1 = {('A', 'A'): 0.47,     ('A', 'C'): -0.22314, ('A', 'G'): -0.22314, ('A', 'T'): -0.22314,\n",
    "                ('C', 'A'): -0.22314, ('C', 'C'): 0.47,     ('C', 'G'): -0.22314, ('C', 'T'): -0.22314,\n",
    "                ('G', 'A'): -0.22314, ('G', 'C'): -0.22314, ('G', 'G'): 0.47,     ('G', 'T'): -0.22314,\n",
    "                ('T', 'A'): -0.22314, ('T', 'C'): -0.22314, ('T', 'G'): -0.22314, ('T', 'T'): 0.47}\n",
    "assert round_dict(submatrix_from_alignment(test_align1)) == test_matrix1\n",
    "\n",
    "test_matrix2 = {('A', 'A'): 0.0, ('A', 'C'): 0.0, ('A', 'G'): 0.0, ('A', 'T'): 0.0,\n",
    "                ('C', 'A'): 0.0, ('C', 'C'): 0.0, ('C', 'G'): 0.0, ('C', 'T'): 0.0,\n",
    "                ('G', 'A'): 0.0, ('G', 'C'): 0.0, ('G', 'G'): 0.0, ('G', 'T'): 0.0,\n",
    "                ('T', 'A'): 0.0, ('T', 'C'): 0.0, ('T', 'G'): 0.0, ('T', 'T'): 0.0}\n",
    "assert round_dict(submatrix_from_alignment(test_align2)) == test_matrix2\n",
    "\n",
    "print(\"SUCCESS: estimate_char_probs passed all tests!\")"
   ]
  },
  {
   "cell_type": "markdown",
   "metadata": {
    "nbgrader": {
     "grade": false,
     "grade_id": "cell-a69127eb3d574340",
     "locked": true,
     "schema_version": 1,
     "solution": false
    }
   },
   "source": [
    "Now let us take a look at the substitution matrix that is derived from the human-chimp alignment:"
   ]
  },
  {
   "cell_type": "code",
   "execution_count": 13,
   "metadata": {
    "collapsed": true,
    "nbgrader": {
     "grade": false,
     "grade_id": "cell-992485955d8270a8",
     "locked": true,
     "schema_version": 1,
     "solution": false
    }
   },
   "outputs": [],
   "source": [
    "human_chimp_submatrix = submatrix_from_alignment(human_chimp_alignment)"
   ]
  },
  {
   "cell_type": "markdown",
   "metadata": {
    "nbgrader": {
     "grade": false,
     "grade_id": "cell-6313e7fe4122bd11",
     "locked": true,
     "schema_version": 1,
     "solution": false
    }
   },
   "source": [
    "Below is some code for plotting this substitution matrix."
   ]
  },
  {
   "cell_type": "code",
   "execution_count": 14,
   "metadata": {
    "nbgrader": {
     "grade": false,
     "grade_id": "cell-25f446c3b1353063",
     "locked": true,
     "schema_version": 1,
     "solution": false
    },
    "scrolled": true
   },
   "outputs": [
    {
     "data": {
      "image/png": "[encoded data removed]",
      "text/plain": [
       "<Figure size 300x300 with 1 Axes>"
      ]
     },
     "metadata": {},
     "output_type": "display_data"
    }
   ],
   "source": [
    "def matrix_from_pair_dict(pair_dict):\n",
    "    labels = sorted({a for a, b in pair_dict.keys()})\n",
    "    matrix = [[pair_dict[a, b] for b in labels] for a in labels]\n",
    "    return labels, matrix\n",
    "\n",
    "def plot_submatrix(submatrix):\n",
    "    labels, matrix = matrix_from_pair_dict(submatrix)\n",
    "    plt.figure(figsize=(2, 2), dpi=150)\n",
    "    plt.imshow(matrix, cmap=\"RdBu\")\n",
    "    label_indices = list(range(len(labels)))\n",
    "    plt.xticks(label_indices, labels)\n",
    "    plt.yticks(label_indices, labels)\n",
    "    for i in label_indices:\n",
    "        for j in label_indices:\n",
    "            plt.text(j, i, round(matrix[i][j], 1),\n",
    "                     ha=\"center\", va=\"center\", color=\"w\")\n",
    "    plt.show()\n",
    "    \n",
    "plot_submatrix(human_chimp_submatrix)"
   ]
  },
  {
   "cell_type": "markdown",
   "metadata": {
    "nbgrader": {
     "grade": false,
     "grade_id": "cell-0b1713bdb748123b",
     "locked": true,
     "schema_version": 1,
     "solution": false
    }
   },
   "source": [
    "What do you notice about this substitution matrix?  Noting that `A` and `G` are both *purine* bases and that `C` and `T` are both *pyrimadine* bases, is there anything interesting about this matrix?"
   ]
  },
  {
   "cell_type": "markdown",
   "metadata": {},
   "source": [
    "### BEGIN SOLUTION=Your thoughts here\n",
    "The scores for transition events (mutating from purine to purine or from pyrimadine to pyrimadine) are higher (less of a penalty) than those for transversion events (mutating from purine to pyrimadine or vice versa).  This indicates that transitions are more frequent than transversions in the human and chimp genomes.  Also, the match scores for C and G are higher than those for A and T, mostly because the frequency of A and T is higher.\n",
    "### END SOLUTION"
   ]
  },
  {
   "cell_type": "markdown",
   "metadata": {
    "nbgrader": {
     "grade": false,
     "grade_id": "cell-fcde2c20f060fd6e",
     "locked": true,
     "schema_version": 1,
     "solution": false
    }
   },
   "source": [
    "## Distribution of the scores of local alignments between random sequences"
   ]
  },
  {
   "cell_type": "markdown",
   "metadata": {
    "nbgrader": {
     "grade": false,
     "grade_id": "cell-f645b1a24a0d6410",
     "locked": true,
     "schema_version": 1,
     "solution": false
    }
   },
   "source": [
    "### PROBLEM 5: Best ungapped local alignment score (1 POINT)\n",
    "We will examine the distribution of scores of ungapped local alignments between a pair of random (unrelated) sequences.  To do this we will need a function to find the best score of an ungapped local alignment between a pair of sequences.  This can be accomplished via a simplified version of the Smith–Waterman algorithm.  Since we will not allow gaps in alignments, the recurrence for the algorithm simply becomes:\n",
    "\n",
    "$M[i, j] = \\max \\left\\{\\begin{array}{l}\n",
    "0, \\\\\n",
    "M[i - 1, j - 1] + s(x_i, y_j)\n",
    "\\end{array}\n",
    "\\right.$\n",
    "\n",
    "Complete the implementation of the function below to compute the best score of an ungapped local alignment between a pair of sequences, `x` and `y`, with the substitution matrix, `submatrix`."
   ]
  },
  {
   "cell_type": "code",
   "execution_count": 15,
   "metadata": {
    "collapsed": true,
    "nbgrader": {
     "grade": false,
     "grade_id": "cell-6a5300874eed19d8",
     "locked": false,
     "schema_version": 1,
     "solution": true
    }
   },
   "outputs": [],
   "source": [
    "def matrix(num_rows, num_cols, initial_value):\n",
    "    \"\"\"Returns a matrix (a list of rows, each of which is a list) \n",
    "    with num_rows and num_cols and with initial_value in each entry\"\"\"\n",
    "    return [[initial_value] * num_cols for i in range(num_rows)]\n",
    "\n",
    "def best_ungapped_local_alignment_score(x, y, submatrix):\n",
    "    \"\"\"Computes the score of the best ungapped local alignment between two sequences.\n",
    "    \n",
    "    Args:\n",
    "        x: a string representing the first sequence\n",
    "        y: a string representing the second sequence\n",
    "        submatrix: a substitution matrix represented as dictionary\n",
    "    Returns:\n",
    "        The score of the best ungapped local alignment.\n",
    "    \"\"\"    \n",
    "    # construct a dynamic programming matrix\n",
    "    m = matrix(len(x) + 1, len(y) + 1, 0)\n",
    "    # initialization is zeros in first row and first column, which is already done\n",
    "    # now we do the main fill stage of the rest of the entries\n",
    "    for i in range(1, len(x) + 1):\n",
    "        for j in range(1, len(y) + 1):\n",
    "            ### BEGIN SOLUTION\n",
    "            m[i][j] = max(0, m[i - 1][j - 1] + submatrix[x[i - 1], y[j - 1]])\n",
    "            ### END SOLUTION\n",
    "    return max(map(max, m))"
   ]
  },
  {
   "cell_type": "code",
   "execution_count": 16,
   "metadata": {
    "nbgrader": {
     "grade": true,
     "grade_id": "best_ungapped_local_alignment_score",
     "locked": true,
     "points": 1,
     "schema_version": 1,
     "solution": false
    },
    "scrolled": true
   },
   "outputs": [
    {
     "name": "stdout",
     "output_type": "stream",
     "text": [
      "SUCCESS: best_ungapped_local_alignment_score passed all tests!\n"
     ]
    }
   ],
   "source": [
    "# tests for best_ungapped_local_alignment_score\n",
    "test_matrix3 = {('A', 'A'): 1.0, ('A', 'C'): -5.0, ('A', 'G'): -3.0, ('A', 'T'): -5.0,\n",
    "                ('C', 'A'): -5.0, ('C', 'C'): 2.0, ('C', 'G'): -4.0, ('C', 'T'): -3.0,\n",
    "                ('G', 'A'): -3.0, ('G', 'C'): -4.0, ('G', 'G'): 2.0, ('G', 'T'): -5.0,\n",
    "                ('T', 'A'): -5.0, ('T', 'C'): -3.0, ('T', 'G'): -5.0, ('T', 'T'): 1.0}\n",
    "assert best_ungapped_local_alignment_score(\"TCTGA\", \"GATG\", test_matrix3) == 3.0\n",
    "assert best_ungapped_local_alignment_score(\"TGA\", \"TTAG\", test_matrix3) == 2.0\n",
    "assert best_ungapped_local_alignment_score(\"TGA\", \"TTGAA\", test_matrix3) == 4.0\n",
    "assert best_ungapped_local_alignment_score(\"TGC\", \"AAA\", test_matrix3) == 0.0\n",
    "assert best_ungapped_local_alignment_score(\"TGACTAGGACTTAGC\", \"AACATGACTGGGACTGAATGCA\", test_matrix3) == 12.0\n",
    "print(\"SUCCESS: best_ungapped_local_alignment_score passed all tests!\")"
   ]
  },
  {
   "cell_type": "markdown",
   "metadata": {
    "nbgrader": {
     "grade": false,
     "grade_id": "cell-b43aea8c053ddb70",
     "locked": true,
     "schema_version": 1,
     "solution": false
    }
   },
   "source": [
    "### Generate a large set of best ungapped local alignment scores between pairs of random sequences\n",
    "Use your `best_ungapped_local_alignment_score` function to compute the best ungapped local alignment score for a large number (say 2000) of random pairs of sequences.  To keep runtime manageable, make your sequences 100 bases each.  Use your human-chimp substitution matrix, or the `test_matrix3` in the testing cell above.  You may find the `shuffle_seq` function below of use."
   ]
  },
  {
   "cell_type": "code",
   "execution_count": 17,
   "metadata": {
    "collapsed": true,
    "nbgrader": {
     "grade": false,
     "grade_id": "cell-8db714d8ce929223",
     "locked": true,
     "schema_version": 1,
     "solution": false
    }
   },
   "outputs": [],
   "source": [
    "def shuffle_seq(s):\n",
    "    \"\"\"Returns a new string that is a randomly shuffled version of the input string.\n",
    "    \n",
    "    Args:\n",
    "        s: a string\n",
    "    Returns:\n",
    "        A string with the same characters as the input string but in a random order\n",
    "    \"\"\"      \n",
    "    s_list = list(s)\n",
    "    random.shuffle(s_list)\n",
    "    return ''.join(s_list)"
   ]
  },
  {
   "cell_type": "code",
   "execution_count": 18,
   "metadata": {
    "collapsed": true
   },
   "outputs": [],
   "source": [
    "### BEGIN SOLUTION\n",
    "query = \"A\" * 25 + \"C\" * 25 + \"G\" * 25 + \"T\" * 25\n",
    "random_scores = [best_ungapped_local_alignment_score(shuffle_seq(query), shuffle_seq(query), test_matrix3)\n",
    "                 for i in range(2000)]\n",
    "### END SOLUTION"
   ]
  },
  {
   "cell_type": "markdown",
   "metadata": {
    "nbgrader": {
     "grade": false,
     "grade_id": "cell-1cb3add9e9ad1d6c",
     "locked": true,
     "schema_version": 1,
     "solution": false
    }
   },
   "source": [
    "Plot the distribution of your set of scores between random sequences using `pyplot.hist` below:"
   ]
  },
  {
   "cell_type": "code",
   "execution_count": 19,
   "metadata": {
    "scrolled": true
   },
   "outputs": [
    {
     "data": {
      "image/png": "[encoded data removed]",
      "text/plain": [
       "<Figure size 432x288 with 1 Axes>"
      ]
     },
     "metadata": {},
     "output_type": "display_data"
    }
   ],
   "source": [
    "### BEGIN SOLUTION\n",
    "plt.hist(random_scores, bins=range(0, int(max(random_scores)) + 1))\n",
    "plt.xlim(0, max(random_scores))\n",
    "plt.xlabel(\"best ungapped local alignment score\")\n",
    "plt.ylabel(\"# of pairs of sequences\")\n",
    "plt.show()\n",
    "### END SOLUTION"
   ]
  },
  {
   "cell_type": "markdown",
   "metadata": {
    "nbgrader": {
     "grade": false,
     "grade_id": "cell-73bc82d4c9b9f321",
     "locked": true,
     "schema_version": 1,
     "solution": false
    }
   },
   "source": [
    "Compare your distribution above with the theoretical distribution, which is a form of a *extreme value distribution*.  The function below gives the density of this distribution.  The parameter `N` should be the number of possible starting points for an ungapped local alignment, which is $n^2$ for two sequences of the same length $n$."
   ]
  },
  {
   "cell_type": "code",
   "execution_count": 20,
   "metadata": {
    "collapsed": true,
    "nbgrader": {
     "grade": false,
     "grade_id": "cell-f9ac6363ca6896dd",
     "locked": true,
     "schema_version": 1,
     "solution": false
    }
   },
   "outputs": [],
   "source": [
    "def evd(x, N):\n",
    "    \"\"\"Returns the density of the extreme value distribution at x, with parameter N.\"\"\"\n",
    "    return N * math.exp(-N * math.exp(-x) - x)"
   ]
  },
  {
   "cell_type": "markdown",
   "metadata": {
    "nbgrader": {
     "grade": false,
     "grade_id": "cell-204e545409fa8fea",
     "locked": true,
     "schema_version": 1,
     "solution": false
    }
   },
   "source": [
    "In the cell below, plot a the density of the extreme value distribution to see how well is matches with the distribution from the random scores.  To do so, evaluate the `evd` at a range of values of `x` spanning the range of scores found from aligning random pairs of sequences."
   ]
  },
  {
   "cell_type": "code",
   "execution_count": 21,
   "metadata": {},
   "outputs": [
    {
     "data": {
      "image/png": "[encoded data removed]",
      "text/plain": [
       "<Figure size 432x288 with 1 Axes>"
      ]
     },
     "metadata": {},
     "output_type": "display_data"
    }
   ],
   "source": [
    "### BEGIN SOLUTION\n",
    "evd_x = [x / 10 for x in range(0, 170)]\n",
    "evd_y = [evd(x, len(query) * len(query)) for x in evd_x]\n",
    "plt.plot(evd_x, evd_y)\n",
    "plt.xlabel(\"x\")\n",
    "plt.ylabel(\"evd density\")\n",
    "plt.show()\n",
    "### END SOLUTION"
   ]
  }
 ],
 "metadata": {
  "celltoolbar": "Create Assignment",
  "kernelspec": {
   "display_name": "Python 3",
   "language": "python",
   "name": "python3"
  },
  "language_info": {
   "codemirror_mode": {
    "name": "ipython",
    "version": 3
   },
   "file_extension": ".py",
   "mimetype": "text/x-python",
   "name": "python",
   "nbconvert_exporter": "python",
   "pygments_lexer": "ipython3",
   "version": "3.8.5"
  }
 },
 "nbformat": 4,
 "nbformat_minor": 2
}
