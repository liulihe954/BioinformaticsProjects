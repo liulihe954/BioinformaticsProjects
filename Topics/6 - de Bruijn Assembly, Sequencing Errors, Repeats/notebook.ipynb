{
 "cells": [
  {
   "cell_type": "markdown",
   "metadata": {
    "nbgrader": {
     "grade": false,
     "grade_id": "cell-5cbb556bc98f2124",
     "locked": true,
     "schema_version": 1,
     "solution": false
    }
   },
   "source": [
    "# Day 6 notebook\n",
    "\n",
    "The objectives of this notebook are to practice with the concepts of\n",
    "\n",
    "* de Bruijn assembly\n",
    "* sequencing errors\n",
    "* repeats\n",
    "\n",
    "This notebook is intended to be solved by hand.  You are welcome to use any code if that helps you.  You are strongly encouraged to work with your group members to understand and solve each problem."
   ]
  },
  {
   "cell_type": "markdown",
   "metadata": {
    "nbgrader": {
     "grade": false,
     "grade_id": "cell-6d0236d29631f9bb",
     "locked": true,
     "schema_version": 1,
     "solution": false
    }
   },
   "source": [
    "## PROBLEM 1: Minimum overlap lengths and read spectra (1 POINT)\n",
    "Recall that the de Bruijn approach to genome assembly with shotgun sequencing reads is to approximate the $k$-mer spectrum of the genome by the union of the $k$-mer spectra of the reads and then to use an Eulerian path approach to computing the assembly.  In the absence of sequencing errors, this approach may be successful if the read spectrum is equal to the genome spectrum.\n",
    "\n",
    "On the other hand, the fragment assembly approach for the same shotgun sequencing data is to find overlaps between pairs of reads and then to compute a superstring (ideally the shortest such superstring).  In practice, one typically only considers overlaps between pairs of reads that are at least of some minimum length, `min_length`.  Thus, in the absence of sequencing errors, this approach may be successful if the reads cover every position of the genome *and* and each pair of adjacent reads (in terms of their position along the genome) overlaps by at least `min_length`.\n",
    "\n",
    "In this problem, we will explore the relationship between the `min_length` parameter for fragment assembly and the value of $k$ for the de Bruijn approach.\n",
    "\n",
    "Suppose that a set of error-free shotgun sequencing reads satisfies the requirements for fragment assembly to be successful with a minimum overlap length of `min_length` and that all reads are longer than twice the value of `min_length`.  As a function of `min_length`, what is the largest value of $k$ such that we are guaranteed that the read spectrum is equal to the genome spectrum (such that the de Bruijn approach may be successful)?\n",
    "\n",
    "*Hint: consider k-mers that come from a region of the genome where two reads overlap by exactly `min_overlap` bases*"
   ]
  },
  {
   "cell_type": "markdown",
   "metadata": {},
   "source": [
    "### BEGIN SOLUTION TEMPLATE=Your written answer in terms of $k$\n",
    "$k = min\\_length + 1$\n",
    "### END SOLUTION"
   ]
  },
  {
   "cell_type": "markdown",
   "metadata": {
    "nbgrader": {
     "grade": false,
     "grade_id": "cell-8252c45502e72cd1",
     "locked": true,
     "schema_version": 1,
     "solution": false
    }
   },
   "source": [
    "For autograding purposes, answer this question for `min_length` = 20 below by assigning the appropriate value to the variable `k`."
   ]
  },
  {
   "cell_type": "code",
   "execution_count": 1,
   "metadata": {
    "collapsed": true,
    "nbgrader": {
     "grade": false,
     "grade_id": "cell-07671210270ae9d3",
     "locked": false,
     "schema_version": 1,
     "solution": true
    }
   },
   "outputs": [],
   "source": [
    "### BEGIN SOLUTION TEMPLATE=k = ?\n",
    "k = 21\n",
    "### END SOLUTION"
   ]
  },
  {
   "cell_type": "code",
   "execution_count": 2,
   "metadata": {
    "collapsed": true,
    "nbgrader": {
     "grade": true,
     "grade_id": "problem_1",
     "locked": true,
     "points": 1,
     "schema_version": 1,
     "solution": false
    }
   },
   "outputs": [],
   "source": [
    "# autograding tests for your specific value of k for the case when min_length = 20\n",
    "assert isinstance(k, int), \"k should be assigned an integer value\"\n",
    "### BEGIN HIDDEN TESTS\n",
    "assert k == 21\n",
    "### END HIDDEN TESTS"
   ]
  },
  {
   "cell_type": "markdown",
   "metadata": {
    "nbgrader": {
     "grade": false,
     "grade_id": "cell-e0bc2a991e58baaf",
     "locked": true,
     "schema_version": 1,
     "solution": false
    }
   },
   "source": [
    "## PROBLEM 2: Sequencing errors and $k$-mers (1 POINT)\n",
    "Sequencing errors in reads result in the spectra for those reads having potentially false $k$-mers (i.e., $k$-mers that are not in the genome spectrum).  For a read of length $L$, what is the minimum number of base substitution errors in the read such that the read may contain *only* false $k$-mers?"
   ]
  },
  {
   "cell_type": "markdown",
   "metadata": {},
   "source": [
    "### BEGIN SOLUTION TEMPLATE=Your written answer in terms of $L$ and $k$\n",
    "$\\left\\lfloor \\frac{L}{k}\\right\\rfloor$\n",
    "### END SOLUTION"
   ]
  },
  {
   "cell_type": "markdown",
   "metadata": {
    "nbgrader": {
     "grade": false,
     "grade_id": "cell-5e57f5544faadf32",
     "locked": true,
     "schema_version": 1,
     "solution": false
    }
   },
   "source": [
    "For autograding purposes, answer this question for `L` = 100 and `k` = 15 below by assigning the appropriate value to the variable `min_errors`."
   ]
  },
  {
   "cell_type": "code",
   "execution_count": 3,
   "metadata": {
    "collapsed": true,
    "nbgrader": {
     "grade": false,
     "grade_id": "cell-a66407ddf83ab6a3",
     "locked": false,
     "schema_version": 1,
     "solution": true
    }
   },
   "outputs": [],
   "source": [
    "### BEGIN SOLUTION TEMPLATE=min_errors = ?\n",
    "min_errors = 100 // 15\n",
    "### END SOLUTION"
   ]
  },
  {
   "cell_type": "code",
   "execution_count": 4,
   "metadata": {
    "collapsed": true,
    "nbgrader": {
     "grade": true,
     "grade_id": "problem_2",
     "locked": true,
     "points": 1,
     "schema_version": 1,
     "solution": false
    }
   },
   "outputs": [],
   "source": [
    "# autograding tests for your specific value of min_errors for L = 100 and k = 15\n",
    "assert isinstance(min_errors, int), \"min_errors should be assigned an integer value\"\n",
    "### BEGIN HIDDEN TESTS\n",
    "assert min_errors == 100 // 15\n",
    "### END HIDDEN TESTS"
   ]
  },
  {
   "cell_type": "markdown",
   "metadata": {
    "nbgrader": {
     "grade": false,
     "grade_id": "cell-59081d22b228c71e",
     "locked": true,
     "schema_version": 1,
     "solution": false
    }
   },
   "source": [
    "## PROBLEM 3: Repeats (1 POINT)\n",
    "Suppose you are given the following set of reads:\n",
    "\n",
    "    AAACT\n",
    "    AAAGG\n",
    "    AAAGT\n",
    "    AAATT\n",
    "    CCAAA\n",
    "    CTAAA\n",
    "    GGAAA\n",
    "    TTAAA\n",
    "\n",
    "How many shortest superstrings are there for this set of reads?"
   ]
  },
  {
   "cell_type": "markdown",
   "metadata": {
    "nbgrader": {
     "grade": false,
     "grade_id": "cell-25aca39fe05320a5",
     "locked": true,
     "schema_version": 1,
     "solution": false
    }
   },
   "source": [
    "For autograding purposes, answer this question below by assigning the appropriate value to the variable `num_shortest_superstrings`."
   ]
  },
  {
   "cell_type": "code",
   "execution_count": 5,
   "metadata": {
    "collapsed": true,
    "nbgrader": {
     "grade": false,
     "grade_id": "cell-41e22d418828d35b",
     "locked": false,
     "schema_version": 1,
     "solution": true
    }
   },
   "outputs": [],
   "source": [
    "### BEGIN SOLUTION TEMPLATE=num_shortest_superstrings = ?\n",
    "num_shortest_superstrings = 6\n",
    "### END SOLUTION"
   ]
  },
  {
   "cell_type": "code",
   "execution_count": 6,
   "metadata": {
    "collapsed": true,
    "nbgrader": {
     "grade": true,
     "grade_id": "problem_3",
     "locked": true,
     "points": 1,
     "schema_version": 1,
     "solution": false
    }
   },
   "outputs": [],
   "source": [
    "# autograding tests for num_shortest_superstrings\n",
    "assert isinstance(num_shortest_superstrings, int), \"num_shortest_superstrings should be assigned an integer value\"\n",
    "### BEGIN HIDDEN TESTS\n",
    "assert num_shortest_superstrings == 6\n",
    "### END HIDDEN TESTS"
   ]
  }
 ],
 "metadata": {
  "celltoolbar": "Create Assignment",
  "kernelspec": {
   "display_name": "Python 3 [3.6]",
   "language": "python",
   "name": "python3"
  },
  "language_info": {
   "codemirror_mode": {
    "name": "ipython",
    "version": 3
   },
   "file_extension": ".py",
   "mimetype": "text/x-python",
   "name": "python",
   "nbconvert_exporter": "python",
   "pygments_lexer": "ipython3",
   "version": "3.6.4"
  }
 },
 "nbformat": 4,
 "nbformat_minor": 2
}
