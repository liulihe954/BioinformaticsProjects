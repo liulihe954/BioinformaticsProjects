{
 "cells": [
  {
   "cell_type": "markdown",
   "metadata": {
    "nbgrader": {
     "grade": false,
     "grade_id": "cell-71ddaf9065ce95a7",
     "locked": true,
     "schema_version": 1,
     "solution": false
    }
   },
   "source": [
    "# Day 17 notebook\n",
    "\n",
    "The objectives of this notebook are to practice using a Markov chain to\n",
    "\n",
    "* simulate sequences\n",
    "* calculate the (log) probability of a sequence\n",
    "* discriminate between classes of sequences "
   ]
  },
  {
   "cell_type": "code",
   "execution_count": 1,
   "metadata": {
    "collapsed": true,
    "nbgrader": {
     "grade": false,
     "grade_id": "cell-7b34686f4e46180e",
     "locked": true,
     "schema_version": 1,
     "solution": false
    }
   },
   "outputs": [],
   "source": [
    "# Modules used in this activity\n",
    "import random  # used by sample_categorical\n",
    "import math    # for log\n",
    "from matplotlib import pyplot as plt # for plotting"
   ]
  },
  {
   "cell_type": "markdown",
   "metadata": {
    "nbgrader": {
     "grade": false,
     "grade_id": "cell-09d299b1a33a8854",
     "locked": true,
     "schema_version": 1,
     "solution": false
    }
   },
   "source": [
    "## A `MarkovChain` class\n",
    "In this activity we will implement a Markov chain model as a class.  You will be implementing two methods of this class, one to simulate sequences from the Markov chain, and another that computes the probability of a sequence given the Markov chain.\n",
    "\n",
    "We will be representing each state by a single character and a Markov chain sequence as a string of state characters.  This will make it easy to work with Markov chains of biological sequences such as DNA.  However, to make the computations easier, the transition probability matrix and initial probabilities will be indexed by integers corresponding to the indices of the characters within the state string of the model.  Methods are provided that convert from a string of state characters to a list of state indices and vice versa, for your convenience.\n",
    "\n",
    "Provided are parameters for the CpG and null DNA models described in the lecture/textbook, which are then used to construct instances of the MarkovChain class."
   ]
  },
  {
   "cell_type": "code",
   "execution_count": 2,
   "metadata": {
    "collapsed": true,
    "nbgrader": {
     "grade": false,
     "grade_id": "cell-fa4c3352b3fd7b95",
     "locked": false,
     "schema_version": 1,
     "solution": true
    }
   },
   "outputs": [],
   "source": [
    "class MarkovChain:\n",
    "    def __init__(self, states, transition_prob_matrix, initial_probs):\n",
    "        \"\"\"Initializes a MarkovChain\n",
    "        \n",
    "        Args:\n",
    "            states: a string giving the characters representing the states of the model (1 character per state)\n",
    "            transition_prob_matrix: a list of lists of probabilities representing a transition probability matrix.\n",
    "                transition_prob_matrix[s][t] should equal P(X_i = t | X_{i-1} = s)\n",
    "                Row s is thus the conditional probability distribution P(X_i | X_{i-1} = s)\n",
    "                The indices in this matrix correspond to the indices of the states in the states argument\n",
    "            initial_probs: a list of probabilities representing the initial state probabilities.\n",
    "                Entry t of this list is P(X_1 = s), i.e., the probability that the first state in the chain is t.\n",
    "                The indices of this list correspond to the indices of the states in the states argument.\n",
    "        \"\"\"\n",
    "        self.states = states\n",
    "        self.transition_prob_matrix = transition_prob_matrix\n",
    "        self.initial_probs = initial_probs\n",
    "    \n",
    "    def encode(self, sequence):\n",
    "        \"\"\"Encodes a string of state characters as a list of indices of the states.\"\"\"\n",
    "        return [self.states.index(char) for char in sequence]\n",
    "\n",
    "    def decode(self, indices):\n",
    "        \"\"\"Decodes a sequence of state indices into a string of the state characters.\"\"\"\n",
    "        return \"\".join(self.states[index] for index in indices)\n",
    "    \n",
    "    def simulate(self, length):\n",
    "        \"\"\"Simulates a sequence of the given length from this Markov chain\"\"\"\n",
    "        ### BEGIN SOLUTION\n",
    "        indices = [None] * length\n",
    "        if length > 0:\n",
    "            indices[0] = sample_categorical(self.initial_probs)\n",
    "        for i in range(1, length):\n",
    "            indices[i] = sample_categorical(self.transition_prob_matrix[indices[i - 1]])\n",
    "        return self.decode(indices)\n",
    "        ### END SOLUTION\n",
    "        \n",
    "    def sequence_log_probability(self, sequence):\n",
    "        \"\"\"Calculates the (natural) log probability (log(P(sequence))) of a sequence given this Markov chain\"\"\"\n",
    "        ### BEGIN SOLUTION\n",
    "        probs = [None] * len(sequence)\n",
    "        encoded_sequence = self.encode(sequence)\n",
    "        if encoded_sequence:\n",
    "            probs[0] = initial_probs[encoded_sequence[0]]\n",
    "            for i in range(1, len(encoded_sequence)):\n",
    "                probs[i] = self.transition_prob_matrix[encoded_sequence[i - 1]][encoded_sequence[i]]\n",
    "        return sum(map(math.log, probs))\n",
    "        ### END SOLUTION\n",
    "\n",
    "\n",
    "# Using the class above, we construct two Markov chain models corresponding to the CpG and null\n",
    "# DNA models described in the lecture and textbook\n",
    "dna_chain_states = \"ACGT\"\n",
    "initial_probs = [0.25, 0.25, 0.25, 0.25]\n",
    "cpg_transition_prob_matrix = [\n",
    "    [0.18, 0.27, 0.43, 0.12],\n",
    "    [0.17, 0.37, 0.27, 0.19],\n",
    "    [0.16, 0.34, 0.38, 0.12],\n",
    "    [0.08, 0.36, 0.38, 0.18]\n",
    "]\n",
    "null_transition_prob_matrix = [\n",
    "    [0.30, 0.21, 0.28, 0.21],\n",
    "    [0.32, 0.30, 0.08, 0.30],\n",
    "    [0.25, 0.24, 0.30, 0.21],\n",
    "    [0.18, 0.24, 0.29, 0.29]\n",
    "]\n",
    "cpg_chain = MarkovChain(dna_chain_states, cpg_transition_prob_matrix, initial_probs)\n",
    "null_chain = MarkovChain(dna_chain_states, null_transition_prob_matrix, initial_probs)"
   ]
  },
  {
   "cell_type": "markdown",
   "metadata": {
    "nbgrader": {
     "grade": false,
     "grade_id": "cell-1c2dad1832e2ccf3",
     "locked": true,
     "schema_version": 1,
     "solution": false
    }
   },
   "source": [
    "Below is a function that you will need to use in implementing the `simulate` method."
   ]
  },
  {
   "cell_type": "code",
   "execution_count": 3,
   "metadata": {
    "collapsed": true,
    "nbgrader": {
     "grade": false,
     "grade_id": "cell-c83b7ab425a2a796",
     "locked": true,
     "schema_version": 1,
     "solution": false
    }
   },
   "outputs": [],
   "source": [
    "def sample_categorical(distribution):\n",
    "    \"\"\"Randomly sample from a categorical distribution (a discrete distribution over K categories).\n",
    "    \n",
    "    Args:\n",
    "        distribution: a list of probabilities representing a discrete distribution over K categories.\n",
    "    Returns:\n",
    "        The index of the category sampled.\n",
    "    \"\"\"\n",
    "    r = random.random()\n",
    "    for i, prob in enumerate(distribution):\n",
    "        if r < prob:\n",
    "            return i\n",
    "        else:\n",
    "            r -= prob\n",
    "    # in case we encounter floating point issues return the last index\n",
    "    return len(distribution) - 1"
   ]
  },
  {
   "cell_type": "code",
   "execution_count": 4,
   "metadata": {
    "nbgrader": {
     "grade": false,
     "grade_id": "cell-b2893c3792d997c3",
     "locked": true,
     "schema_version": 1,
     "solution": false
    }
   },
   "outputs": [
    {
     "data": {
      "text/plain": [
       "[3, 2, 3, 3, 1, 2, 0, 0, 3, 1, 2, 2, 2, 3, 3, 0, 2, 1, 1, 2]"
      ]
     },
     "execution_count": 4,
     "metadata": {},
     "output_type": "execute_result"
    }
   ],
   "source": [
    "# example of taking 20 draws from the initial probability distribution:\n",
    "[sample_categorical(initial_probs) for i in range(20)]"
   ]
  },
  {
   "cell_type": "markdown",
   "metadata": {
    "nbgrader": {
     "grade": false,
     "grade_id": "cell-119d677b65233eed",
     "locked": true,
     "schema_version": 1,
     "solution": false
    }
   },
   "source": [
    "## PROBLEM 1: Simulate a sequence from a Markov chain (1 POINT)\n",
    "\n",
    "Implement the `simulate` method of the `MarkovChain` class.  You should call the `sample_categorical` function provided to you above to sample each state of the chain from the appropriate distribution."
   ]
  },
  {
   "cell_type": "code",
   "execution_count": 5,
   "metadata": {
    "nbgrader": {
     "grade": true,
     "grade_id": "simulate",
     "locked": true,
     "points": 1,
     "schema_version": 1,
     "solution": false
    }
   },
   "outputs": [
    {
     "name": "stdout",
     "output_type": "stream",
     "text": [
      "SUCCESS: simulate passed all tests!\n"
     ]
    }
   ],
   "source": [
    "# tests for simulate\n",
    "random.seed(42)\n",
    "assert cpg_chain.simulate(1) == 'G'\n",
    "random.seed(42)\n",
    "assert cpg_chain.simulate(2) == 'GA'\n",
    "random.seed(42)\n",
    "assert cpg_chain.simulate(3) == 'GAC'\n",
    "random.seed(42)\n",
    "assert cpg_chain.simulate(4) == 'GACC'\n",
    "random.seed(42)\n",
    "assert cpg_chain.simulate(10) == 'GACCGGTCCA'\n",
    "random.seed(42)\n",
    "assert null_chain.simulate(10) == 'GAAAGGTACA'\n",
    "print(\"SUCCESS: simulate passed all tests!\")"
   ]
  },
  {
   "cell_type": "markdown",
   "metadata": {
    "nbgrader": {
     "grade": false,
     "grade_id": "cell-e0f50d3c44c7e68a",
     "locked": true,
     "schema_version": 1,
     "solution": false
    }
   },
   "source": [
    "## PROBLEM 2: Calculate the (log) probability of a sequence given a Markov chain (1 POINT)\n",
    "\n",
    "Implement the `sequence_log_probability` method of the `MarkovChain` class.  To avoid numerical issues, be sure to implement this as a *sum* of *log-transformed* probability parameters from the model.  If you implement this by taking the logarithm of the product of the probabilities, you will run into numerical problems for long sequences."
   ]
  },
  {
   "cell_type": "code",
   "execution_count": 6,
   "metadata": {
    "nbgrader": {
     "grade": true,
     "grade_id": "sequence_log_probability",
     "locked": true,
     "points": 1,
     "schema_version": 1,
     "solution": false
    },
    "scrolled": true
   },
   "outputs": [
    {
     "name": "stdout",
     "output_type": "stream",
     "text": [
      "SUCCESS: sequence_log_probability passed all tests!\n"
     ]
    }
   ],
   "source": [
    "# tests for sequence_log_probability\n",
    "assert round(cpg_chain.sequence_log_probability('G'), 2) == -1.39\n",
    "assert round(cpg_chain.sequence_log_probability('GA'), 2) == -3.22\n",
    "assert round(cpg_chain.sequence_log_probability('GAC'), 2) == -4.53\n",
    "assert round(cpg_chain.sequence_log_probability('GACCGGTCCA'), 2) == -13.71\n",
    "assert round(cpg_chain.sequence_log_probability('A' * 1000), 2) == -1714.47\n",
    "assert round(null_chain.sequence_log_probability('G'), 2) == -1.39\n",
    "assert round(null_chain.sequence_log_probability('GA'), 2) == -2.77\n",
    "assert round(null_chain.sequence_log_probability('GAC'), 2) == -4.33\n",
    "assert round(null_chain.sequence_log_probability('GACCGGTCCA'), 2) == -14.6\n",
    "assert round(null_chain.sequence_log_probability('A' * 1000), 2) == -1204.16\n",
    "print(\"SUCCESS: sequence_log_probability passed all tests!\")"
   ]
  },
  {
   "cell_type": "markdown",
   "metadata": {
    "nbgrader": {
     "grade": false,
     "grade_id": "cell-eed4da6818775e3a",
     "locked": true,
     "schema_version": 1,
     "solution": false
    }
   },
   "source": [
    "## PROBLEM 3: Discriminating between sequence classes with Markov chains (1 POINT)\n",
    "\n",
    "Implement the function `log_ratio_score` below, which computes the log of the ratio of the probability of a sequence given two competing Markov chain models.  This should just be a one-liner."
   ]
  },
  {
   "cell_type": "code",
   "execution_count": 7,
   "metadata": {
    "collapsed": true,
    "nbgrader": {
     "grade": false,
     "grade_id": "cell-e3f2fcaebceb7927",
     "locked": false,
     "schema_version": 1,
     "solution": true
    }
   },
   "outputs": [],
   "source": [
    "def log_ratio_score(sequence, model1, model2):\n",
    "    \"\"\"Calculates the log odds score of sequence for model1 vs. model2.\n",
    "\n",
    "    Args:\n",
    "        sequence: a string representing a sequence that could have been generated from either model\n",
    "        model1: the first model as a MarkovChain object\n",
    "        model2: the second model as a MarkovChain object\n",
    "    Returns:\n",
    "        log(P(sequence | model1) / P(sequence | model2))\n",
    "    \"\"\"\n",
    "    ### BEGIN SOLUTION\n",
    "    return model1.sequence_log_probability(sequence) - model2.sequence_log_probability(sequence)\n",
    "    ### END SOLUTION"
   ]
  },
  {
   "cell_type": "code",
   "execution_count": 8,
   "metadata": {
    "nbgrader": {
     "grade": true,
     "grade_id": "log_ratio_score",
     "locked": true,
     "points": 1,
     "schema_version": 1,
     "solution": false
    }
   },
   "outputs": [
    {
     "name": "stdout",
     "output_type": "stream",
     "text": [
      "SUCCESS: log_ratio_score passed all tests!\n"
     ]
    }
   ],
   "source": [
    "# tests for log_ratio_score\n",
    "assert round(log_ratio_score('G', cpg_chain, null_chain), 2) == 0.0\n",
    "assert round(log_ratio_score('GA', cpg_chain, null_chain), 2) == -0.45\n",
    "assert round(log_ratio_score('GAC', cpg_chain, null_chain), 2) == -0.19\n",
    "assert round(log_ratio_score('GACCGGTCCA', cpg_chain, null_chain), 2) == 0.89\n",
    "assert round(log_ratio_score('CGACGCGTTT', cpg_chain, null_chain), 2) == 2.29\n",
    "print(\"SUCCESS: log_ratio_score passed all tests!\")"
   ]
  },
  {
   "cell_type": "markdown",
   "metadata": {
    "nbgrader": {
     "grade": false,
     "grade_id": "cell-635997a47b7682d7",
     "locked": true,
     "schema_version": 1,
     "solution": false
    }
   },
   "source": [
    "### Putting it all together: discriminating between CpG and null sequences\n",
    "\n",
    "Lastly, let's put all of your work together to simulate some sequences from both the CpG and null models, and then score them according to the `log_ratio_score` to see if the simulated sequences are classified correctly by this score."
   ]
  },
  {
   "cell_type": "code",
   "execution_count": 9,
   "metadata": {
    "collapsed": true,
    "nbgrader": {
     "grade": false,
     "grade_id": "cell-0d9da17281ea1852",
     "locked": true,
     "schema_version": 1,
     "solution": false
    }
   },
   "outputs": [],
   "source": [
    "# simulate sequences from the two classes (CpG and null) and score them\n",
    "num_sequences_per_class = 1000\n",
    "sequence_length = 100\n",
    "null_sequences = [null_chain.simulate(sequence_length) for i in range(num_sequences_per_class)]\n",
    "cpg_sequences = [cpg_chain.simulate(sequence_length) for i in range(num_sequences_per_class)]\n",
    "null_sequence_scores = [log_ratio_score(sequence, cpg_chain, null_chain) for sequence in null_sequences]\n",
    "cpg_sequence_scores = [log_ratio_score(sequence, cpg_chain, null_chain) for sequence in cpg_sequences]"
   ]
  },
  {
   "cell_type": "code",
   "execution_count": 10,
   "metadata": {
    "nbgrader": {
     "grade": false,
     "grade_id": "cell-bfff62940bcb09e0",
     "locked": true,
     "schema_version": 1,
     "solution": false
    },
    "scrolled": false
   },
   "outputs": [
    {
     "data": {
      "image/png": "[encoded data removed]",
      "text/plain": [
       "<Figure size 700x600 with 2 Axes>"
      ]
     },
     "metadata": {},
     "output_type": "display_data"
    }
   ],
   "source": [
    "# plot the scores of the two classes of simulated sequences\n",
    "n_bins = 30\n",
    "plt.figure(figsize=(7, 6), dpi=100)\n",
    "ax1 = plt.subplot(2, 1, 1, title=\"Null sequences\")\n",
    "plt.hist(null_sequence_scores, bins=n_bins)\n",
    "plt.setp(ax1.get_xticklabels(), visible=False)\n",
    "plt.ylabel(\"# sequences\")\n",
    "ax2 = plt.subplot(2, 1, 2, sharex=ax1, title=\"CpG sequences\")\n",
    "plt.xlabel(\"score\")\n",
    "plt.ylabel(\"# sequences\")\n",
    "plt.hist(cpg_sequence_scores, bins=n_bins)\n",
    "plt.show()"
   ]
  },
  {
   "cell_type": "markdown",
   "metadata": {
    "nbgrader": {
     "grade": false,
     "grade_id": "cell-2342de927c61cd19",
     "locked": true,
     "schema_version": 1,
     "solution": false
    }
   },
   "source": [
    "Does it look like the log ratio score does a good job at discriminating between simulated CpG and null sequences?"
   ]
  },
  {
   "cell_type": "markdown",
   "metadata": {},
   "source": [
    "### BEGIN SOLUTION TEMPLATE=Your thoughts here\n",
    "Yes, it does.  Almost all null sequences have negative scores and almost all CpG sequences have positive scores.  The exceptions would result in a few misclassifications if we used the score to classify sequences, but overall it does very well, which is a reflection of how different the two classes of sequences are.\n",
    "### END SOLUTION"
   ]
  }
 ],
 "metadata": {
  "celltoolbar": "Create Assignment",
  "kernelspec": {
   "display_name": "Python 3",
   "language": "python",
   "name": "python3"
  },
  "language_info": {
   "codemirror_mode": {
    "name": "ipython",
    "version": 3
   },
   "file_extension": ".py",
   "mimetype": "text/x-python",
   "name": "python",
   "nbconvert_exporter": "python",
   "pygments_lexer": "ipython3",
   "version": "3.8.5"
  }
 },
 "nbformat": 4,
 "nbformat_minor": 2
}
